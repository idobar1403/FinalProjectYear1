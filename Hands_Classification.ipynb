{
 "cells": [
  {
   "cell_type": "code",
   "execution_count": 1,
   "id": "505c5eb9",
   "metadata": {},
   "outputs": [],
   "source": [
    "import pandas as pd\n",
    "from pandas import Series, DataFrame\n",
    "import os  # dealing with directories\n",
    "import cv2  # working with, mainly resizing, images\n",
    "import matplotlib.pyplot as plt\n",
    "import numpy as np\n",
    "import pandas as pd\n",
    "import seaborn as sns\n",
    "from sklearn.preprocessing import StandardScaler\n",
    "from PIL import Image as im\n",
    "from sklearn.decomposition import PCA\n",
    "from sklearn import metrics\n",
    "from sklearn.metrics import accuracy_score\n",
    "from sklearn.metrics import confusion_matrix\n",
    "from sklearn.metrics import classification_report,f1_score\n",
    "import warnings\n",
    "warnings.filterwarnings(\"ignore\")"
   ]
  },
  {
   "cell_type": "markdown",
   "id": "81afa8a9",
   "metadata": {},
   "source": [
    "<B> Note: This code is not my code, i did not write it.  \n",
    "    I understand every line in the code but i don't own it."
   ]
  },
  {
   "cell_type": "code",
   "execution_count": 2,
   "id": "5ce607ed",
   "metadata": {},
   "outputs": [],
   "source": [
    "def dfbuilder(files):\n",
    "    final=pd.DataFrame(columns=['Time_x', 'Experiment_x', ' Hand Type_x', ' # hands_x', ' Position X_x',\n",
    "       ' Position Y_x', ' Position Z_x', ' Velocity X_x', ' Velocity Y_x',\n",
    "       ' Velocity Z_x', ' Pitch_x', ' Roll_x', ' Yaw_x', ' Wrist Pos X_x',\n",
    "       ' Wrist Pos Y_x', ' Wrist Pos Z_x', ' Elbow pos X_x', ' Elbow Pos Y_x',\n",
    "       ' Elbow Pos Z_x', ' Grab Strenth_x', ' Grab Angle_x',' Pinch Strength_x', \n",
    "       'Time_y', 'Experiment_y',\n",
    "       ' Hand Type_y', ' # hands_y', ' Position X_y', ' Position Y_y',\n",
    "       ' Position Z_y', ' Velocity X_y', ' Velocity Y_y', ' Velocity Z_y',\n",
    "       ' Pitch_y', ' Roll_y', ' Yaw_y', ' Wrist Pos X_y', ' Wrist Pos Y_y',\n",
    "       ' Wrist Pos Z_y', ' Elbow pos X_y', ' Elbow Pos Y_y', ' Elbow Pos Z_y',\n",
    "       ' Grab Strenth_y', ' Grab Angle_y', ' Pinch Strength_y'])\n",
    "    for file in files:\n",
    "        temp=pd.read_csv(file)\n",
    "        # ignoring the first 7 seconds has been said.\n",
    "        temp=temp.iloc[700:]\n",
    "        temp[\" Hand Type\"]=Series([1 if i==\"right\" else 2 for i in temp[\" Hand Type\"]])\n",
    "        # if the file contain the alone (left hand) string the function tries to merge it with the right hand that suits.\n",
    "        if str.__contains__(file,\"Alone\"):  \n",
    "            temp.insert(loc=1, column='Experiment', value=\"1\")\n",
    "            temp=temp.drop(' Frame ID',axis=1) # drop fram id column.\n",
    "        # reading the hand right data.\n",
    "            Handright=pd.read_csv('/Users/idobar/Documents/GitHub/test/extraFiles/HandRight.csv')\n",
    "        # insert values by the hand type.\n",
    "            Handright[\" Hand Type\"]=Series([1 if i==\"right\" else 2 for i in Handright[\" Hand Type\"]])\n",
    "            Handright.insert(loc=1, column='Experiment', value=\"1\")\n",
    "            Handright = Handright.iloc[:len(temp)-1]\n",
    "            Handright = Handright.reset_index(drop=True)\n",
    "            Handright=Handright.drop(' Frame ID',axis=1) # drop frame id column from hand right data frame.\n",
    "            temp = temp.reset_index(drop=True)\n",
    "            temp = pd.merge(temp, Handright, left_index=True, right_index=True)# merging alone and right.\n",
    "        # if the string is not containing the aline string it checks if the string contain Sync or Spontan.  \n",
    "        # if the string contain one of the two it gives the Experiment the matching value.\n",
    "        else:\n",
    "            if str.__contains__(file,\"Sync\"):\n",
    "                temp.insert(loc=1, column='Experiment', value=\"2\")\n",
    "            if str.__contains__(file,\"Spontan\"):\n",
    "                temp.insert(loc=1, column='Experiment', value=\"3\") \n",
    "            dfright=temp[temp[\" Hand Type\"]==1]\n",
    "            dfleft=temp[temp[\" Hand Type\"]==2]\n",
    "            dfright.set_index(' Frame ID',inplace=True)\n",
    "            dfleft.set_index(' Frame ID',inplace=True)\n",
    "            # after create the index for both dfleft and dfright, the function will merge it by the frame id.\n",
    "            temp=pd.merge(dfleft, dfright, how='left',on=' Frame ID') \n",
    "        final=pd.concat([final,temp])\n",
    "        \n",
    "    final=final.drop([\"Experiment_y\"],axis=1) \n",
    "    final=final.dropna() # dropping null values from the data.\n",
    "    final[final.index%20==2] \n",
    "    final.sort_index(inplace=True) # sorting the data by increasing order of the frame id.\n",
    "    return final"
   ]
  },
  {
   "cell_type": "code",
   "execution_count": 3,
   "id": "7d893d23",
   "metadata": {},
   "outputs": [
    {
     "data": {
      "text/html": [
       "<div>\n",
       "<style scoped>\n",
       "    .dataframe tbody tr th:only-of-type {\n",
       "        vertical-align: middle;\n",
       "    }\n",
       "\n",
       "    .dataframe tbody tr th {\n",
       "        vertical-align: top;\n",
       "    }\n",
       "\n",
       "    .dataframe thead th {\n",
       "        text-align: right;\n",
       "    }\n",
       "</style>\n",
       "<table border=\"1\" class=\"dataframe\">\n",
       "  <thead>\n",
       "    <tr style=\"text-align: right;\">\n",
       "      <th></th>\n",
       "      <th>Time_x</th>\n",
       "      <th>Experiment_x</th>\n",
       "      <th>Hand Type_x</th>\n",
       "      <th># hands_x</th>\n",
       "      <th>Position X_x</th>\n",
       "      <th>Position Y_x</th>\n",
       "      <th>Position Z_x</th>\n",
       "      <th>Velocity X_x</th>\n",
       "      <th>Velocity Y_x</th>\n",
       "      <th>Velocity Z_x</th>\n",
       "      <th>...</th>\n",
       "      <th>Yaw_y</th>\n",
       "      <th>Wrist Pos X_y</th>\n",
       "      <th>Wrist Pos Y_y</th>\n",
       "      <th>Wrist Pos Z_y</th>\n",
       "      <th>Elbow pos X_y</th>\n",
       "      <th>Elbow Pos Y_y</th>\n",
       "      <th>Elbow Pos Z_y</th>\n",
       "      <th>Grab Strenth_y</th>\n",
       "      <th>Grab Angle_y</th>\n",
       "      <th>Pinch Strength_y</th>\n",
       "    </tr>\n",
       "  </thead>\n",
       "  <tbody>\n",
       "    <tr>\n",
       "      <th>0</th>\n",
       "      <td>624.5214</td>\n",
       "      <td>1</td>\n",
       "      <td>2.0</td>\n",
       "      <td>1</td>\n",
       "      <td>-129.871500</td>\n",
       "      <td>238.8927</td>\n",
       "      <td>15.15365</td>\n",
       "      <td>-260.49200</td>\n",
       "      <td>268.55510</td>\n",
       "      <td>57.91444</td>\n",
       "      <td>...</td>\n",
       "      <td>-0.2778</td>\n",
       "      <td>46.88831</td>\n",
       "      <td>207.3548</td>\n",
       "      <td>86.23589</td>\n",
       "      <td>203.8337</td>\n",
       "      <td>49.33507</td>\n",
       "      <td>237.4553</td>\n",
       "      <td>0.0</td>\n",
       "      <td>0.206389</td>\n",
       "      <td>0.0</td>\n",
       "    </tr>\n",
       "    <tr>\n",
       "      <th>0</th>\n",
       "      <td>507.6639</td>\n",
       "      <td>1</td>\n",
       "      <td>2.0</td>\n",
       "      <td>1</td>\n",
       "      <td>-54.173900</td>\n",
       "      <td>404.6508</td>\n",
       "      <td>102.53100</td>\n",
       "      <td>-46.37540</td>\n",
       "      <td>-141.27270</td>\n",
       "      <td>-30.21356</td>\n",
       "      <td>...</td>\n",
       "      <td>-0.2778</td>\n",
       "      <td>46.88831</td>\n",
       "      <td>207.3548</td>\n",
       "      <td>86.23589</td>\n",
       "      <td>203.8337</td>\n",
       "      <td>49.33507</td>\n",
       "      <td>237.4553</td>\n",
       "      <td>0.0</td>\n",
       "      <td>0.206389</td>\n",
       "      <td>0.0</td>\n",
       "    </tr>\n",
       "    <tr>\n",
       "      <th>0</th>\n",
       "      <td>591.7358</td>\n",
       "      <td>1</td>\n",
       "      <td>1.0</td>\n",
       "      <td>1</td>\n",
       "      <td>-19.865460</td>\n",
       "      <td>181.0220</td>\n",
       "      <td>102.09490</td>\n",
       "      <td>-36.13705</td>\n",
       "      <td>-89.59768</td>\n",
       "      <td>-43.82156</td>\n",
       "      <td>...</td>\n",
       "      <td>-0.2778</td>\n",
       "      <td>46.88831</td>\n",
       "      <td>207.3548</td>\n",
       "      <td>86.23589</td>\n",
       "      <td>203.8337</td>\n",
       "      <td>49.33507</td>\n",
       "      <td>237.4553</td>\n",
       "      <td>0.0</td>\n",
       "      <td>0.206389</td>\n",
       "      <td>0.0</td>\n",
       "    </tr>\n",
       "    <tr>\n",
       "      <th>0</th>\n",
       "      <td>712.9770</td>\n",
       "      <td>1</td>\n",
       "      <td>2.0</td>\n",
       "      <td>1</td>\n",
       "      <td>-81.244640</td>\n",
       "      <td>198.4695</td>\n",
       "      <td>59.23386</td>\n",
       "      <td>-171.53010</td>\n",
       "      <td>226.72650</td>\n",
       "      <td>431.11130</td>\n",
       "      <td>...</td>\n",
       "      <td>-0.2778</td>\n",
       "      <td>46.88831</td>\n",
       "      <td>207.3548</td>\n",
       "      <td>86.23589</td>\n",
       "      <td>203.8337</td>\n",
       "      <td>49.33507</td>\n",
       "      <td>237.4553</td>\n",
       "      <td>0.0</td>\n",
       "      <td>0.206389</td>\n",
       "      <td>0.0</td>\n",
       "    </tr>\n",
       "    <tr>\n",
       "      <th>0</th>\n",
       "      <td>300.3558</td>\n",
       "      <td>1</td>\n",
       "      <td>2.0</td>\n",
       "      <td>1</td>\n",
       "      <td>0.483595</td>\n",
       "      <td>263.7752</td>\n",
       "      <td>48.87287</td>\n",
       "      <td>-73.14426</td>\n",
       "      <td>247.44700</td>\n",
       "      <td>-70.95473</td>\n",
       "      <td>...</td>\n",
       "      <td>-0.2778</td>\n",
       "      <td>46.88831</td>\n",
       "      <td>207.3548</td>\n",
       "      <td>86.23589</td>\n",
       "      <td>203.8337</td>\n",
       "      <td>49.33507</td>\n",
       "      <td>237.4553</td>\n",
       "      <td>0.0</td>\n",
       "      <td>0.206389</td>\n",
       "      <td>0.0</td>\n",
       "    </tr>\n",
       "  </tbody>\n",
       "</table>\n",
       "<p>5 rows × 43 columns</p>\n",
       "</div>"
      ],
      "text/plain": [
       "     Time_x Experiment_x   Hand Type_x  # hands_x   Position X_x  \\\n",
       "0  624.5214            1           2.0          1    -129.871500   \n",
       "0  507.6639            1           2.0          1     -54.173900   \n",
       "0  591.7358            1           1.0          1     -19.865460   \n",
       "0  712.9770            1           2.0          1     -81.244640   \n",
       "0  300.3558            1           2.0          1       0.483595   \n",
       "\n",
       "    Position Y_x   Position Z_x   Velocity X_x   Velocity Y_x   Velocity Z_x  \\\n",
       "0       238.8927       15.15365     -260.49200      268.55510       57.91444   \n",
       "0       404.6508      102.53100      -46.37540     -141.27270      -30.21356   \n",
       "0       181.0220      102.09490      -36.13705      -89.59768      -43.82156   \n",
       "0       198.4695       59.23386     -171.53010      226.72650      431.11130   \n",
       "0       263.7752       48.87287      -73.14426      247.44700      -70.95473   \n",
       "\n",
       "   ...   Yaw_y   Wrist Pos X_y   Wrist Pos Y_y   Wrist Pos Z_y  \\\n",
       "0  ... -0.2778        46.88831        207.3548        86.23589   \n",
       "0  ... -0.2778        46.88831        207.3548        86.23589   \n",
       "0  ... -0.2778        46.88831        207.3548        86.23589   \n",
       "0  ... -0.2778        46.88831        207.3548        86.23589   \n",
       "0  ... -0.2778        46.88831        207.3548        86.23589   \n",
       "\n",
       "    Elbow pos X_y   Elbow Pos Y_y   Elbow Pos Z_y   Grab Strenth_y  \\\n",
       "0        203.8337        49.33507        237.4553              0.0   \n",
       "0        203.8337        49.33507        237.4553              0.0   \n",
       "0        203.8337        49.33507        237.4553              0.0   \n",
       "0        203.8337        49.33507        237.4553              0.0   \n",
       "0        203.8337        49.33507        237.4553              0.0   \n",
       "\n",
       "    Grab Angle_y   Pinch Strength_y  \n",
       "0       0.206389                0.0  \n",
       "0       0.206389                0.0  \n",
       "0       0.206389                0.0  \n",
       "0       0.206389                0.0  \n",
       "0       0.206389                0.0  \n",
       "\n",
       "[5 rows x 43 columns]"
      ]
     },
     "execution_count": 3,
     "metadata": {},
     "output_type": "execute_result"
    }
   ],
   "source": [
    "import glob\n",
    "#The glob module finds all the pathnames matching a specified pattern.\n",
    "test= dfbuilder(glob.glob('/Users/idobar/Documents/GitHub/test/extraFiles/Validation/**/*.csv', recursive=True))\n",
    "train= dfbuilder(glob.glob('/Users/idobar/Documents/GitHub/test/extraFiles/Training/**/*.csv', recursive=True))\n",
    "train.head()"
   ]
  },
  {
   "cell_type": "code",
   "execution_count": 4,
   "id": "fea20f10",
   "metadata": {},
   "outputs": [
    {
     "data": {
      "text/html": [
       "<div>\n",
       "<style scoped>\n",
       "    .dataframe tbody tr th:only-of-type {\n",
       "        vertical-align: middle;\n",
       "    }\n",
       "\n",
       "    .dataframe tbody tr th {\n",
       "        vertical-align: top;\n",
       "    }\n",
       "\n",
       "    .dataframe thead th {\n",
       "        text-align: right;\n",
       "    }\n",
       "</style>\n",
       "<table border=\"1\" class=\"dataframe\">\n",
       "  <thead>\n",
       "    <tr style=\"text-align: right;\">\n",
       "      <th></th>\n",
       "      <th>Time_x</th>\n",
       "      <th>Experiment_x</th>\n",
       "      <th>Hand Type_x</th>\n",
       "      <th># hands_x</th>\n",
       "      <th>Position X_x</th>\n",
       "      <th>Position Y_x</th>\n",
       "      <th>Position Z_x</th>\n",
       "      <th>Velocity X_x</th>\n",
       "      <th>Velocity Y_x</th>\n",
       "      <th>Velocity Z_x</th>\n",
       "      <th>...</th>\n",
       "      <th>Yaw_y</th>\n",
       "      <th>Wrist Pos X_y</th>\n",
       "      <th>Wrist Pos Y_y</th>\n",
       "      <th>Wrist Pos Z_y</th>\n",
       "      <th>Elbow pos X_y</th>\n",
       "      <th>Elbow Pos Y_y</th>\n",
       "      <th>Elbow Pos Z_y</th>\n",
       "      <th>Grab Strenth_y</th>\n",
       "      <th>Grab Angle_y</th>\n",
       "      <th>Pinch Strength_y</th>\n",
       "    </tr>\n",
       "  </thead>\n",
       "  <tbody>\n",
       "    <tr>\n",
       "      <th>147031</th>\n",
       "      <td>496.3350</td>\n",
       "      <td>2</td>\n",
       "      <td>2.0</td>\n",
       "      <td>2</td>\n",
       "      <td>-88.72741</td>\n",
       "      <td>133.6054</td>\n",
       "      <td>80.84770</td>\n",
       "      <td>19.672070</td>\n",
       "      <td>109.4840</td>\n",
       "      <td>-148.49250</td>\n",
       "      <td>...</td>\n",
       "      <td>-0.450688</td>\n",
       "      <td>148.5828</td>\n",
       "      <td>145.7623</td>\n",
       "      <td>81.60815</td>\n",
       "      <td>361.1390</td>\n",
       "      <td>39.55280</td>\n",
       "      <td>166.3942</td>\n",
       "      <td>0.0</td>\n",
       "      <td>0.181054</td>\n",
       "      <td>0.0</td>\n",
       "    </tr>\n",
       "    <tr>\n",
       "      <th>147033</th>\n",
       "      <td>496.3516</td>\n",
       "      <td>2</td>\n",
       "      <td>2.0</td>\n",
       "      <td>2</td>\n",
       "      <td>-88.94987</td>\n",
       "      <td>136.6372</td>\n",
       "      <td>79.13829</td>\n",
       "      <td>5.798031</td>\n",
       "      <td>201.9729</td>\n",
       "      <td>-96.20036</td>\n",
       "      <td>...</td>\n",
       "      <td>-0.448909</td>\n",
       "      <td>148.3703</td>\n",
       "      <td>145.3627</td>\n",
       "      <td>81.36929</td>\n",
       "      <td>361.1625</td>\n",
       "      <td>39.38863</td>\n",
       "      <td>165.8574</td>\n",
       "      <td>0.0</td>\n",
       "      <td>0.178520</td>\n",
       "      <td>0.0</td>\n",
       "    </tr>\n",
       "    <tr>\n",
       "      <th>147035</th>\n",
       "      <td>496.3684</td>\n",
       "      <td>2</td>\n",
       "      <td>2.0</td>\n",
       "      <td>2</td>\n",
       "      <td>-89.34464</td>\n",
       "      <td>140.2418</td>\n",
       "      <td>77.55276</td>\n",
       "      <td>-62.854220</td>\n",
       "      <td>271.6032</td>\n",
       "      <td>-69.40147</td>\n",
       "      <td>...</td>\n",
       "      <td>-0.447422</td>\n",
       "      <td>148.3899</td>\n",
       "      <td>145.1390</td>\n",
       "      <td>81.37563</td>\n",
       "      <td>362.0198</td>\n",
       "      <td>39.16170</td>\n",
       "      <td>163.7183</td>\n",
       "      <td>0.0</td>\n",
       "      <td>0.176777</td>\n",
       "      <td>0.0</td>\n",
       "    </tr>\n",
       "    <tr>\n",
       "      <th>147037</th>\n",
       "      <td>496.3849</td>\n",
       "      <td>2</td>\n",
       "      <td>2.0</td>\n",
       "      <td>2</td>\n",
       "      <td>-90.04370</td>\n",
       "      <td>144.5540</td>\n",
       "      <td>76.09414</td>\n",
       "      <td>-25.792180</td>\n",
       "      <td>229.5740</td>\n",
       "      <td>-96.95150</td>\n",
       "      <td>...</td>\n",
       "      <td>-0.447172</td>\n",
       "      <td>148.6771</td>\n",
       "      <td>145.2287</td>\n",
       "      <td>81.51376</td>\n",
       "      <td>363.2723</td>\n",
       "      <td>39.67188</td>\n",
       "      <td>161.8624</td>\n",
       "      <td>0.0</td>\n",
       "      <td>0.174231</td>\n",
       "      <td>0.0</td>\n",
       "    </tr>\n",
       "    <tr>\n",
       "      <th>147039</th>\n",
       "      <td>496.4013</td>\n",
       "      <td>2</td>\n",
       "      <td>2.0</td>\n",
       "      <td>2</td>\n",
       "      <td>-91.27801</td>\n",
       "      <td>150.2716</td>\n",
       "      <td>75.28820</td>\n",
       "      <td>-82.378340</td>\n",
       "      <td>386.3372</td>\n",
       "      <td>-18.65937</td>\n",
       "      <td>...</td>\n",
       "      <td>-0.448133</td>\n",
       "      <td>149.3459</td>\n",
       "      <td>145.9781</td>\n",
       "      <td>81.90491</td>\n",
       "      <td>364.6587</td>\n",
       "      <td>39.78413</td>\n",
       "      <td>159.4454</td>\n",
       "      <td>0.0</td>\n",
       "      <td>0.173893</td>\n",
       "      <td>0.0</td>\n",
       "    </tr>\n",
       "  </tbody>\n",
       "</table>\n",
       "<p>5 rows × 43 columns</p>\n",
       "</div>"
      ],
      "text/plain": [
       "          Time_x Experiment_x   Hand Type_x  # hands_x   Position X_x  \\\n",
       "147031  496.3350            2           2.0          2      -88.72741   \n",
       "147033  496.3516            2           2.0          2      -88.94987   \n",
       "147035  496.3684            2           2.0          2      -89.34464   \n",
       "147037  496.3849            2           2.0          2      -90.04370   \n",
       "147039  496.4013            2           2.0          2      -91.27801   \n",
       "\n",
       "         Position Y_x   Position Z_x   Velocity X_x   Velocity Y_x  \\\n",
       "147031       133.6054       80.84770      19.672070       109.4840   \n",
       "147033       136.6372       79.13829       5.798031       201.9729   \n",
       "147035       140.2418       77.55276     -62.854220       271.6032   \n",
       "147037       144.5540       76.09414     -25.792180       229.5740   \n",
       "147039       150.2716       75.28820     -82.378340       386.3372   \n",
       "\n",
       "         Velocity Z_x  ...     Yaw_y   Wrist Pos X_y   Wrist Pos Y_y  \\\n",
       "147031     -148.49250  ... -0.450688        148.5828        145.7623   \n",
       "147033      -96.20036  ... -0.448909        148.3703        145.3627   \n",
       "147035      -69.40147  ... -0.447422        148.3899        145.1390   \n",
       "147037      -96.95150  ... -0.447172        148.6771        145.2287   \n",
       "147039      -18.65937  ... -0.448133        149.3459        145.9781   \n",
       "\n",
       "         Wrist Pos Z_y   Elbow pos X_y   Elbow Pos Y_y   Elbow Pos Z_y  \\\n",
       "147031        81.60815        361.1390        39.55280        166.3942   \n",
       "147033        81.36929        361.1625        39.38863        165.8574   \n",
       "147035        81.37563        362.0198        39.16170        163.7183   \n",
       "147037        81.51376        363.2723        39.67188        161.8624   \n",
       "147039        81.90491        364.6587        39.78413        159.4454   \n",
       "\n",
       "         Grab Strenth_y   Grab Angle_y   Pinch Strength_y  \n",
       "147031              0.0       0.181054                0.0  \n",
       "147033              0.0       0.178520                0.0  \n",
       "147035              0.0       0.176777                0.0  \n",
       "147037              0.0       0.174231                0.0  \n",
       "147039              0.0       0.173893                0.0  \n",
       "\n",
       "[5 rows x 43 columns]"
      ]
     },
     "execution_count": 4,
     "metadata": {},
     "output_type": "execute_result"
    }
   ],
   "source": [
    "train.tail()"
   ]
  },
  {
   "cell_type": "code",
   "execution_count": 5,
   "id": "942cb55a",
   "metadata": {},
   "outputs": [
    {
     "data": {
      "text/html": [
       "<div>\n",
       "<style scoped>\n",
       "    .dataframe tbody tr th:only-of-type {\n",
       "        vertical-align: middle;\n",
       "    }\n",
       "\n",
       "    .dataframe tbody tr th {\n",
       "        vertical-align: top;\n",
       "    }\n",
       "\n",
       "    .dataframe thead th {\n",
       "        text-align: right;\n",
       "    }\n",
       "</style>\n",
       "<table border=\"1\" class=\"dataframe\">\n",
       "  <thead>\n",
       "    <tr style=\"text-align: right;\">\n",
       "      <th></th>\n",
       "      <th>Time_x</th>\n",
       "      <th>Hand Type_x</th>\n",
       "      <th># hands_x</th>\n",
       "      <th>Position X_x</th>\n",
       "      <th>Position Y_x</th>\n",
       "      <th>Position Z_x</th>\n",
       "      <th>Velocity X_x</th>\n",
       "      <th>Velocity Y_x</th>\n",
       "      <th>Velocity Z_x</th>\n",
       "      <th>Pitch_x</th>\n",
       "      <th>...</th>\n",
       "      <th>Yaw_y</th>\n",
       "      <th>Wrist Pos X_y</th>\n",
       "      <th>Wrist Pos Y_y</th>\n",
       "      <th>Wrist Pos Z_y</th>\n",
       "      <th>Elbow pos X_y</th>\n",
       "      <th>Elbow Pos Y_y</th>\n",
       "      <th>Elbow Pos Z_y</th>\n",
       "      <th>Grab Strenth_y</th>\n",
       "      <th>Grab Angle_y</th>\n",
       "      <th>Pinch Strength_y</th>\n",
       "    </tr>\n",
       "    <tr>\n",
       "      <th>Experiment_x</th>\n",
       "      <th></th>\n",
       "      <th></th>\n",
       "      <th></th>\n",
       "      <th></th>\n",
       "      <th></th>\n",
       "      <th></th>\n",
       "      <th></th>\n",
       "      <th></th>\n",
       "      <th></th>\n",
       "      <th></th>\n",
       "      <th></th>\n",
       "      <th></th>\n",
       "      <th></th>\n",
       "      <th></th>\n",
       "      <th></th>\n",
       "      <th></th>\n",
       "      <th></th>\n",
       "      <th></th>\n",
       "      <th></th>\n",
       "      <th></th>\n",
       "      <th></th>\n",
       "    </tr>\n",
       "  </thead>\n",
       "  <tbody>\n",
       "    <tr>\n",
       "      <th>1</th>\n",
       "      <td>26222</td>\n",
       "      <td>26222</td>\n",
       "      <td>26222</td>\n",
       "      <td>26222</td>\n",
       "      <td>26222</td>\n",
       "      <td>26222</td>\n",
       "      <td>26222</td>\n",
       "      <td>26222</td>\n",
       "      <td>26222</td>\n",
       "      <td>26222</td>\n",
       "      <td>...</td>\n",
       "      <td>26222</td>\n",
       "      <td>26222</td>\n",
       "      <td>26222</td>\n",
       "      <td>26222</td>\n",
       "      <td>26222</td>\n",
       "      <td>26222</td>\n",
       "      <td>26222</td>\n",
       "      <td>26222</td>\n",
       "      <td>26222</td>\n",
       "      <td>26222</td>\n",
       "    </tr>\n",
       "    <tr>\n",
       "      <th>2</th>\n",
       "      <td>30991</td>\n",
       "      <td>30991</td>\n",
       "      <td>30991</td>\n",
       "      <td>30991</td>\n",
       "      <td>30991</td>\n",
       "      <td>30991</td>\n",
       "      <td>30991</td>\n",
       "      <td>30991</td>\n",
       "      <td>30991</td>\n",
       "      <td>30991</td>\n",
       "      <td>...</td>\n",
       "      <td>30991</td>\n",
       "      <td>30991</td>\n",
       "      <td>30991</td>\n",
       "      <td>30991</td>\n",
       "      <td>30991</td>\n",
       "      <td>30991</td>\n",
       "      <td>30991</td>\n",
       "      <td>30991</td>\n",
       "      <td>30991</td>\n",
       "      <td>30991</td>\n",
       "    </tr>\n",
       "    <tr>\n",
       "      <th>3</th>\n",
       "      <td>31156</td>\n",
       "      <td>31156</td>\n",
       "      <td>31156</td>\n",
       "      <td>31156</td>\n",
       "      <td>31156</td>\n",
       "      <td>31156</td>\n",
       "      <td>31156</td>\n",
       "      <td>31156</td>\n",
       "      <td>31156</td>\n",
       "      <td>31156</td>\n",
       "      <td>...</td>\n",
       "      <td>31156</td>\n",
       "      <td>31156</td>\n",
       "      <td>31156</td>\n",
       "      <td>31156</td>\n",
       "      <td>31156</td>\n",
       "      <td>31156</td>\n",
       "      <td>31156</td>\n",
       "      <td>31156</td>\n",
       "      <td>31156</td>\n",
       "      <td>31156</td>\n",
       "    </tr>\n",
       "  </tbody>\n",
       "</table>\n",
       "<p>3 rows × 42 columns</p>\n",
       "</div>"
      ],
      "text/plain": [
       "              Time_x   Hand Type_x   # hands_x   Position X_x   Position Y_x  \\\n",
       "Experiment_x                                                                   \n",
       "1              26222         26222       26222          26222          26222   \n",
       "2              30991         30991       30991          30991          30991   \n",
       "3              31156         31156       31156          31156          31156   \n",
       "\n",
       "               Position Z_x   Velocity X_x   Velocity Y_x   Velocity Z_x  \\\n",
       "Experiment_x                                                               \n",
       "1                     26222          26222          26222          26222   \n",
       "2                     30991          30991          30991          30991   \n",
       "3                     31156          31156          31156          31156   \n",
       "\n",
       "               Pitch_x  ...   Yaw_y   Wrist Pos X_y   Wrist Pos Y_y  \\\n",
       "Experiment_x            ...                                           \n",
       "1                26222  ...   26222           26222           26222   \n",
       "2                30991  ...   30991           30991           30991   \n",
       "3                31156  ...   31156           31156           31156   \n",
       "\n",
       "               Wrist Pos Z_y   Elbow pos X_y   Elbow Pos Y_y   Elbow Pos Z_y  \\\n",
       "Experiment_x                                                                   \n",
       "1                      26222           26222           26222           26222   \n",
       "2                      30991           30991           30991           30991   \n",
       "3                      31156           31156           31156           31156   \n",
       "\n",
       "               Grab Strenth_y   Grab Angle_y   Pinch Strength_y  \n",
       "Experiment_x                                                     \n",
       "1                       26222          26222              26222  \n",
       "2                       30991          30991              30991  \n",
       "3                       31156          31156              31156  \n",
       "\n",
       "[3 rows x 42 columns]"
      ]
     },
     "execution_count": 5,
     "metadata": {},
     "output_type": "execute_result"
    }
   ],
   "source": [
    "train.groupby('Experiment_x').count()"
   ]
  },
  {
   "cell_type": "code",
   "execution_count": 6,
   "id": "e574849e",
   "metadata": {},
   "outputs": [
    {
     "data": {
      "text/plain": [
       "3    31156\n",
       "2    30991\n",
       "1    26222\n",
       "Name: Experiment_x, dtype: int64"
      ]
     },
     "execution_count": 6,
     "metadata": {},
     "output_type": "execute_result"
    }
   ],
   "source": [
    "train['Experiment_x'].value_counts()"
   ]
  },
  {
   "cell_type": "code",
   "execution_count": 7,
   "id": "6ea1359d",
   "metadata": {},
   "outputs": [
    {
     "data": {
      "text/plain": [
       "(88369, 43)"
      ]
     },
     "execution_count": 7,
     "metadata": {},
     "output_type": "execute_result"
    }
   ],
   "source": [
    "train.shape"
   ]
  },
  {
   "cell_type": "code",
   "execution_count": null,
   "id": "c64c5459",
   "metadata": {},
   "outputs": [],
   "source": []
  },
  {
   "cell_type": "markdown",
   "id": "c7ca1259",
   "metadata": {},
   "source": [
    "## Visualization"
   ]
  },
  {
   "cell_type": "code",
   "execution_count": 8,
   "id": "4c8894b0",
   "metadata": {
    "scrolled": true
   },
   "outputs": [
    {
     "data": {
      "text/plain": [
       "0"
      ]
     },
     "execution_count": 8,
     "metadata": {},
     "output_type": "execute_result"
    }
   ],
   "source": [
    "train.isnull().sum().sum()"
   ]
  },
  {
   "cell_type": "code",
   "execution_count": 9,
   "id": "5943dd0a",
   "metadata": {
    "scrolled": false
   },
   "outputs": [
    {
     "data": {
      "text/plain": [
       "0"
      ]
     },
     "execution_count": 9,
     "metadata": {},
     "output_type": "execute_result"
    }
   ],
   "source": [
    "test.isnull().sum().sum()"
   ]
  },
  {
   "cell_type": "code",
   "execution_count": 10,
   "id": "2a9e36d2",
   "metadata": {},
   "outputs": [
    {
     "name": "stdout",
     "output_type": "stream",
     "text": [
      "Train shape: (88369, 43)\n",
      "Test shape: (25233, 43)\n"
     ]
    }
   ],
   "source": [
    "print(\"Train shape:\",train.shape)\n",
    "print(\"Test shape:\",test.shape)"
   ]
  },
  {
   "cell_type": "code",
   "execution_count": 11,
   "id": "98c21b7f",
   "metadata": {},
   "outputs": [
    {
     "data": {
      "text/plain": [
       "<AxesSubplot:xlabel='Experiment_x', ylabel='count'>"
      ]
     },
     "execution_count": 11,
     "metadata": {},
     "output_type": "execute_result"
    },
    {
     "data": {
      "image/png": "[encoded data removed]",
      "text/plain": [
       "<Figure size 360x360 with 1 Axes>"
      ]
     },
     "metadata": {
      "needs_background": "light"
     },
     "output_type": "display_data"
    }
   ],
   "source": [
    "plt.figure(figsize = (5,5))\n",
    "sns.countplot(x = \"Experiment_x\", data = train)"
   ]
  },
  {
   "cell_type": "code",
   "execution_count": 12,
   "id": "790e75df",
   "metadata": {},
   "outputs": [
    {
     "data": {
      "image/png": "[encoded data removed]",
      "text/plain": [
       "<Figure size 504x504 with 1 Axes>"
      ]
     },
     "metadata": {},
     "output_type": "display_data"
    },
    {
     "data": {
      "text/plain": [
       "<Figure size 432x288 with 0 Axes>"
      ]
     },
     "metadata": {},
     "output_type": "display_data"
    }
   ],
   "source": [
    "plt.figure(figsize=(7, 7))\n",
    "axes= train.Experiment_x.value_counts().plot(kind='pie')\n",
    "axes.set_title(\"Hands Distribution\", fontsize=20)\n",
    "axes.set_xlabel(\"\")\n",
    "axes.set_ylabel(\"\")\n",
    "\n",
    "fig1 = plt.gcf()\n",
    "plt.show()\n",
    "plt.draw()"
   ]
  },
  {
   "cell_type": "code",
   "execution_count": 13,
   "id": "2a483537",
   "metadata": {},
   "outputs": [
    {
     "data": {
      "text/plain": [
       "Text(0, 0.5, 'Y pos left')"
      ]
     },
     "execution_count": 13,
     "metadata": {},
     "output_type": "execute_result"
    },
    {
     "data": {
      "image/png": "[encoded data removed]",
      "text/plain": [
       "<Figure size 432x288 with 1 Axes>"
      ]
     },
     "metadata": {
      "needs_background": "light"
     },
     "output_type": "display_data"
    }
   ],
   "source": [
    "sns.scatterplot(x=\" Position Y_y\", y=\" Position Y_x\", hue=\"Experiment_x\", data=train)\n",
    "plt.xlabel('Y pos right')\n",
    "plt.ylabel('Y pos left')"
   ]
  },
  {
   "cell_type": "code",
   "execution_count": 14,
   "id": "e607e365",
   "metadata": {},
   "outputs": [],
   "source": [
    "data_Alone = train[train['Experiment_x']=='1']\n",
    "data_NotAlone = train[train['Experiment_x']!='1']"
   ]
  },
  {
   "cell_type": "code",
   "execution_count": 15,
   "id": "17cfda3e",
   "metadata": {},
   "outputs": [
    {
     "data": {
      "image/png": "[encoded data removed]",
      "text/plain": [
       "<Figure size 432x288 with 1 Axes>"
      ]
     },
     "metadata": {
      "needs_background": "light"
     },
     "output_type": "display_data"
    }
   ],
   "source": [
    "fig, ax = plt.subplots()\n",
    "ax.plot(data_Alone[' Position X_x'])\n",
    "ax.set(xlabel = 'Time', ylabel = 'Position X_x', title = 'X-Position By Time-Alone')\n",
    "ax.grid()\n",
    "plt.ylim(-300,100)\n",
    "plt.show()"
   ]
  },
  {
   "cell_type": "code",
   "execution_count": 16,
   "id": "26d93488",
   "metadata": {},
   "outputs": [],
   "source": [
    "data_Spontan = train[train['Experiment_x']=='2']\n",
    "data_NotSpontan = train[train['Experiment_x']!='2']"
   ]
  },
  {
   "cell_type": "code",
   "execution_count": 17,
   "id": "0bde0dd2",
   "metadata": {},
   "outputs": [
    {
     "data": {
      "image/png": "[encoded data removed]",
      "text/plain": [
       "<Figure size 432x288 with 1 Axes>"
      ]
     },
     "metadata": {
      "needs_background": "light"
     },
     "output_type": "display_data"
    }
   ],
   "source": [
    "fig, ax = plt.subplots()\n",
    "ax.plot(data_Spontan[' Position X_x'])\n",
    "ax.set(xlabel = 'Time', ylabel = 'PositionX_x', title = 'X-Position By Time-Spontan')\n",
    "ax.grid()\n",
    "plt.ylim(-300,100)\n",
    "plt.show()"
   ]
  },
  {
   "cell_type": "code",
   "execution_count": 18,
   "id": "01d32441",
   "metadata": {},
   "outputs": [],
   "source": [
    "data_Sync = train[train['Experiment_x']=='3']\n",
    "data_NotSync = train[train['Experiment_x']!='3']"
   ]
  },
  {
   "cell_type": "code",
   "execution_count": 19,
   "id": "ffaf030d",
   "metadata": {},
   "outputs": [
    {
     "data": {
      "image/png": "[encoded data removed]",
      "text/plain": [
       "<Figure size 432x288 with 1 Axes>"
      ]
     },
     "metadata": {
      "needs_background": "light"
     },
     "output_type": "display_data"
    }
   ],
   "source": [
    "fig, ax = plt.subplots()\n",
    "ax.plot(data_Sync[' Position X_x'])\n",
    "ax.set(xlabel = 'Time', ylabel = 'PositionX_x', title = 'X-Position By Time-Sync')\n",
    "ax.grid()\n",
    "plt.ylim(-300,100)\n",
    "plt.show()"
   ]
  },
  {
   "cell_type": "code",
   "execution_count": 20,
   "id": "3baee251",
   "metadata": {},
   "outputs": [
    {
     "data": {
      "image/png": "[encoded data removed]",
      "text/plain": [
       "<Figure size 864x720 with 3 Axes>"
      ]
     },
     "metadata": {
      "needs_background": "light"
     },
     "output_type": "display_data"
    }
   ],
   "source": [
    "df = train.drop('Experiment_x',axis=1)\n",
    "fig = plt.figure(figsize=(12, 10))\n",
    "Type = ['Sync', 'Spontan','Alone']\n",
    "count = 1\n",
    "for t in Type:\n",
    "    ax = fig.add_subplot(2, 2, count, projection='3d')\n",
    "    count+=1\n",
    "    ax.title.set_text(t)\n",
    "    plt.gca().legend(('left','right'))\n",
    "    ax.scatter(df[' Position X_x'], df[' Position Y_x'], df[' Position Z_x' ], color='yellow',s=60, label='right hand')\n",
    "    ax.scatter(df[' Position X_y'], df[' Position Y_y'], df[' Position Z_y'],s=60, color='red', label='left hand')\n",
    "    plt.legend()\n",
    "    ax.set_xlabel('Position X')\n",
    "    ax.set_ylabel('Position Y')\n",
    "    ax.set_zlabel('Position Z')"
   ]
  },
  {
   "cell_type": "markdown",
   "id": "b45eb973",
   "metadata": {},
   "source": [
    "## Preprocessing "
   ]
  },
  {
   "cell_type": "code",
   "execution_count": 21,
   "id": "2865094f",
   "metadata": {},
   "outputs": [],
   "source": [
    "train.drop(['Time_x',' Hand Type_x',' # hands_x','Time_y', ' Hand Type_y', ' # hands_y'],axis = 1, inplace = True)\n",
    "test.drop(['Time_x',' Hand Type_x',' # hands_x','Time_y', ' Hand Type_y', ' # hands_y'],axis = 1, inplace = True)"
   ]
  },
  {
   "cell_type": "code",
   "execution_count": 22,
   "id": "2bd6f8af",
   "metadata": {},
   "outputs": [],
   "source": [
    "# Droping the Experiment_x column in order to get the target of the data.\n",
    "y=train['Experiment_x']\n",
    "x=train.drop(['Experiment_x'], axis = 1)\n",
    "y_test_test=test['Experiment_x']\n",
    "X_test_test=test.drop(['Experiment_x'], axis = 1)"
   ]
  },
  {
   "cell_type": "code",
   "execution_count": 23,
   "id": "a5227f25",
   "metadata": {},
   "outputs": [],
   "source": [
    "from sklearn.model_selection import train_test_split\n",
    "X_train,X_val,y_train,y_val=train_test_split(x,y, train_size=0.8, random_state=0)"
   ]
  },
  {
   "cell_type": "code",
   "execution_count": 24,
   "id": "40a205a4",
   "metadata": {},
   "outputs": [],
   "source": [
    "scaler = StandardScaler()\n",
    "X_train = scaler.fit_transform(X_train)\n",
    "X_val = scaler.transform(X_val)\n",
    "X_test_test = scaler.transform(X_test_test)"
   ]
  },
  {
   "cell_type": "code",
   "execution_count": 25,
   "id": "2601c02e",
   "metadata": {},
   "outputs": [
    {
     "name": "stdout",
     "output_type": "stream",
     "text": [
      "(70695, 36)\n",
      "(70695,)\n",
      "(17674, 36)\n",
      "(17674,)\n"
     ]
    },
    {
     "data": {
      "text/plain": [
       "(None, None)"
      ]
     },
     "execution_count": 25,
     "metadata": {},
     "output_type": "execute_result"
    }
   ],
   "source": [
    "print(X_train.shape), print(y_train.shape)\n",
    "print(X_val.shape), print(y_val.shape)"
   ]
  },
  {
   "cell_type": "code",
   "execution_count": 26,
   "id": "202b778e",
   "metadata": {},
   "outputs": [
    {
     "name": "stdout",
     "output_type": "stream",
     "text": [
      "The train set as: 70695 Samples\n",
      "The test set as: 17674 Samples\n"
     ]
    }
   ],
   "source": [
    "print(\"The train set as:\",len(X_train),\"Samples\")\n",
    "print(\"The test set as:\",len(X_val),\"Samples\")"
   ]
  },
  {
   "cell_type": "markdown",
   "id": "c0271298",
   "metadata": {},
   "source": [
    "## Models"
   ]
  },
  {
   "cell_type": "markdown",
   "id": "223eeb09",
   "metadata": {},
   "source": [
    "### KNN"
   ]
  },
  {
   "cell_type": "code",
   "execution_count": 27,
   "id": "2b9d4157",
   "metadata": {},
   "outputs": [
    {
     "data": {
      "text/plain": [
       "[0.9993776168382935,\n",
       " 0.9993210365508657,\n",
       " 0.9992644562634379,\n",
       " 0.9988683942514428,\n",
       " 0.9989815548262985,\n",
       " 0.9984157519520199,\n",
       " 0.9980762702274527,\n",
       " 0.997567047640602,\n",
       " 0.9973973067783184,\n",
       " 0.9967183433291841,\n",
       " 0.9966051827543284,\n",
       " 0.9959262193051941,\n",
       " 0.9953038361434876,\n",
       " 0.9945117121194975,\n",
       " 0.9935498472332239,\n",
       " 0.993097204933801,\n",
       " 0.9924748217720946,\n",
       " 0.9917392780355324,\n",
       " 0.9911168948738259,\n",
       " 0.9900418694126966,\n",
       " 0.9894194862509902,\n",
       " 0.9883444607898608,\n",
       " 0.9876654973407265,\n",
       " 0.9870996944664479,\n",
       " 0.9864773113047415,\n",
       " 0.9856286069933236,\n",
       " 0.9850062238316171,\n",
       " 0.9841575195201991,\n",
       " 0.9841009392327713]"
      ]
     },
     "execution_count": 27,
     "metadata": {},
     "output_type": "execute_result"
    }
   ],
   "source": [
    "from sklearn.neighbors import KNeighborsClassifier\n",
    "k_range = list(range(1, 30))\n",
    "acc = []\n",
    "for k in k_range:\n",
    "    knn = KNeighborsClassifier(n_neighbors=k)\n",
    "    knn.fit(X_train, y_train)\n",
    "    neigh_pred = knn.predict(X_val)\n",
    "    acc.append(metrics.accuracy_score(y_val, neigh_pred))\n",
    "acc"
   ]
  },
  {
   "cell_type": "markdown",
   "id": "c69fc55b",
   "metadata": {},
   "source": [
    "### Logistic Regression"
   ]
  },
  {
   "cell_type": "code",
   "execution_count": 28,
   "id": "2b31d5ac",
   "metadata": {},
   "outputs": [],
   "source": [
    "from sklearn.linear_model import LogisticRegression\n",
    "clf = LogisticRegression(random_state=0)\n",
    "clf.fit(X_train,y_train)\n",
    "clf_pred=clf.predict(X_val)"
   ]
  },
  {
   "cell_type": "code",
   "execution_count": 29,
   "id": "86e6b1cf",
   "metadata": {},
   "outputs": [
    {
     "name": "stdout",
     "output_type": "stream",
     "text": [
      "Classification Report:\n",
      "              precision    recall  f1-score   support\n",
      "\n",
      "           1       0.99      0.99      0.99      5128\n",
      "           2       0.83      0.81      0.82      6249\n",
      "           3       0.81      0.84      0.82      6297\n",
      "\n",
      "    accuracy                           0.87     17674\n",
      "   macro avg       0.88      0.88      0.88     17674\n",
      "weighted avg       0.87      0.87      0.87     17674\n",
      "\n",
      "Accuracy: 0.8708837840896232\n"
     ]
    },
    {
     "data": {
      "image/png": "[encoded data removed]",
      "text/plain": [
       "<Figure size 432x288 with 2 Axes>"
      ]
     },
     "metadata": {
      "needs_background": "light"
     },
     "output_type": "display_data"
    }
   ],
   "source": [
    "confMatrix = confusion_matrix(y_val, clf_pred)\n",
    "sns.heatmap(confMatrix, annot=True, fmt=\"d\",linecolor='black',linewidths=.2,cmap=\"YlGnBu\")\n",
    "result1 = classification_report(y_val, clf_pred,zero_division=1)\n",
    "print(\"Classification Report:\",)\n",
    "print (result1)\n",
    "result2 = accuracy_score(y_val,clf_pred)\n",
    "print(\"Accuracy:\",result2)"
   ]
  },
  {
   "cell_type": "markdown",
   "id": "f04ad54f",
   "metadata": {},
   "source": [
    "### Random Forest Classifier"
   ]
  },
  {
   "cell_type": "code",
   "execution_count": 30,
   "id": "700ae026",
   "metadata": {},
   "outputs": [],
   "source": [
    "from sklearn.ensemble import RandomForestClassifier\n",
    "rf = RandomForestClassifier(random_state=10)\n",
    "rf.fit(X_train, y_train)\n",
    "rf_pred=rf.predict(X_val)"
   ]
  },
  {
   "cell_type": "code",
   "execution_count": 31,
   "id": "7253e6b2",
   "metadata": {},
   "outputs": [
    {
     "name": "stdout",
     "output_type": "stream",
     "text": [
      "Classification Report:\n",
      "              precision    recall  f1-score   support\n",
      "\n",
      "           1       1.00      1.00      1.00      5128\n",
      "           2       1.00      1.00      1.00      6249\n",
      "           3       1.00      1.00      1.00      6297\n",
      "\n",
      "    accuracy                           1.00     17674\n",
      "   macro avg       1.00      1.00      1.00     17674\n",
      "weighted avg       1.00      1.00      1.00     17674\n",
      "\n",
      "Accuracy: 0.9993776168382935\n"
     ]
    },
    {
     "data": {
      "image/png": "[encoded data removed]",
      "text/plain": [
       "<Figure size 432x288 with 2 Axes>"
      ]
     },
     "metadata": {
      "needs_background": "light"
     },
     "output_type": "display_data"
    }
   ],
   "source": [
    "confMatrix = confusion_matrix(y_val, rf_pred)\n",
    "sns.heatmap(confMatrix, annot=True, fmt=\"d\",linecolor='black',linewidths=.2,cmap=\"YlGnBu\")\n",
    "result1 = classification_report(y_val, rf_pred,zero_division=1)\n",
    "print(\"Classification Report:\",)\n",
    "print (result1)\n",
    "result2 = accuracy_score(y_val,rf_pred)\n",
    "print(\"Accuracy:\",result2)"
   ]
  },
  {
   "cell_type": "markdown",
   "id": "09133189",
   "metadata": {},
   "source": [
    "### Gaussian NB"
   ]
  },
  {
   "cell_type": "code",
   "execution_count": 32,
   "id": "2dfd3655",
   "metadata": {},
   "outputs": [],
   "source": [
    "from sklearn.naive_bayes import GaussianNB\n",
    "gnb = GaussianNB()\n",
    "gnb.fit(X_train, y_train)\n",
    "gnb_pred = gnb.predict(X_val)\n",
    "gnb_score = gnb.score(X_val,y_val)*100"
   ]
  },
  {
   "cell_type": "code",
   "execution_count": 33,
   "id": "cf4cee7a",
   "metadata": {},
   "outputs": [
    {
     "name": "stdout",
     "output_type": "stream",
     "text": [
      "Classification Report:\n",
      "              precision    recall  f1-score   support\n",
      "\n",
      "           1       0.98      0.97      0.98      5128\n",
      "           2       0.63      0.84      0.72      6249\n",
      "           3       0.74      0.51      0.60      6297\n",
      "\n",
      "    accuracy                           0.76     17674\n",
      "   macro avg       0.79      0.77      0.77     17674\n",
      "weighted avg       0.77      0.76      0.75     17674\n",
      "\n",
      "Accuracy: 0.760552223605296\n"
     ]
    },
    {
     "data": {
      "image/png": "[encoded data removed]",
      "text/plain": [
       "<Figure size 432x288 with 2 Axes>"
      ]
     },
     "metadata": {
      "needs_background": "light"
     },
     "output_type": "display_data"
    }
   ],
   "source": [
    "confMatrix = confusion_matrix(y_val, gnb_pred)\n",
    "sns.heatmap(confMatrix, annot=True, fmt=\"d\",linecolor='black',linewidths=.2,cmap=\"YlGnBu\")\n",
    "result1 = classification_report(y_val, gnb_pred,zero_division=1)\n",
    "print(\"Classification Report:\",)\n",
    "print (result1)\n",
    "result2 = accuracy_score(y_val,gnb_pred)\n",
    "print(\"Accuracy:\",result2)"
   ]
  },
  {
   "cell_type": "markdown",
   "id": "442550c3",
   "metadata": {},
   "source": [
    "### XGBOOST "
   ]
  },
  {
   "cell_type": "code",
   "execution_count": 34,
   "id": "9c3ea43d",
   "metadata": {},
   "outputs": [],
   "source": [
    "import xgboost\n",
    "xgb=xgboost.XGBClassifier(n_estimators=150,eval_metric='mlogloss')\n",
    "xgb.fit(X_train,y_train)\n",
    "xgb_p=xgb.predict(X_val)"
   ]
  },
  {
   "cell_type": "code",
   "execution_count": 35,
   "id": "dab8b5bd",
   "metadata": {},
   "outputs": [
    {
     "name": "stdout",
     "output_type": "stream",
     "text": [
      "Classification Report:\n",
      "              precision    recall  f1-score   support\n",
      "\n",
      "           1       1.00      1.00      1.00      5128\n",
      "           2       1.00      1.00      1.00      6249\n",
      "           3       1.00      1.00      1.00      6297\n",
      "\n",
      "    accuracy                           1.00     17674\n",
      "   macro avg       1.00      1.00      1.00     17674\n",
      "weighted avg       1.00      1.00      1.00     17674\n",
      "\n",
      "Accuracy: 0.9998868394251442\n"
     ]
    },
    {
     "data": {
      "image/png": "[encoded data removed]",
      "text/plain": [
       "<Figure size 432x288 with 2 Axes>"
      ]
     },
     "metadata": {
      "needs_background": "light"
     },
     "output_type": "display_data"
    }
   ],
   "source": [
    "confMatrix = confusion_matrix(y_val, xgb_p)\n",
    "sns.heatmap(confMatrix, annot=True, fmt=\"d\",linecolor='black',linewidths=.2,cmap=\"YlGnBu\")\n",
    "result1 = classification_report(y_val, xgb_p,zero_division=1)\n",
    "print(\"Classification Report:\",)\n",
    "print (result1)\n",
    "result2 = accuracy_score(y_val,xgb_p)\n",
    "print(\"Accuracy:\",result2)"
   ]
  },
  {
   "cell_type": "markdown",
   "id": "eed0cb7e",
   "metadata": {},
   "source": [
    "<B> As we can see almost all of the models as 0.99 score, but it is only on the train set, so for now it's ok.  \n",
    "    If it will happen on the test set it will be problam."
   ]
  },
  {
   "cell_type": "markdown",
   "id": "c4527091",
   "metadata": {},
   "source": [
    "<B> After trying some models i want to see the models after dimensionality reduction. "
   ]
  },
  {
   "cell_type": "markdown",
   "id": "ae6f42aa",
   "metadata": {},
   "source": [
    "## PCA"
   ]
  },
  {
   "cell_type": "code",
   "execution_count": 36,
   "id": "343b118b",
   "metadata": {},
   "outputs": [
    {
     "data": {
      "text/plain": [
       "[<matplotlib.lines.Line2D at 0x7fa2828438b0>]"
      ]
     },
     "execution_count": 36,
     "metadata": {},
     "output_type": "execute_result"
    },
    {
     "data": {
      "image/png": "[encoded data removed]",
      "text/plain": [
       "<Figure size 432x288 with 1 Axes>"
      ]
     },
     "metadata": {
      "needs_background": "light"
     },
     "output_type": "display_data"
    }
   ],
   "source": [
    "from sklearn.decomposition import PCA\n",
    "pca=PCA()\n",
    "pca.fit(X_train)\n",
    "sum=np.cumsum(pca.explained_variance_ratio_)\n",
    "plt.plot(sum)"
   ]
  },
  {
   "cell_type": "markdown",
   "id": "7fe7347a",
   "metadata": {},
   "source": [
    "<B> Lets try with 0.95 components."
   ]
  },
  {
   "cell_type": "code",
   "execution_count": 37,
   "id": "95c3a60a",
   "metadata": {},
   "outputs": [],
   "source": [
    "pca=PCA(n_components=0.95)\n",
    "#Fitting the data to the pca.\n",
    "X_trainreduce=pca.fit_transform(X_train)\n",
    "X_validreduce=pca.transform(X_val)"
   ]
  },
  {
   "cell_type": "code",
   "execution_count": 38,
   "id": "732643c4",
   "metadata": {},
   "outputs": [
    {
     "data": {
      "text/plain": [
       "22"
      ]
     },
     "execution_count": 38,
     "metadata": {},
     "output_type": "execute_result"
    }
   ],
   "source": [
    "pca.n_components_"
   ]
  },
  {
   "cell_type": "code",
   "execution_count": 39,
   "id": "9b43ca5e",
   "metadata": {},
   "outputs": [
    {
     "data": {
      "text/plain": [
       "[<matplotlib.lines.Line2D at 0x7fa282ce43d0>]"
      ]
     },
     "execution_count": 39,
     "metadata": {},
     "output_type": "execute_result"
    },
    {
     "data": {
      "image/png": "[encoded data removed]",
      "text/plain": [
       "<Figure size 432x288 with 1 Axes>"
      ]
     },
     "metadata": {
      "needs_background": "light"
     },
     "output_type": "display_data"
    }
   ],
   "source": [
    "sum=np.cumsum(pca.explained_variance_ratio_)\n",
    "plt.plot(sum)"
   ]
  },
  {
   "cell_type": "code",
   "execution_count": 40,
   "id": "5958db51",
   "metadata": {},
   "outputs": [],
   "source": [
    "#Convert the data to data frame.\n",
    "X_train_pca=pd.DataFrame(X_trainreduce)\n",
    "X_valid_pca=pd.DataFrame(X_validreduce)"
   ]
  },
  {
   "cell_type": "code",
   "execution_count": 41,
   "id": "89a0f28b",
   "metadata": {},
   "outputs": [
    {
     "data": {
      "text/plain": [
       "(70695, 22)"
      ]
     },
     "execution_count": 41,
     "metadata": {},
     "output_type": "execute_result"
    }
   ],
   "source": [
    "X_train_pca.shape"
   ]
  },
  {
   "cell_type": "code",
   "execution_count": 42,
   "id": "538dd72f",
   "metadata": {},
   "outputs": [
    {
     "data": {
      "text/plain": [
       "(17674, 22)"
      ]
     },
     "execution_count": 42,
     "metadata": {},
     "output_type": "execute_result"
    }
   ],
   "source": [
    "X_valid_pca.shape"
   ]
  },
  {
   "cell_type": "markdown",
   "id": "7cd38737",
   "metadata": {},
   "source": [
    "### KNN after PCA"
   ]
  },
  {
   "cell_type": "code",
   "execution_count": 43,
   "id": "02e30b94",
   "metadata": {},
   "outputs": [
    {
     "data": {
      "text/plain": [
       "[0.9991512956885821,\n",
       " 0.9989249745388706,\n",
       " 0.9990381351137264,\n",
       " 0.9983025913771642,\n",
       " 0.9983591716645921,\n",
       " 0.9977933687903134,\n",
       " 0.9977367885028856,\n",
       " 0.997170985628607,\n",
       " 0.9970012447663235,\n",
       " 0.9962091207423334,\n",
       " 0.9960959601674777,\n",
       " 0.9951906755686319,\n",
       " 0.9946814529817811,\n",
       " 0.9933801063709403,\n",
       " 0.9925879823469503,\n",
       " 0.9914563765983931,\n",
       " 0.9910603145863981,\n",
       " 0.9897589679755573,\n",
       " 0.9897589679755573,\n",
       " 0.988231300215005,\n",
       " 0.9880615593527216,\n",
       " 0.9871562747538758,\n",
       " 0.98625099015503,\n",
       " 0.9850062238316171,\n",
       " 0.9846667421070499,\n",
       " 0.9837048772207763,\n",
       " 0.9834785560710648,\n",
       " 0.982233789747652,\n",
       " 0.9823469503225076]"
      ]
     },
     "execution_count": 43,
     "metadata": {},
     "output_type": "execute_result"
    }
   ],
   "source": [
    "from sklearn.neighbors import KNeighborsClassifier\n",
    "k_range = list(range(1, 30))\n",
    "acc = []\n",
    "for k in k_range:\n",
    "    knn_pca = KNeighborsClassifier(n_neighbors=k)\n",
    "    knn_pca.fit(X_train_pca, y_train)\n",
    "    neigh_pred_PCA = knn_pca.predict(X_valid_pca)\n",
    "    acc.append(metrics.accuracy_score(y_val, neigh_pred_PCA))\n",
    "acc"
   ]
  },
  {
   "cell_type": "markdown",
   "id": "4db56cd9",
   "metadata": {},
   "source": [
    "### Logistic Regression after PCA"
   ]
  },
  {
   "cell_type": "code",
   "execution_count": 44,
   "id": "665d80ff",
   "metadata": {},
   "outputs": [],
   "source": [
    "clf = LogisticRegression(random_state=0)\n",
    "clf.fit(X_train_pca,y_train)\n",
    "clf_pred_pca=clf.predict(X_valid_pca)"
   ]
  },
  {
   "cell_type": "code",
   "execution_count": 45,
   "id": "e170d58d",
   "metadata": {},
   "outputs": [
    {
     "name": "stdout",
     "output_type": "stream",
     "text": [
      "Classification Report:\n",
      "              precision    recall  f1-score   support\n",
      "\n",
      "           1       0.91      0.94      0.92      5128\n",
      "           2       0.80      0.77      0.78      6249\n",
      "           3       0.76      0.77      0.77      6297\n",
      "\n",
      "    accuracy                           0.82     17674\n",
      "   macro avg       0.82      0.83      0.83     17674\n",
      "weighted avg       0.82      0.82      0.82     17674\n",
      "\n",
      "Accuracy: 0.8189996605182754\n"
     ]
    },
    {
     "data": {
      "image/png": "[encoded data removed]",
      "text/plain": [
       "<Figure size 432x288 with 2 Axes>"
      ]
     },
     "metadata": {
      "needs_background": "light"
     },
     "output_type": "display_data"
    }
   ],
   "source": [
    "confMatrix = confusion_matrix(y_val, clf_pred_pca)\n",
    "sns.heatmap(confMatrix, annot=True, fmt=\"d\",linecolor='black',linewidths=.2,cmap=\"YlGnBu\")\n",
    "result1 = classification_report(y_val, clf_pred_pca,zero_division=1)\n",
    "print(\"Classification Report:\",)\n",
    "print (result1)\n",
    "result2 = accuracy_score(y_val,clf_pred_pca)\n",
    "print(\"Accuracy:\",result2)"
   ]
  },
  {
   "cell_type": "markdown",
   "id": "a30f422a",
   "metadata": {},
   "source": [
    "### XGBOOST after PCA"
   ]
  },
  {
   "cell_type": "code",
   "execution_count": 46,
   "id": "a0a97dc8",
   "metadata": {},
   "outputs": [],
   "source": [
    "import xgboost\n",
    "xgb=xgboost.XGBClassifier(n_estimators=150,eval_metric='mlogloss')\n",
    "xgb.fit(X_train_pca,y_train)\n",
    "xgb_pca=xgb.predict(X_valid_pca)"
   ]
  },
  {
   "cell_type": "code",
   "execution_count": 47,
   "id": "d6b5369d",
   "metadata": {},
   "outputs": [
    {
     "name": "stdout",
     "output_type": "stream",
     "text": [
      "Classification Report:\n",
      "              precision    recall  f1-score   support\n",
      "\n",
      "           1       1.00      1.00      1.00      5128\n",
      "           2       1.00      0.99      1.00      6249\n",
      "           3       0.99      1.00      0.99      6297\n",
      "\n",
      "    accuracy                           1.00     17674\n",
      "   macro avg       1.00      1.00      1.00     17674\n",
      "weighted avg       1.00      1.00      1.00     17674\n",
      "\n",
      "Accuracy: 0.9962091207423334\n"
     ]
    },
    {
     "data": {
      "image/png": "[encoded data removed]",
      "text/plain": [
       "<Figure size 432x288 with 2 Axes>"
      ]
     },
     "metadata": {
      "needs_background": "light"
     },
     "output_type": "display_data"
    }
   ],
   "source": [
    "confMatrix = confusion_matrix(y_val, xgb_pca)\n",
    "sns.heatmap(confMatrix, annot=True, fmt=\"d\",linecolor='black',linewidths=.2,cmap=\"YlGnBu\")\n",
    "result1 = classification_report(y_val, xgb_pca,zero_division=1)\n",
    "print(\"Classification Report:\",)\n",
    "print (result1)\n",
    "result2 = accuracy_score(y_val,xgb_pca)\n",
    "print(\"Accuracy:\",result2)"
   ]
  },
  {
   "cell_type": "markdown",
   "id": "72db7df3",
   "metadata": {},
   "source": [
    "###  Random Forest Classifier after PCA"
   ]
  },
  {
   "cell_type": "code",
   "execution_count": 48,
   "id": "a0d61b1c",
   "metadata": {},
   "outputs": [],
   "source": [
    "rf_pca = RandomForestClassifier(random_state=10)\n",
    "rf_pca.fit(X_train_pca, y_train)\n",
    "rf_pred=rf_pca.predict(X_valid_pca)"
   ]
  },
  {
   "cell_type": "code",
   "execution_count": 49,
   "id": "f36508d2",
   "metadata": {},
   "outputs": [
    {
     "name": "stdout",
     "output_type": "stream",
     "text": [
      "Classification Report:\n",
      "              precision    recall  f1-score   support\n",
      "\n",
      "           1       1.00      1.00      1.00      5128\n",
      "           2       1.00      0.99      0.99      6249\n",
      "           3       0.99      1.00      0.99      6297\n",
      "\n",
      "    accuracy                           1.00     17674\n",
      "   macro avg       1.00      1.00      1.00     17674\n",
      "weighted avg       1.00      1.00      1.00     17674\n",
      "\n",
      "Accuracy: 0.995530157293199\n"
     ]
    },
    {
     "data": {
      "image/png": "[encoded data removed]",
      "text/plain": [
       "<Figure size 432x288 with 2 Axes>"
      ]
     },
     "metadata": {
      "needs_background": "light"
     },
     "output_type": "display_data"
    }
   ],
   "source": [
    "confMatrix = confusion_matrix(y_val, rf_pred)\n",
    "sns.heatmap(confMatrix, annot=True, fmt=\"d\",linecolor='black',linewidths=.2,cmap=\"YlGnBu\")\n",
    "result1 = classification_report(y_val, rf_pred,zero_division=1)\n",
    "print(\"Classification Report:\",)\n",
    "print (result1)\n",
    "result2 = accuracy_score(y_val,rf_pred)\n",
    "print(\"Accuracy:\",result2)"
   ]
  },
  {
   "cell_type": "code",
   "execution_count": 50,
   "id": "ccbf7b38",
   "metadata": {},
   "outputs": [],
   "source": [
    "from sklearn.ensemble import RandomForestClassifier\n",
    "rf = RandomForestClassifier(random_state=10)\n",
    "rf.fit(X_train, y_train)\n",
    "rf_pred=rf.predict(X_test_test)"
   ]
  },
  {
   "cell_type": "code",
   "execution_count": 51,
   "id": "f01ea0ca",
   "metadata": {},
   "outputs": [
    {
     "name": "stdout",
     "output_type": "stream",
     "text": [
      "Classification Report:\n",
      "              precision    recall  f1-score   support\n",
      "\n",
      "           1       1.00      1.00      1.00      7364\n",
      "           2       0.95      0.69      0.80      8806\n",
      "           3       0.76      0.96      0.85      9063\n",
      "\n",
      "    accuracy                           0.88     25233\n",
      "   macro avg       0.90      0.88      0.88     25233\n",
      "weighted avg       0.90      0.88      0.88     25233\n",
      "\n",
      "Accuracy: 0.8782546665081441\n"
     ]
    },
    {
     "data": {
      "image/png": "[encoded data removed]",
      "text/plain": [
       "<Figure size 432x288 with 2 Axes>"
      ]
     },
     "metadata": {
      "needs_background": "light"
     },
     "output_type": "display_data"
    }
   ],
   "source": [
    "confMatrix = confusion_matrix(y_test_test, rf_pred)\n",
    "sns.heatmap(confMatrix, annot=True, fmt=\"d\",linecolor='black',linewidths=.2,cmap=\"YlGnBu\")\n",
    "result1 = classification_report(y_test_test, rf_pred,zero_division=1)\n",
    "print(\"Classification Report:\",)\n",
    "print (result1)\n",
    "result2 = accuracy_score(y_test_test,rf_pred)\n",
    "print(\"Accuracy:\",result2)"
   ]
  },
  {
   "cell_type": "markdown",
   "id": "2d70a6fa",
   "metadata": {},
   "source": [
    "### Soft Voting Classifier "
   ]
  },
  {
   "cell_type": "code",
   "execution_count": 52,
   "id": "acc2c9d3",
   "metadata": {},
   "outputs": [
    {
     "name": "stdout",
     "output_type": "stream",
     "text": [
      "Logistic Regression accuracy: 81.89996605182755\n",
      "KNN accuracy: 98.23469503225077\n",
      "Xgboost accuracy: 99.62091207423333\n",
      "Random Forest accuracy: 99.55301572931991\n"
     ]
    }
   ],
   "source": [
    "from sklearn.ensemble import VotingClassifier\n",
    "classifiers = [('Logistic Regression', clf),\n",
    "               ('KNN', knn_pca),\n",
    "               ('Xgboost', xgb),             \n",
    "               ('Random Forest', rf_pca)]\n",
    "for c_name, c in classifiers:\n",
    "    c.fit(X_train_pca, y_train)\n",
    "    preds = c.predict(X_valid_pca)\n",
    "    print(f'{c_name} accuracy: {accuracy_score(y_val, preds)*100}')"
   ]
  },
  {
   "cell_type": "code",
   "execution_count": 53,
   "id": "f0424e95",
   "metadata": {},
   "outputs": [],
   "source": [
    "VC_soft = VotingClassifier(estimators=classifiers, voting='soft')\n",
    "VC_soft.fit(X_train_pca, y_train)\n",
    "preds = VC_soft.predict(X_valid_pca)"
   ]
  },
  {
   "cell_type": "code",
   "execution_count": 54,
   "id": "fa16ad6c",
   "metadata": {},
   "outputs": [
    {
     "name": "stdout",
     "output_type": "stream",
     "text": [
      "Soft Voting Classifier score: 99.47946135566369\n"
     ]
    }
   ],
   "source": [
    "soft_vc_pca = accuracy_score(y_val, preds)*100\n",
    "print(f'Soft Voting Classifier score: {soft_vc_pca}')"
   ]
  },
  {
   "cell_type": "markdown",
   "id": "7755aa94",
   "metadata": {},
   "source": [
    "### Hard Voting Classifier"
   ]
  },
  {
   "cell_type": "code",
   "execution_count": 55,
   "id": "f7d52ce0",
   "metadata": {},
   "outputs": [],
   "source": [
    "VC_hard = VotingClassifier(estimators=classifiers, voting='hard')\n",
    "VC_hard.fit(X_train_pca, y_train)\n",
    "preds = VC_hard.predict(X_valid_pca)"
   ]
  },
  {
   "cell_type": "code",
   "execution_count": 56,
   "id": "c4f19a3f",
   "metadata": {},
   "outputs": [
    {
     "name": "stdout",
     "output_type": "stream",
     "text": [
      "Hard Voting Classifier score: 99.25314020595225\n"
     ]
    }
   ],
   "source": [
    "hard_vc_pca = accuracy_score(y_val, preds)*100\n",
    "print(f'Hard Voting Classifier score: {hard_vc_pca}')"
   ]
  },
  {
   "cell_type": "markdown",
   "id": "88be681a",
   "metadata": {},
   "source": [
    "<B> Almost all of the models gave perfect accuracy score on the training set."
   ]
  },
  {
   "cell_type": "markdown",
   "id": "02cc2a8a",
   "metadata": {},
   "source": [
    "## Test Set modeling"
   ]
  },
  {
   "cell_type": "markdown",
   "id": "2d8891fa",
   "metadata": {},
   "source": [
    "<B> Almost all of the model gave me perfect score on the train set,  \n",
    "    so i will try most of the models on the test set."
   ]
  },
  {
   "cell_type": "markdown",
   "id": "42542fc0",
   "metadata": {},
   "source": [
    "### KNN on Test set"
   ]
  },
  {
   "cell_type": "code",
   "execution_count": 57,
   "id": "c3147ff2",
   "metadata": {},
   "outputs": [
    {
     "data": {
      "text/plain": [
       "[0.8566559663932153,\n",
       " 0.8549914794118812,\n",
       " 0.8569730115325169,\n",
       " 0.8573693179566441,\n",
       " 0.8595093726469306,\n",
       " 0.858637498513851,\n",
       " 0.8603019854951849,\n",
       " 0.8595490032893434,\n",
       " 0.8599056790710577,\n",
       " 0.8603812467800103,\n",
       " 0.8608568144889629,\n",
       " 0.8611342289858519,\n",
       " 0.8617286886220425,\n",
       " 0.8612134902706773,\n",
       " 0.8617286886220425,\n",
       " 0.8615701660523917,\n",
       " 0.86125312091309,\n",
       " 0.8619664724765188,\n",
       " 0.8627987159671858,\n",
       " 0.8625213014702968,\n",
       " 0.8614116434827409,\n",
       " 0.8622835176158206,\n",
       " 0.86125312091309,\n",
       " 0.8613720128403282,\n",
       " 0.8614512741251535,\n",
       " 0.86125312091309,\n",
       " 0.8616097966948044,\n",
       " 0.8612134902706773,\n",
       " 0.8608568144889629]"
      ]
     },
     "execution_count": 57,
     "metadata": {},
     "output_type": "execute_result"
    }
   ],
   "source": [
    "from sklearn.neighbors import KNeighborsClassifier\n",
    "k_range = list(range(1, 30))\n",
    "acc = []\n",
    "for k in k_range:\n",
    "    knn_t = KNeighborsClassifier(n_neighbors=k)\n",
    "    knn_t.fit(X_train, y_train)\n",
    "    neigh_t = knn_t.predict(X_test_test)\n",
    "    acc.append(metrics.accuracy_score(y_test_test, neigh_t))\n",
    "acc"
   ]
  },
  {
   "cell_type": "markdown",
   "id": "3ccffdc4",
   "metadata": {},
   "source": [
    "### Random Forest Classifier on Test set"
   ]
  },
  {
   "cell_type": "code",
   "execution_count": 58,
   "id": "b0330d99",
   "metadata": {},
   "outputs": [],
   "source": [
    "from sklearn.ensemble import RandomForestClassifier\n",
    "rf = RandomForestClassifier(random_state=10)\n",
    "rf.fit(X_train, y_train)\n",
    "rf_pred=rf.predict(X_test_test)"
   ]
  },
  {
   "cell_type": "code",
   "execution_count": 59,
   "id": "647b0cf2",
   "metadata": {},
   "outputs": [
    {
     "name": "stdout",
     "output_type": "stream",
     "text": [
      "Classification Report:\n",
      "              precision    recall  f1-score   support\n",
      "\n",
      "           1       1.00      1.00      1.00      7364\n",
      "           2       0.95      0.69      0.80      8806\n",
      "           3       0.76      0.96      0.85      9063\n",
      "\n",
      "    accuracy                           0.88     25233\n",
      "   macro avg       0.90      0.88      0.88     25233\n",
      "weighted avg       0.90      0.88      0.88     25233\n",
      "\n",
      "Accuracy: 0.8782546665081441\n"
     ]
    },
    {
     "data": {
      "image/png": "[encoded data removed]",
      "text/plain": [
       "<Figure size 432x288 with 2 Axes>"
      ]
     },
     "metadata": {
      "needs_background": "light"
     },
     "output_type": "display_data"
    }
   ],
   "source": [
    "confMatrix = confusion_matrix(y_test_test, rf_pred)\n",
    "sns.heatmap(confMatrix, annot=True, fmt=\"d\",linecolor='black',linewidths=.2,cmap=\"YlGnBu\")\n",
    "result1 = classification_report(y_test_test, rf_pred,zero_division=1)\n",
    "print(\"Classification Report:\",)\n",
    "print (result1)\n",
    "result2 = accuracy_score(y_test_test,rf_pred)\n",
    "print(\"Accuracy:\",result2)"
   ]
  },
  {
   "cell_type": "markdown",
   "id": "b9583cb4",
   "metadata": {},
   "source": [
    "### XGBOOST on Test set"
   ]
  },
  {
   "cell_type": "code",
   "execution_count": 60,
   "id": "2b28db11",
   "metadata": {},
   "outputs": [],
   "source": [
    "xgb_test=xgboost.XGBClassifier(n_estimators=150,eval_metric='mlogloss')\n",
    "xgb_test.fit(X_train,y_train)\n",
    "xgb_predtest=xgb_test.predict(X_test_test)"
   ]
  },
  {
   "cell_type": "code",
   "execution_count": 61,
   "id": "40410ce1",
   "metadata": {},
   "outputs": [
    {
     "name": "stdout",
     "output_type": "stream",
     "text": [
      "Classification Report:\n",
      "              precision    recall  f1-score   support\n",
      "\n",
      "           1       1.00      1.00      1.00      7364\n",
      "           2       0.93      0.73      0.82      8806\n",
      "           3       0.79      0.95      0.86      9063\n",
      "\n",
      "    accuracy                           0.89     25233\n",
      "   macro avg       0.91      0.89      0.89     25233\n",
      "weighted avg       0.90      0.89      0.89     25233\n",
      "\n",
      "Accuracy: 0.8877660206871953\n"
     ]
    },
    {
     "data": {
      "image/png": "[encoded data removed]",
      "text/plain": [
       "<Figure size 432x288 with 2 Axes>"
      ]
     },
     "metadata": {
      "needs_background": "light"
     },
     "output_type": "display_data"
    }
   ],
   "source": [
    "confMatrix = confusion_matrix(y_test_test, xgb_predtest)\n",
    "sns.heatmap(confMatrix, annot=True, fmt=\"d\",linecolor='black',linewidths=.2,cmap=\"YlGnBu\")\n",
    "result1 = classification_report(y_test_test, xgb_predtest,zero_division=1)\n",
    "print(\"Classification Report:\",)\n",
    "print (result1)\n",
    "result2 = accuracy_score(y_test_test,xgb_predtest)\n",
    "print(\"Accuracy:\",result2)"
   ]
  },
  {
   "cell_type": "markdown",
   "id": "e31d383c",
   "metadata": {},
   "source": [
    "## Ensemble Learning on Test set"
   ]
  },
  {
   "cell_type": "markdown",
   "id": "286726d6",
   "metadata": {},
   "source": [
    "### Soft Voting"
   ]
  },
  {
   "cell_type": "code",
   "execution_count": 62,
   "id": "ce26f8dc",
   "metadata": {},
   "outputs": [
    {
     "name": "stdout",
     "output_type": "stream",
     "text": [
      "KNN accuracy: 86.0856814488963\n",
      "Xgboost accuracy: 88.77660206871954\n",
      "Random Forest accuracy: 87.8254666508144\n"
     ]
    }
   ],
   "source": [
    "from sklearn.ensemble import VotingClassifier\n",
    "classifiers = [('KNN', knn_t),\n",
    "               ('Xgboost', xgb_test),             \n",
    "               ('Random Forest', rf)]\n",
    "for c_name, c in classifiers:\n",
    "    c.fit(X_train, y_train)\n",
    "    preds = c.predict(X_test_test)\n",
    "    print(f'{c_name} accuracy: {accuracy_score(y_test_test, preds)*100}')"
   ]
  },
  {
   "cell_type": "code",
   "execution_count": 63,
   "id": "58e63014",
   "metadata": {},
   "outputs": [],
   "source": [
    "VC_soft = VotingClassifier(estimators=classifiers, voting='soft')\n",
    "VC_soft.fit(X_train, y_train)\n",
    "preds = VC_soft.predict(X_test_test)"
   ]
  },
  {
   "cell_type": "code",
   "execution_count": 64,
   "id": "b7c54565",
   "metadata": {},
   "outputs": [
    {
     "name": "stdout",
     "output_type": "stream",
     "text": [
      "Soft Voting Classifier score: 89.10553640074505\n"
     ]
    }
   ],
   "source": [
    "soft_vc_test = accuracy_score(y_test_test, preds)*100\n",
    "print(f'Soft Voting Classifier score: {soft_vc_test}')"
   ]
  },
  {
   "cell_type": "code",
   "execution_count": 65,
   "id": "9b774e2d",
   "metadata": {},
   "outputs": [
    {
     "name": "stdout",
     "output_type": "stream",
     "text": [
      "Classification Report:\n",
      "              precision    recall  f1-score   support\n",
      "\n",
      "           1       1.00      1.00      1.00      7364\n",
      "           2       0.94      0.74      0.83      8806\n",
      "           3       0.79      0.95      0.86      9063\n",
      "\n",
      "    accuracy                           0.89     25233\n",
      "   macro avg       0.91      0.90      0.90     25233\n",
      "weighted avg       0.90      0.89      0.89     25233\n",
      "\n",
      "Accuracy: 0.8910553640074506\n"
     ]
    },
    {
     "data": {
      "image/png": "[encoded data removed]",
      "text/plain": [
       "<Figure size 432x288 with 2 Axes>"
      ]
     },
     "metadata": {
      "needs_background": "light"
     },
     "output_type": "display_data"
    }
   ],
   "source": [
    "confMatrix = confusion_matrix(y_test_test, preds)\n",
    "sns.heatmap(confMatrix, annot=True, fmt=\"d\",linecolor='black',linewidths=.2,cmap=\"YlGnBu\")\n",
    "result1 = classification_report(y_test_test, preds,zero_division=1)\n",
    "print(\"Classification Report:\",)\n",
    "print (result1)\n",
    "result2 = accuracy_score(y_test_test,preds)\n",
    "print(\"Accuracy:\",result2)"
   ]
  },
  {
   "cell_type": "markdown",
   "id": "2b7a3afa",
   "metadata": {},
   "source": [
    "### Hard Voting"
   ]
  },
  {
   "cell_type": "code",
   "execution_count": 66,
   "id": "41aec2ea",
   "metadata": {},
   "outputs": [],
   "source": [
    "VC_hard = VotingClassifier(estimators=classifiers, voting='hard')\n",
    "VC_hard.fit(X_train, y_train)\n",
    "preds = VC_hard.predict(X_test_test)"
   ]
  },
  {
   "cell_type": "code",
   "execution_count": 67,
   "id": "0b341a39",
   "metadata": {},
   "outputs": [
    {
     "name": "stdout",
     "output_type": "stream",
     "text": [
      "Hard Voting Classifier score: 88.77263900447826\n"
     ]
    }
   ],
   "source": [
    "hard_vc_test = accuracy_score(y_test_test, preds)*100\n",
    "print(f'Hard Voting Classifier score: {hard_vc_test}')"
   ]
  },
  {
   "cell_type": "markdown",
   "id": "c9cd5d8f",
   "metadata": {},
   "source": [
    "## PCA on Test set"
   ]
  },
  {
   "cell_type": "code",
   "execution_count": 68,
   "id": "7412ca00",
   "metadata": {},
   "outputs": [],
   "source": [
    "X_testreduce=pca.transform(X_test_test)"
   ]
  },
  {
   "cell_type": "code",
   "execution_count": 69,
   "id": "ab30d9c6",
   "metadata": {},
   "outputs": [],
   "source": [
    "X_test_pca=pd.DataFrame(X_testreduce)"
   ]
  },
  {
   "cell_type": "code",
   "execution_count": 70,
   "id": "eadd5bf8",
   "metadata": {},
   "outputs": [
    {
     "data": {
      "text/plain": [
       "[0.8591130662228035,\n",
       " 0.8591130662228035,\n",
       " 0.8591130662228035,\n",
       " 0.8591130662228035,\n",
       " 0.8591130662228035,\n",
       " 0.8591130662228035,\n",
       " 0.8591130662228035,\n",
       " 0.8591130662228035,\n",
       " 0.8591130662228035,\n",
       " 0.8591130662228035,\n",
       " 0.8591130662228035,\n",
       " 0.8591130662228035,\n",
       " 0.8591130662228035,\n",
       " 0.8591130662228035,\n",
       " 0.8591130662228035,\n",
       " 0.8591130662228035,\n",
       " 0.8591130662228035,\n",
       " 0.8591130662228035,\n",
       " 0.8591130662228035,\n",
       " 0.8591130662228035,\n",
       " 0.8591130662228035,\n",
       " 0.8591130662228035,\n",
       " 0.8591130662228035,\n",
       " 0.8591130662228035,\n",
       " 0.8591130662228035,\n",
       " 0.8591130662228035,\n",
       " 0.8591130662228035,\n",
       " 0.8591130662228035,\n",
       " 0.8591130662228035]"
      ]
     },
     "execution_count": 70,
     "metadata": {},
     "output_type": "execute_result"
    }
   ],
   "source": [
    "from sklearn.neighbors import KNeighborsClassifier\n",
    "k_range = list(range(1, 30))\n",
    "acc = []\n",
    "for k in k_range:\n",
    "    knn_testpca = KNeighborsClassifier(n_neighbors=k)\n",
    "    knn_testpca.fit(X_train_pca, y_train)\n",
    "    neigh_test_PCA = knn_pca.predict(X_test_pca)\n",
    "    acc.append(metrics.accuracy_score(y_test_test, neigh_test_PCA))\n",
    "acc"
   ]
  },
  {
   "cell_type": "markdown",
   "id": "cf44ae9e",
   "metadata": {},
   "source": [
    "### Random Forest Classifier on test set with PCA "
   ]
  },
  {
   "cell_type": "code",
   "execution_count": 71,
   "id": "2247a144",
   "metadata": {},
   "outputs": [],
   "source": [
    "rf_test_pca = RandomForestClassifier(random_state=10)\n",
    "rf_test_pca.fit(X_train_pca, y_train)\n",
    "rf_testpca=rf_test_pca.predict(X_test_pca)"
   ]
  },
  {
   "cell_type": "code",
   "execution_count": 72,
   "id": "643949dd",
   "metadata": {},
   "outputs": [
    {
     "name": "stdout",
     "output_type": "stream",
     "text": [
      "Classification Report:\n",
      "              precision    recall  f1-score   support\n",
      "\n",
      "           1       1.00      0.99      0.99      7364\n",
      "           2       0.94      0.67      0.78      8806\n",
      "           3       0.75      0.96      0.84      9063\n",
      "\n",
      "    accuracy                           0.87     25233\n",
      "   macro avg       0.90      0.87      0.87     25233\n",
      "weighted avg       0.89      0.87      0.87     25233\n",
      "\n",
      "Accuracy: 0.868862204256331\n"
     ]
    },
    {
     "data": {
      "image/png": "[encoded data removed]",
      "text/plain": [
       "<Figure size 432x288 with 2 Axes>"
      ]
     },
     "metadata": {
      "needs_background": "light"
     },
     "output_type": "display_data"
    }
   ],
   "source": [
    "confMatrix = confusion_matrix(y_test_test, rf_testpca)\n",
    "sns.heatmap(confMatrix, annot=True, fmt=\"d\",linecolor='black',linewidths=.2,cmap=\"YlGnBu\")\n",
    "result1 = classification_report(y_test_test, rf_testpca,zero_division=1)\n",
    "print(\"Classification Report:\",)\n",
    "print (result1)\n",
    "result2 = accuracy_score(y_test_test,rf_testpca)\n",
    "print(\"Accuracy:\",result2)"
   ]
  },
  {
   "cell_type": "markdown",
   "id": "1fa30430",
   "metadata": {},
   "source": [
    "### Logistic Regression on test set with PCA "
   ]
  },
  {
   "cell_type": "code",
   "execution_count": 73,
   "id": "5656e934",
   "metadata": {},
   "outputs": [],
   "source": [
    "clf_pca = LogisticRegression(random_state=0)\n",
    "clf_pca.fit(X_train_pca,y_train)\n",
    "clf_test_pca=clf_pca.predict(X_test_pca)"
   ]
  },
  {
   "cell_type": "code",
   "execution_count": 74,
   "id": "890fc2e1",
   "metadata": {},
   "outputs": [
    {
     "name": "stdout",
     "output_type": "stream",
     "text": [
      "Classification Report:\n",
      "              precision    recall  f1-score   support\n",
      "\n",
      "           1       0.79      0.93      0.85      7364\n",
      "           2       0.91      0.58      0.71      8806\n",
      "           3       0.71      0.85      0.77      9063\n",
      "\n",
      "    accuracy                           0.78     25233\n",
      "   macro avg       0.80      0.79      0.78     25233\n",
      "weighted avg       0.80      0.78      0.77     25233\n",
      "\n",
      "Accuracy: 0.7805255023183926\n"
     ]
    },
    {
     "data": {
      "image/png": "[encoded data removed]",
      "text/plain": [
       "<Figure size 432x288 with 2 Axes>"
      ]
     },
     "metadata": {
      "needs_background": "light"
     },
     "output_type": "display_data"
    }
   ],
   "source": [
    "confMatrix = confusion_matrix(y_test_test, clf_test_pca)\n",
    "sns.heatmap(confMatrix, annot=True, fmt=\"d\",linecolor='black',linewidths=.2,cmap=\"YlGnBu\")\n",
    "result1 = classification_report(y_test_test, clf_test_pca,zero_division=1)\n",
    "print(\"Classification Report:\",)\n",
    "print (result1)\n",
    "result2 = accuracy_score(y_test_test,clf_test_pca)\n",
    "print(\"Accuracy:\",result2)"
   ]
  },
  {
   "cell_type": "markdown",
   "id": "d21131cf",
   "metadata": {},
   "source": [
    "### XGBOOST on Test set with PCA "
   ]
  },
  {
   "cell_type": "code",
   "execution_count": 75,
   "id": "e1f739aa",
   "metadata": {},
   "outputs": [],
   "source": [
    "xgb_test_pca=xgboost.XGBClassifier(n_estimators=150,eval_metric='mlogloss')\n",
    "xgb_test_pca.fit(X_train_pca,y_train)\n",
    "xgb_predtest=xgb_test_pca.predict(X_test_pca)"
   ]
  },
  {
   "cell_type": "code",
   "execution_count": 76,
   "id": "8c998f55",
   "metadata": {},
   "outputs": [
    {
     "name": "stdout",
     "output_type": "stream",
     "text": [
      "Classification Report:\n",
      "              precision    recall  f1-score   support\n",
      "\n",
      "           1       0.99      1.00      0.99      7364\n",
      "           2       0.91      0.68      0.78      8806\n",
      "           3       0.75      0.94      0.83      9063\n",
      "\n",
      "    accuracy                           0.86     25233\n",
      "   macro avg       0.89      0.87      0.87     25233\n",
      "weighted avg       0.88      0.86      0.86     25233\n",
      "\n",
      "Accuracy: 0.8649387706574724\n"
     ]
    },
    {
     "data": {
      "image/png": "[encoded data removed]",
      "text/plain": [
       "<Figure size 432x288 with 2 Axes>"
      ]
     },
     "metadata": {
      "needs_background": "light"
     },
     "output_type": "display_data"
    }
   ],
   "source": [
    "confMatrix = confusion_matrix(y_test_test, xgb_predtest)\n",
    "sns.heatmap(confMatrix, annot=True, fmt=\"d\",linecolor='black',linewidths=.2,cmap=\"YlGnBu\")\n",
    "result1 = classification_report(y_test_test, xgb_predtest,zero_division=1)\n",
    "print(\"Classification Report:\",)\n",
    "print (result1)\n",
    "result2 = accuracy_score(y_test_test,xgb_predtest)\n",
    "print(\"Accuracy:\",result2)"
   ]
  },
  {
   "cell_type": "markdown",
   "id": "ff478416",
   "metadata": {},
   "source": [
    "<B> Let's try Voting on the best models"
   ]
  },
  {
   "cell_type": "code",
   "execution_count": 77,
   "id": "febc4b6d",
   "metadata": {},
   "outputs": [
    {
     "name": "stdout",
     "output_type": "stream",
     "text": [
      "KNN accuracy: 85.91130662228035\n",
      "Xgboost accuracy: 86.49387706574724\n",
      "Random Forest accuracy: 86.8862204256331\n"
     ]
    }
   ],
   "source": [
    "from sklearn.ensemble import VotingClassifier\n",
    "classifiers = [('KNN', knn_testpca),\n",
    "               ('Xgboost', xgb_test_pca),             \n",
    "               ('Random Forest', rf_test_pca)]\n",
    "for c_name, c in classifiers:\n",
    "    c.fit(X_train_pca, y_train)\n",
    "    preds = c.predict(X_test_pca)\n",
    "    print(f'{c_name} accuracy: {accuracy_score(y_test_test, preds)*100}')"
   ]
  },
  {
   "cell_type": "markdown",
   "id": "30b28960",
   "metadata": {},
   "source": [
    "### Soft voting on test set with PCA"
   ]
  },
  {
   "cell_type": "code",
   "execution_count": 78,
   "id": "7489df68",
   "metadata": {},
   "outputs": [],
   "source": [
    "VC_soft = VotingClassifier(estimators=classifiers, voting='soft')\n",
    "VC_soft.fit(X_train_pca, y_train)\n",
    "preds = VC_soft.predict(X_test_pca)"
   ]
  },
  {
   "cell_type": "code",
   "execution_count": 79,
   "id": "e870913f",
   "metadata": {},
   "outputs": [
    {
     "name": "stdout",
     "output_type": "stream",
     "text": [
      "Soft Voting Classifier score: 88.02758292711925\n"
     ]
    }
   ],
   "source": [
    "soft_vc_test_pca = accuracy_score(y_test_test, preds)*100\n",
    "print(f'Soft Voting Classifier score: {soft_vc_test_pca}')"
   ]
  },
  {
   "cell_type": "code",
   "execution_count": 80,
   "id": "4aed5f58",
   "metadata": {},
   "outputs": [
    {
     "name": "stdout",
     "output_type": "stream",
     "text": [
      "Classification Report:\n",
      "              precision    recall  f1-score   support\n",
      "\n",
      "           1       1.00      1.00      1.00      7364\n",
      "           2       0.92      0.72      0.81      8806\n",
      "           3       0.77      0.94      0.85      9063\n",
      "\n",
      "    accuracy                           0.88     25233\n",
      "   macro avg       0.90      0.89      0.89     25233\n",
      "weighted avg       0.89      0.88      0.88     25233\n",
      "\n",
      "Accuracy: 0.8802758292711925\n"
     ]
    },
    {
     "data": {
      "image/png": "[encoded data removed]",
      "text/plain": [
       "<Figure size 432x288 with 2 Axes>"
      ]
     },
     "metadata": {
      "needs_background": "light"
     },
     "output_type": "display_data"
    }
   ],
   "source": [
    "confMatrix = confusion_matrix(y_test_test, preds)\n",
    "sns.heatmap(confMatrix, annot=True, fmt=\"d\",linecolor='black',linewidths=.2,cmap=\"YlGnBu\")\n",
    "result1 = classification_report(y_test_test, preds,zero_division=1)\n",
    "print(\"Classification Report:\",)\n",
    "print (result1)\n",
    "result2 = accuracy_score(y_test_test,preds)\n",
    "print(\"Accuracy:\",result2)"
   ]
  },
  {
   "cell_type": "markdown",
   "id": "bfe63129",
   "metadata": {},
   "source": [
    "### Hard voting on test set with PCA"
   ]
  },
  {
   "cell_type": "code",
   "execution_count": 81,
   "id": "36886fb8",
   "metadata": {},
   "outputs": [],
   "source": [
    "VC_hard = VotingClassifier(estimators=classifiers, voting='hard')\n",
    "VC_hard.fit(X_train_pca, y_train)\n",
    "preds = VC_hard.predict(X_test_pca)"
   ]
  },
  {
   "cell_type": "code",
   "execution_count": 82,
   "id": "59bc085e",
   "metadata": {},
   "outputs": [
    {
     "name": "stdout",
     "output_type": "stream",
     "text": [
      "Hard Voting Classifier score: 87.94832164229382\n"
     ]
    }
   ],
   "source": [
    "hard_vc_test_pca = accuracy_score(y_test_test, preds)*100\n",
    "print(f'Hard Voting Classifier score: {hard_vc_test_pca}')"
   ]
  },
  {
   "cell_type": "markdown",
   "id": "1829a18e",
   "metadata": {},
   "source": [
    "<B> As we can see the test set is ok (as less then 0.99 score).  \n",
    "    The best score without PCA was with soft voting classifier and the score was 0.89.  \n",
    "    And with PCA the best score was also with the soft voting classifier and was 0.88.  \n",
    "    As it look the best model for the hand data set is the soft voting classifier, it was consistent by giving the \n",
    "    best score with PCA and without it.  \n",
    "    So for conclusion we got good score and also we got 0.88 score for the f-1 score! (with PCA).  \n",
    "    \n",
    "    "
   ]
  }
 ],
 "metadata": {
  "kernelspec": {
   "display_name": "Python 3",
   "language": "python",
   "name": "python3"
  },
  "language_info": {
   "codemirror_mode": {
    "name": "ipython",
    "version": 3
   },
   "file_extension": ".py",
   "mimetype": "text/x-python",
   "name": "python",
   "nbconvert_exporter": "python",
   "pygments_lexer": "ipython3",
   "version": "3.8.8"
  }
 },
 "nbformat": 4,
 "nbformat_minor": 5
}
