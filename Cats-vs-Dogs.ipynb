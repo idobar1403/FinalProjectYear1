{
 "cells": [
  {
   "cell_type": "markdown",
   "id": "ae8489fc",
   "metadata": {},
   "source": [
    "<B> I'm assuming that the data is proper."
   ]
  },
  {
   "cell_type": "code",
   "execution_count": 1,
   "id": "cf15fe8a",
   "metadata": {},
   "outputs": [],
   "source": [
    "import os  # dealing with directories\n",
    "import cv2  # working with, mainly resizing, images\n",
    "import matplotlib.pyplot as plt\n",
    "import numpy as np\n",
    "import pandas as pd\n",
    "import seaborn as sns\n",
    "from PIL import Image as im\n",
    "import random\n",
    "from sklearn.decomposition import PCA\n",
    "from sklearn import metrics\n",
    "from sklearn.metrics import accuracy_score\n",
    "from sklearn.metrics import confusion_matrix\n",
    "from sklearn.metrics import classification_report\n",
    "import warnings\n",
    "warnings.filterwarnings('ignore')"
   ]
  },
  {
   "cell_type": "markdown",
   "id": "bcc50936",
   "metadata": {},
   "source": [
    "### Uploading the images"
   ]
  },
  {
   "cell_type": "markdown",
   "id": "4828372d",
   "metadata": {},
   "source": [
    "<B> I got the uploading images idea from kaggle notebook"
   ]
  },
  {
   "cell_type": "code",
   "execution_count": 2,
   "id": "82334d52",
   "metadata": {},
   "outputs": [],
   "source": [
    "train_directory = r'/Users/idobar/Documents/GitHub/FirstFinal/train/'\n",
    "train_filepath = [train_directory + last_file_name for last_file_name in os.listdir(train_directory)]\n",
    "train_dogs_filepath = [train_directory + dog_file_name for dog_file_name in os.listdir(train_directory) if 'dog' in dog_file_name]\n",
    "train_cats_filepath = [train_directory + cat_file_name for cat_file_name in os.listdir(train_directory) if 'cat' in cat_file_name]"
   ]
  },
  {
   "cell_type": "code",
   "execution_count": 3,
   "id": "112f6256",
   "metadata": {},
   "outputs": [],
   "source": [
    "def read_image(file_path):\n",
    "    #grayscaling\n",
    "    img = cv2.imread(file_path,0)\n",
    "    #resizing the images to 64,64 in order to get all the images in the same size\n",
    "    return cv2.resize(img, (64, 64))"
   ]
  },
  {
   "cell_type": "code",
   "execution_count": 4,
   "id": "a34e18ba",
   "metadata": {},
   "outputs": [],
   "source": [
    "def prep_data(images):\n",
    "    image_len = len(images)\n",
    "    size = 4096 #64*64\n",
    "    X = np.ndarray((image_len, size), dtype=np.uint8)\n",
    "    y = np.zeros((image_len, 1))\n",
    "    for i, image_file in enumerate(images):\n",
    "        # Sending the image to the read_image function \n",
    "        image = read_image(image_file)\n",
    "        X[i, :] = np.squeeze(image.reshape((size, 1)))\n",
    "        # The value will be 1 for dog and 0 for cat\n",
    "        if '/dog' in image_file:\n",
    "            y[i, 0] = 1\n",
    "        elif '/cat' in image_file:\n",
    "             y[i, 0] = 0\n",
    "    return X, y"
   ]
  },
  {
   "cell_type": "code",
   "execution_count": 5,
   "id": "f554bd84",
   "metadata": {},
   "outputs": [],
   "source": [
    "data,target = prep_data(train_filepath)"
   ]
  },
  {
   "cell_type": "code",
   "execution_count": 6,
   "id": "6a390109",
   "metadata": {},
   "outputs": [],
   "source": [
    "df = pd.DataFrame(data)\n",
    "target=pd.DataFrame(target,columns = ['labels'])"
   ]
  },
  {
   "cell_type": "markdown",
   "id": "0de99893",
   "metadata": {},
   "source": [
    "<B> After successfully uploading the images lets do some visualization"
   ]
  },
  {
   "cell_type": "markdown",
   "id": "fe5e6fa5",
   "metadata": {},
   "source": [
    "### Visualization"
   ]
  },
  {
   "cell_type": "code",
   "execution_count": 7,
   "id": "c1854e7e",
   "metadata": {},
   "outputs": [
    {
     "data": {
      "text/html": [
       "<div>\n",
       "<style scoped>\n",
       "    .dataframe tbody tr th:only-of-type {\n",
       "        vertical-align: middle;\n",
       "    }\n",
       "\n",
       "    .dataframe tbody tr th {\n",
       "        vertical-align: top;\n",
       "    }\n",
       "\n",
       "    .dataframe thead th {\n",
       "        text-align: right;\n",
       "    }\n",
       "</style>\n",
       "<table border=\"1\" class=\"dataframe\">\n",
       "  <thead>\n",
       "    <tr style=\"text-align: right;\">\n",
       "      <th></th>\n",
       "      <th>0</th>\n",
       "      <th>1</th>\n",
       "      <th>2</th>\n",
       "      <th>3</th>\n",
       "      <th>4</th>\n",
       "      <th>5</th>\n",
       "      <th>6</th>\n",
       "      <th>7</th>\n",
       "      <th>8</th>\n",
       "      <th>9</th>\n",
       "      <th>...</th>\n",
       "      <th>4086</th>\n",
       "      <th>4087</th>\n",
       "      <th>4088</th>\n",
       "      <th>4089</th>\n",
       "      <th>4090</th>\n",
       "      <th>4091</th>\n",
       "      <th>4092</th>\n",
       "      <th>4093</th>\n",
       "      <th>4094</th>\n",
       "      <th>4095</th>\n",
       "    </tr>\n",
       "  </thead>\n",
       "  <tbody>\n",
       "    <tr>\n",
       "      <th>0</th>\n",
       "      <td>19</td>\n",
       "      <td>47</td>\n",
       "      <td>26</td>\n",
       "      <td>58</td>\n",
       "      <td>49</td>\n",
       "      <td>73</td>\n",
       "      <td>70</td>\n",
       "      <td>68</td>\n",
       "      <td>71</td>\n",
       "      <td>73</td>\n",
       "      <td>...</td>\n",
       "      <td>49</td>\n",
       "      <td>53</td>\n",
       "      <td>36</td>\n",
       "      <td>30</td>\n",
       "      <td>34</td>\n",
       "      <td>41</td>\n",
       "      <td>51</td>\n",
       "      <td>54</td>\n",
       "      <td>58</td>\n",
       "      <td>52</td>\n",
       "    </tr>\n",
       "    <tr>\n",
       "      <th>1</th>\n",
       "      <td>96</td>\n",
       "      <td>104</td>\n",
       "      <td>114</td>\n",
       "      <td>112</td>\n",
       "      <td>110</td>\n",
       "      <td>111</td>\n",
       "      <td>111</td>\n",
       "      <td>113</td>\n",
       "      <td>116</td>\n",
       "      <td>115</td>\n",
       "      <td>...</td>\n",
       "      <td>117</td>\n",
       "      <td>98</td>\n",
       "      <td>141</td>\n",
       "      <td>117</td>\n",
       "      <td>121</td>\n",
       "      <td>120</td>\n",
       "      <td>113</td>\n",
       "      <td>107</td>\n",
       "      <td>26</td>\n",
       "      <td>49</td>\n",
       "    </tr>\n",
       "    <tr>\n",
       "      <th>2</th>\n",
       "      <td>70</td>\n",
       "      <td>157</td>\n",
       "      <td>180</td>\n",
       "      <td>181</td>\n",
       "      <td>189</td>\n",
       "      <td>164</td>\n",
       "      <td>141</td>\n",
       "      <td>146</td>\n",
       "      <td>149</td>\n",
       "      <td>198</td>\n",
       "      <td>...</td>\n",
       "      <td>114</td>\n",
       "      <td>110</td>\n",
       "      <td>112</td>\n",
       "      <td>95</td>\n",
       "      <td>93</td>\n",
       "      <td>87</td>\n",
       "      <td>85</td>\n",
       "      <td>81</td>\n",
       "      <td>68</td>\n",
       "      <td>68</td>\n",
       "    </tr>\n",
       "    <tr>\n",
       "      <th>3</th>\n",
       "      <td>26</td>\n",
       "      <td>25</td>\n",
       "      <td>26</td>\n",
       "      <td>28</td>\n",
       "      <td>27</td>\n",
       "      <td>27</td>\n",
       "      <td>35</td>\n",
       "      <td>28</td>\n",
       "      <td>28</td>\n",
       "      <td>27</td>\n",
       "      <td>...</td>\n",
       "      <td>61</td>\n",
       "      <td>22</td>\n",
       "      <td>35</td>\n",
       "      <td>30</td>\n",
       "      <td>39</td>\n",
       "      <td>36</td>\n",
       "      <td>26</td>\n",
       "      <td>52</td>\n",
       "      <td>46</td>\n",
       "      <td>42</td>\n",
       "    </tr>\n",
       "    <tr>\n",
       "      <th>4</th>\n",
       "      <td>255</td>\n",
       "      <td>255</td>\n",
       "      <td>255</td>\n",
       "      <td>255</td>\n",
       "      <td>255</td>\n",
       "      <td>255</td>\n",
       "      <td>255</td>\n",
       "      <td>255</td>\n",
       "      <td>255</td>\n",
       "      <td>255</td>\n",
       "      <td>...</td>\n",
       "      <td>255</td>\n",
       "      <td>255</td>\n",
       "      <td>255</td>\n",
       "      <td>255</td>\n",
       "      <td>255</td>\n",
       "      <td>255</td>\n",
       "      <td>255</td>\n",
       "      <td>255</td>\n",
       "      <td>255</td>\n",
       "      <td>255</td>\n",
       "    </tr>\n",
       "  </tbody>\n",
       "</table>\n",
       "<p>5 rows × 4096 columns</p>\n",
       "</div>"
      ],
      "text/plain": [
       "   0     1     2     3     4     5     6     7     8     9     ...  4086  \\\n",
       "0    19    47    26    58    49    73    70    68    71    73  ...    49   \n",
       "1    96   104   114   112   110   111   111   113   116   115  ...   117   \n",
       "2    70   157   180   181   189   164   141   146   149   198  ...   114   \n",
       "3    26    25    26    28    27    27    35    28    28    27  ...    61   \n",
       "4   255   255   255   255   255   255   255   255   255   255  ...   255   \n",
       "\n",
       "   4087  4088  4089  4090  4091  4092  4093  4094  4095  \n",
       "0    53    36    30    34    41    51    54    58    52  \n",
       "1    98   141   117   121   120   113   107    26    49  \n",
       "2   110   112    95    93    87    85    81    68    68  \n",
       "3    22    35    30    39    36    26    52    46    42  \n",
       "4   255   255   255   255   255   255   255   255   255  \n",
       "\n",
       "[5 rows x 4096 columns]"
      ]
     },
     "execution_count": 7,
     "metadata": {},
     "output_type": "execute_result"
    }
   ],
   "source": [
    "df.head()"
   ]
  },
  {
   "cell_type": "code",
   "execution_count": 8,
   "id": "47fce131",
   "metadata": {},
   "outputs": [
    {
     "data": {
      "text/html": [
       "<div>\n",
       "<style scoped>\n",
       "    .dataframe tbody tr th:only-of-type {\n",
       "        vertical-align: middle;\n",
       "    }\n",
       "\n",
       "    .dataframe tbody tr th {\n",
       "        vertical-align: top;\n",
       "    }\n",
       "\n",
       "    .dataframe thead th {\n",
       "        text-align: right;\n",
       "    }\n",
       "</style>\n",
       "<table border=\"1\" class=\"dataframe\">\n",
       "  <thead>\n",
       "    <tr style=\"text-align: right;\">\n",
       "      <th></th>\n",
       "      <th>0</th>\n",
       "      <th>1</th>\n",
       "      <th>2</th>\n",
       "      <th>3</th>\n",
       "      <th>4</th>\n",
       "      <th>5</th>\n",
       "      <th>6</th>\n",
       "      <th>7</th>\n",
       "      <th>8</th>\n",
       "      <th>9</th>\n",
       "      <th>...</th>\n",
       "      <th>4086</th>\n",
       "      <th>4087</th>\n",
       "      <th>4088</th>\n",
       "      <th>4089</th>\n",
       "      <th>4090</th>\n",
       "      <th>4091</th>\n",
       "      <th>4092</th>\n",
       "      <th>4093</th>\n",
       "      <th>4094</th>\n",
       "      <th>4095</th>\n",
       "    </tr>\n",
       "  </thead>\n",
       "  <tbody>\n",
       "    <tr>\n",
       "      <th>24995</th>\n",
       "      <td>24</td>\n",
       "      <td>25</td>\n",
       "      <td>28</td>\n",
       "      <td>31</td>\n",
       "      <td>25</td>\n",
       "      <td>28</td>\n",
       "      <td>24</td>\n",
       "      <td>26</td>\n",
       "      <td>40</td>\n",
       "      <td>44</td>\n",
       "      <td>...</td>\n",
       "      <td>76</td>\n",
       "      <td>72</td>\n",
       "      <td>71</td>\n",
       "      <td>75</td>\n",
       "      <td>72</td>\n",
       "      <td>71</td>\n",
       "      <td>80</td>\n",
       "      <td>76</td>\n",
       "      <td>68</td>\n",
       "      <td>78</td>\n",
       "    </tr>\n",
       "    <tr>\n",
       "      <th>24996</th>\n",
       "      <td>23</td>\n",
       "      <td>94</td>\n",
       "      <td>94</td>\n",
       "      <td>25</td>\n",
       "      <td>21</td>\n",
       "      <td>62</td>\n",
       "      <td>44</td>\n",
       "      <td>53</td>\n",
       "      <td>42</td>\n",
       "      <td>33</td>\n",
       "      <td>...</td>\n",
       "      <td>165</td>\n",
       "      <td>160</td>\n",
       "      <td>208</td>\n",
       "      <td>184</td>\n",
       "      <td>211</td>\n",
       "      <td>215</td>\n",
       "      <td>93</td>\n",
       "      <td>83</td>\n",
       "      <td>80</td>\n",
       "      <td>110</td>\n",
       "    </tr>\n",
       "    <tr>\n",
       "      <th>24997</th>\n",
       "      <td>4</td>\n",
       "      <td>3</td>\n",
       "      <td>3</td>\n",
       "      <td>2</td>\n",
       "      <td>10</td>\n",
       "      <td>6</td>\n",
       "      <td>10</td>\n",
       "      <td>16</td>\n",
       "      <td>23</td>\n",
       "      <td>22</td>\n",
       "      <td>...</td>\n",
       "      <td>170</td>\n",
       "      <td>101</td>\n",
       "      <td>128</td>\n",
       "      <td>133</td>\n",
       "      <td>98</td>\n",
       "      <td>120</td>\n",
       "      <td>118</td>\n",
       "      <td>167</td>\n",
       "      <td>82</td>\n",
       "      <td>101</td>\n",
       "    </tr>\n",
       "    <tr>\n",
       "      <th>24998</th>\n",
       "      <td>132</td>\n",
       "      <td>141</td>\n",
       "      <td>137</td>\n",
       "      <td>145</td>\n",
       "      <td>149</td>\n",
       "      <td>154</td>\n",
       "      <td>156</td>\n",
       "      <td>161</td>\n",
       "      <td>168</td>\n",
       "      <td>167</td>\n",
       "      <td>...</td>\n",
       "      <td>1</td>\n",
       "      <td>1</td>\n",
       "      <td>1</td>\n",
       "      <td>1</td>\n",
       "      <td>1</td>\n",
       "      <td>1</td>\n",
       "      <td>1</td>\n",
       "      <td>1</td>\n",
       "      <td>1</td>\n",
       "      <td>1</td>\n",
       "    </tr>\n",
       "    <tr>\n",
       "      <th>24999</th>\n",
       "      <td>87</td>\n",
       "      <td>77</td>\n",
       "      <td>76</td>\n",
       "      <td>69</td>\n",
       "      <td>64</td>\n",
       "      <td>58</td>\n",
       "      <td>55</td>\n",
       "      <td>53</td>\n",
       "      <td>60</td>\n",
       "      <td>44</td>\n",
       "      <td>...</td>\n",
       "      <td>170</td>\n",
       "      <td>134</td>\n",
       "      <td>128</td>\n",
       "      <td>189</td>\n",
       "      <td>203</td>\n",
       "      <td>154</td>\n",
       "      <td>100</td>\n",
       "      <td>100</td>\n",
       "      <td>88</td>\n",
       "      <td>52</td>\n",
       "    </tr>\n",
       "  </tbody>\n",
       "</table>\n",
       "<p>5 rows × 4096 columns</p>\n",
       "</div>"
      ],
      "text/plain": [
       "       0     1     2     3     4     5     6     7     8     9     ...  4086  \\\n",
       "24995    24    25    28    31    25    28    24    26    40    44  ...    76   \n",
       "24996    23    94    94    25    21    62    44    53    42    33  ...   165   \n",
       "24997     4     3     3     2    10     6    10    16    23    22  ...   170   \n",
       "24998   132   141   137   145   149   154   156   161   168   167  ...     1   \n",
       "24999    87    77    76    69    64    58    55    53    60    44  ...   170   \n",
       "\n",
       "       4087  4088  4089  4090  4091  4092  4093  4094  4095  \n",
       "24995    72    71    75    72    71    80    76    68    78  \n",
       "24996   160   208   184   211   215    93    83    80   110  \n",
       "24997   101   128   133    98   120   118   167    82   101  \n",
       "24998     1     1     1     1     1     1     1     1     1  \n",
       "24999   134   128   189   203   154   100   100    88    52  \n",
       "\n",
       "[5 rows x 4096 columns]"
      ]
     },
     "execution_count": 8,
     "metadata": {},
     "output_type": "execute_result"
    }
   ],
   "source": [
    "df.tail()"
   ]
  },
  {
   "cell_type": "code",
   "execution_count": 9,
   "id": "bb7c0609",
   "metadata": {},
   "outputs": [
    {
     "data": {
      "text/plain": [
       "(25000, 4096)"
      ]
     },
     "execution_count": 9,
     "metadata": {},
     "output_type": "execute_result"
    }
   ],
   "source": [
    "df.shape"
   ]
  },
  {
   "cell_type": "code",
   "execution_count": 10,
   "id": "5c2ffa1f",
   "metadata": {},
   "outputs": [
    {
     "data": {
      "text/html": [
       "<div>\n",
       "<style scoped>\n",
       "    .dataframe tbody tr th:only-of-type {\n",
       "        vertical-align: middle;\n",
       "    }\n",
       "\n",
       "    .dataframe tbody tr th {\n",
       "        vertical-align: top;\n",
       "    }\n",
       "\n",
       "    .dataframe thead th {\n",
       "        text-align: right;\n",
       "    }\n",
       "</style>\n",
       "<table border=\"1\" class=\"dataframe\">\n",
       "  <thead>\n",
       "    <tr style=\"text-align: right;\">\n",
       "      <th></th>\n",
       "      <th>labels</th>\n",
       "    </tr>\n",
       "  </thead>\n",
       "  <tbody>\n",
       "    <tr>\n",
       "      <th>0</th>\n",
       "      <td>1.0</td>\n",
       "    </tr>\n",
       "    <tr>\n",
       "      <th>1</th>\n",
       "      <td>0.0</td>\n",
       "    </tr>\n",
       "    <tr>\n",
       "      <th>2</th>\n",
       "      <td>1.0</td>\n",
       "    </tr>\n",
       "    <tr>\n",
       "      <th>3</th>\n",
       "      <td>0.0</td>\n",
       "    </tr>\n",
       "    <tr>\n",
       "      <th>4</th>\n",
       "      <td>0.0</td>\n",
       "    </tr>\n",
       "  </tbody>\n",
       "</table>\n",
       "</div>"
      ],
      "text/plain": [
       "   labels\n",
       "0     1.0\n",
       "1     0.0\n",
       "2     1.0\n",
       "3     0.0\n",
       "4     0.0"
      ]
     },
     "execution_count": 10,
     "metadata": {},
     "output_type": "execute_result"
    }
   ],
   "source": [
    "target.head()"
   ]
  },
  {
   "cell_type": "code",
   "execution_count": 11,
   "id": "a343178e",
   "metadata": {},
   "outputs": [
    {
     "data": {
      "text/plain": [
       "<AxesSubplot:ylabel='count'>"
      ]
     },
     "execution_count": 11,
     "metadata": {},
     "output_type": "execute_result"
    },
    {
     "data": {
      "image/png": "[encoded data removed]",
      "text/plain": [
       "<Figure size 432x288 with 1 Axes>"
      ]
     },
     "metadata": {
      "needs_background": "light"
     },
     "output_type": "display_data"
    }
   ],
   "source": [
    "labels = pd.DataFrame(data=target, columns=['label'])\n",
    "counts = labels.value_counts()\n",
    "sns.countplot(data=counts,x=['cats','dogs'])"
   ]
  },
  {
   "cell_type": "code",
   "execution_count": 12,
   "id": "d9c13f91",
   "metadata": {},
   "outputs": [
    {
     "data": {
      "text/plain": [
       "<matplotlib.image.AxesImage at 0x7fee089d07c0>"
      ]
     },
     "execution_count": 12,
     "metadata": {},
     "output_type": "execute_result"
    },
    {
     "data": {
      "image/png": "[encoded data removed]",
      "text/plain": [
       "<Figure size 432x288 with 1 Axes>"
      ]
     },
     "metadata": {
      "needs_background": "light"
     },
     "output_type": "display_data"
    }
   ],
   "source": [
    "index= random.randint(0,24999)\n",
    "im = cv2.imread(train_filepath[index])\n",
    "im = cv2.cvtColor(im, cv2.COLOR_BGR2RGB)\n",
    "img = im\n",
    "plt.imshow(img)"
   ]
  },
  {
   "cell_type": "code",
   "execution_count": 13,
   "id": "f457dbb3",
   "metadata": {},
   "outputs": [
    {
     "data": {
      "image/png": "[encoded data removed]",
      "text/plain": [
       "<Figure size 432x288 with 1 Axes>"
      ]
     },
     "metadata": {
      "needs_background": "light"
     },
     "output_type": "display_data"
    }
   ],
   "source": [
    "plt.figure()\n",
    "plt.imshow(data[index].reshape(64,64))\n",
    "plt.grid(False)\n",
    "plt.show()"
   ]
  },
  {
   "cell_type": "code",
   "execution_count": 14,
   "id": "1851cfd3",
   "metadata": {},
   "outputs": [
    {
     "name": "stdout",
     "output_type": "stream",
     "text": [
      "Number of missing values in the df: 0\n"
     ]
    }
   ],
   "source": [
    "print(\"Number of missing values in the df:\",df.isnull().any().sum())"
   ]
  },
  {
   "cell_type": "code",
   "execution_count": 15,
   "id": "aa631235",
   "metadata": {},
   "outputs": [
    {
     "name": "stdout",
     "output_type": "stream",
     "text": [
      "Number of missing values in the target set: 0\n"
     ]
    }
   ],
   "source": [
    "print(\"Number of missing values in the target set:\",target.isnull().any().sum())"
   ]
  },
  {
   "cell_type": "markdown",
   "id": "9c0f647d",
   "metadata": {},
   "source": [
    "## Preprocessing "
   ]
  },
  {
   "cell_type": "code",
   "execution_count": 16,
   "id": "c69b7c9f",
   "metadata": {},
   "outputs": [
    {
     "data": {
      "text/html": [
       "<div>\n",
       "<style scoped>\n",
       "    .dataframe tbody tr th:only-of-type {\n",
       "        vertical-align: middle;\n",
       "    }\n",
       "\n",
       "    .dataframe tbody tr th {\n",
       "        vertical-align: top;\n",
       "    }\n",
       "\n",
       "    .dataframe thead th {\n",
       "        text-align: right;\n",
       "    }\n",
       "</style>\n",
       "<table border=\"1\" class=\"dataframe\">\n",
       "  <thead>\n",
       "    <tr style=\"text-align: right;\">\n",
       "      <th></th>\n",
       "      <th>0</th>\n",
       "      <th>1</th>\n",
       "      <th>2</th>\n",
       "      <th>3</th>\n",
       "      <th>4</th>\n",
       "      <th>5</th>\n",
       "      <th>6</th>\n",
       "      <th>7</th>\n",
       "      <th>8</th>\n",
       "      <th>9</th>\n",
       "      <th>...</th>\n",
       "      <th>4087</th>\n",
       "      <th>4088</th>\n",
       "      <th>4089</th>\n",
       "      <th>4090</th>\n",
       "      <th>4091</th>\n",
       "      <th>4092</th>\n",
       "      <th>4093</th>\n",
       "      <th>4094</th>\n",
       "      <th>4095</th>\n",
       "      <th>labels</th>\n",
       "    </tr>\n",
       "  </thead>\n",
       "  <tbody>\n",
       "    <tr>\n",
       "      <th>0</th>\n",
       "      <td>19</td>\n",
       "      <td>47</td>\n",
       "      <td>26</td>\n",
       "      <td>58</td>\n",
       "      <td>49</td>\n",
       "      <td>73</td>\n",
       "      <td>70</td>\n",
       "      <td>68</td>\n",
       "      <td>71</td>\n",
       "      <td>73</td>\n",
       "      <td>...</td>\n",
       "      <td>53</td>\n",
       "      <td>36</td>\n",
       "      <td>30</td>\n",
       "      <td>34</td>\n",
       "      <td>41</td>\n",
       "      <td>51</td>\n",
       "      <td>54</td>\n",
       "      <td>58</td>\n",
       "      <td>52</td>\n",
       "      <td>1.0</td>\n",
       "    </tr>\n",
       "    <tr>\n",
       "      <th>1</th>\n",
       "      <td>96</td>\n",
       "      <td>104</td>\n",
       "      <td>114</td>\n",
       "      <td>112</td>\n",
       "      <td>110</td>\n",
       "      <td>111</td>\n",
       "      <td>111</td>\n",
       "      <td>113</td>\n",
       "      <td>116</td>\n",
       "      <td>115</td>\n",
       "      <td>...</td>\n",
       "      <td>98</td>\n",
       "      <td>141</td>\n",
       "      <td>117</td>\n",
       "      <td>121</td>\n",
       "      <td>120</td>\n",
       "      <td>113</td>\n",
       "      <td>107</td>\n",
       "      <td>26</td>\n",
       "      <td>49</td>\n",
       "      <td>0.0</td>\n",
       "    </tr>\n",
       "    <tr>\n",
       "      <th>2</th>\n",
       "      <td>70</td>\n",
       "      <td>157</td>\n",
       "      <td>180</td>\n",
       "      <td>181</td>\n",
       "      <td>189</td>\n",
       "      <td>164</td>\n",
       "      <td>141</td>\n",
       "      <td>146</td>\n",
       "      <td>149</td>\n",
       "      <td>198</td>\n",
       "      <td>...</td>\n",
       "      <td>110</td>\n",
       "      <td>112</td>\n",
       "      <td>95</td>\n",
       "      <td>93</td>\n",
       "      <td>87</td>\n",
       "      <td>85</td>\n",
       "      <td>81</td>\n",
       "      <td>68</td>\n",
       "      <td>68</td>\n",
       "      <td>1.0</td>\n",
       "    </tr>\n",
       "    <tr>\n",
       "      <th>3</th>\n",
       "      <td>26</td>\n",
       "      <td>25</td>\n",
       "      <td>26</td>\n",
       "      <td>28</td>\n",
       "      <td>27</td>\n",
       "      <td>27</td>\n",
       "      <td>35</td>\n",
       "      <td>28</td>\n",
       "      <td>28</td>\n",
       "      <td>27</td>\n",
       "      <td>...</td>\n",
       "      <td>22</td>\n",
       "      <td>35</td>\n",
       "      <td>30</td>\n",
       "      <td>39</td>\n",
       "      <td>36</td>\n",
       "      <td>26</td>\n",
       "      <td>52</td>\n",
       "      <td>46</td>\n",
       "      <td>42</td>\n",
       "      <td>0.0</td>\n",
       "    </tr>\n",
       "    <tr>\n",
       "      <th>4</th>\n",
       "      <td>255</td>\n",
       "      <td>255</td>\n",
       "      <td>255</td>\n",
       "      <td>255</td>\n",
       "      <td>255</td>\n",
       "      <td>255</td>\n",
       "      <td>255</td>\n",
       "      <td>255</td>\n",
       "      <td>255</td>\n",
       "      <td>255</td>\n",
       "      <td>...</td>\n",
       "      <td>255</td>\n",
       "      <td>255</td>\n",
       "      <td>255</td>\n",
       "      <td>255</td>\n",
       "      <td>255</td>\n",
       "      <td>255</td>\n",
       "      <td>255</td>\n",
       "      <td>255</td>\n",
       "      <td>255</td>\n",
       "      <td>0.0</td>\n",
       "    </tr>\n",
       "  </tbody>\n",
       "</table>\n",
       "<p>5 rows × 4097 columns</p>\n",
       "</div>"
      ],
      "text/plain": [
       "     0    1    2    3    4    5    6    7    8    9  ...  4087  4088  4089  \\\n",
       "0   19   47   26   58   49   73   70   68   71   73  ...    53    36    30   \n",
       "1   96  104  114  112  110  111  111  113  116  115  ...    98   141   117   \n",
       "2   70  157  180  181  189  164  141  146  149  198  ...   110   112    95   \n",
       "3   26   25   26   28   27   27   35   28   28   27  ...    22    35    30   \n",
       "4  255  255  255  255  255  255  255  255  255  255  ...   255   255   255   \n",
       "\n",
       "   4090  4091  4092  4093  4094  4095  labels  \n",
       "0    34    41    51    54    58    52     1.0  \n",
       "1   121   120   113   107    26    49     0.0  \n",
       "2    93    87    85    81    68    68     1.0  \n",
       "3    39    36    26    52    46    42     0.0  \n",
       "4   255   255   255   255   255   255     0.0  \n",
       "\n",
       "[5 rows x 4097 columns]"
      ]
     },
     "execution_count": 16,
     "metadata": {},
     "output_type": "execute_result"
    }
   ],
   "source": [
    "# Adding the target dataframe to the images dataframe, just to see that the target values actually matches.\n",
    "df = pd.concat([df, target], axis=1)\n",
    "df.head()"
   ]
  },
  {
   "cell_type": "code",
   "execution_count": 17,
   "id": "835c301d",
   "metadata": {},
   "outputs": [
    {
     "data": {
      "text/plain": [
       "0.0    12500\n",
       "1.0    12500\n",
       "Name: labels, dtype: int64"
      ]
     },
     "execution_count": 17,
     "metadata": {},
     "output_type": "execute_result"
    }
   ],
   "source": [
    "df['labels'].value_counts()"
   ]
  },
  {
   "cell_type": "markdown",
   "id": "cda6264b",
   "metadata": {},
   "source": [
    "<B> We can see that the data is balanced, so now we can start training the model.\n",
    "    "
   ]
  },
  {
   "cell_type": "code",
   "execution_count": 18,
   "id": "48fb7c02",
   "metadata": {},
   "outputs": [],
   "source": [
    "from sklearn.model_selection import train_test_split\n",
    "# Droping the labels in order to get the target of the data.\n",
    "train = df.drop([\"labels\"], axis = 1)\n",
    "# Split the data to train and remaining data \n",
    "X_train,X_rem,y_train,y_rem=train_test_split(train, target, train_size=0.7, random_state=0)"
   ]
  },
  {
   "cell_type": "code",
   "execution_count": 19,
   "id": "fad8a1c5",
   "metadata": {},
   "outputs": [],
   "source": [
    "X_valid,X_test,y_valid,y_test=train_test_split(X_rem, y_rem, test_size=0.5, random_state=0)"
   ]
  },
  {
   "cell_type": "code",
   "execution_count": 20,
   "id": "0d8d3d05",
   "metadata": {},
   "outputs": [
    {
     "name": "stdout",
     "output_type": "stream",
     "text": [
      "(17500, 4096)\n",
      "(17500, 1)\n",
      "(3750, 4096)\n",
      "(3750, 1)\n",
      "(3750, 4096)\n",
      "(3750, 1)\n"
     ]
    },
    {
     "data": {
      "text/plain": [
       "(None, None)"
      ]
     },
     "execution_count": 20,
     "metadata": {},
     "output_type": "execute_result"
    }
   ],
   "source": [
    "print(X_train.shape), print(y_train.shape)\n",
    "print(X_valid.shape), print(y_valid.shape)\n",
    "print(X_test.shape), print(y_test.shape)"
   ]
  },
  {
   "cell_type": "code",
   "execution_count": 21,
   "id": "9e015056",
   "metadata": {},
   "outputs": [
    {
     "name": "stdout",
     "output_type": "stream",
     "text": [
      "The train set as: 17500 Samples\n",
      "The test set as: 3750 Samples\n",
      "The test validation as: 3750 Samples\n"
     ]
    }
   ],
   "source": [
    "print(\"The train set as:\",len(X_train),\"Samples\")\n",
    "print(\"The test set as:\",len(X_test),\"Samples\")\n",
    "print(\"The test validation as:\",len(X_valid),\"Samples\")"
   ]
  },
  {
   "cell_type": "code",
   "execution_count": 22,
   "id": "4622e64e",
   "metadata": {},
   "outputs": [],
   "source": [
    "X_train = X_train.astype(np.float32)\n",
    "X_test = X_test.astype(np.float32)\n",
    "X_valid = X_valid.astype(np.float32)\n",
    "# All the features have values between 0 to 255 so we normalize the data by dividing by 255.\n",
    "X_train/=255.\n",
    "X_test/=255.\n",
    "X_valid/=255."
   ]
  },
  {
   "cell_type": "markdown",
   "id": "b2b4deb3",
   "metadata": {},
   "source": [
    "<B> Lets try some models"
   ]
  },
  {
   "cell_type": "markdown",
   "id": "c4826543",
   "metadata": {},
   "source": [
    "### KNN"
   ]
  },
  {
   "cell_type": "code",
   "execution_count": 23,
   "id": "fd6adec9",
   "metadata": {},
   "outputs": [
    {
     "data": {
      "text/plain": [
       "[0.5472,\n",
       " 0.532,\n",
       " 0.5597333333333333,\n",
       " 0.5384,\n",
       " 0.5533333333333333,\n",
       " 0.5472,\n",
       " 0.5664,\n",
       " 0.5533333333333333,\n",
       " 0.5688,\n",
       " 0.5565333333333333,\n",
       " 0.5685333333333333,\n",
       " 0.5656,\n",
       " 0.5744,\n",
       " 0.5669333333333333,\n",
       " 0.5826666666666667,\n",
       " 0.5728,\n",
       " 0.5890666666666666,\n",
       " 0.5770666666666666,\n",
       " 0.5936,\n",
       " 0.5829333333333333,\n",
       " 0.5989333333333333,\n",
       " 0.5890666666666666,\n",
       " 0.5944,\n",
       " 0.5898666666666667,\n",
       " 0.5992,\n",
       " 0.5909333333333333,\n",
       " 0.5946666666666667,\n",
       " 0.5925333333333334,\n",
       " 0.5917333333333333,\n",
       " 0.5898666666666667,\n",
       " 0.5933333333333334,\n",
       " 0.5917333333333333,\n",
       " 0.5933333333333334,\n",
       " 0.5906666666666667,\n",
       " 0.5962666666666666,\n",
       " 0.5933333333333334,\n",
       " 0.596,\n",
       " 0.5949333333333333,\n",
       " 0.6013333333333334,\n",
       " 0.6026666666666667,\n",
       " 0.6021333333333333,\n",
       " 0.5997333333333333,\n",
       " 0.5981333333333333,\n",
       " 0.5941333333333333,\n",
       " 0.5997333333333333,\n",
       " 0.5968,\n",
       " 0.6021333333333333,\n",
       " 0.6024,\n",
       " 0.6034666666666667]"
      ]
     },
     "execution_count": 23,
     "metadata": {},
     "output_type": "execute_result"
    }
   ],
   "source": [
    "from sklearn.neighbors import KNeighborsClassifier\n",
    "k_range = list(range(1, 50))\n",
    "acc = []\n",
    "for k in k_range:\n",
    "    knn = KNeighborsClassifier(n_neighbors=k)\n",
    "    knn.fit(X_train, y_train)\n",
    "    neigh_pred = knn.predict(X_valid)\n",
    "    acc.append(metrics.accuracy_score(y_valid, neigh_pred))\n",
    "acc"
   ]
  },
  {
   "cell_type": "code",
   "execution_count": 24,
   "id": "1173a5c9",
   "metadata": {},
   "outputs": [
    {
     "name": "stdout",
     "output_type": "stream",
     "text": [
      "Classification Report:\n",
      "              precision    recall  f1-score   support\n",
      "\n",
      "         0.0       0.58      0.70      0.64      1863\n",
      "         1.0       0.63      0.50      0.56      1887\n",
      "\n",
      "    accuracy                           0.60      3750\n",
      "   macro avg       0.61      0.60      0.60      3750\n",
      "weighted avg       0.61      0.60      0.60      3750\n",
      "\n",
      "Accuracy: 0.6034666666666667\n"
     ]
    },
    {
     "data": {
      "image/png": "[encoded data removed]",
      "text/plain": [
       "<Figure size 432x288 with 2 Axes>"
      ]
     },
     "metadata": {
      "needs_background": "light"
     },
     "output_type": "display_data"
    }
   ],
   "source": [
    "# We got the highest score with 49 neighbors.\n",
    "confMatrix = confusion_matrix(y_valid, neigh_pred)\n",
    "sns.heatmap(confMatrix, annot=True, fmt=\"d\",linecolor='black',linewidths=.2,cmap=\"YlGnBu\")\n",
    "result1 = classification_report(y_valid, neigh_pred,zero_division=1)\n",
    "print(\"Classification Report:\",)\n",
    "print (result1)\n",
    "result2 = accuracy_score(y_valid,neigh_pred)\n",
    "print(\"Accuracy:\",result2)"
   ]
  },
  {
   "cell_type": "markdown",
   "id": "2ae12420",
   "metadata": {},
   "source": [
    "### Logistic Regression"
   ]
  },
  {
   "cell_type": "code",
   "execution_count": 25,
   "id": "e6b1edae",
   "metadata": {},
   "outputs": [],
   "source": [
    "from sklearn.linear_model import LogisticRegression\n",
    "clf = LogisticRegression(random_state=0)\n",
    "clf.fit(X_train,y_train)\n",
    "clf_pred=clf.predict(X_valid)"
   ]
  },
  {
   "cell_type": "code",
   "execution_count": 26,
   "id": "12bd13fd",
   "metadata": {},
   "outputs": [
    {
     "name": "stdout",
     "output_type": "stream",
     "text": [
      "Classification Report:\n",
      "              precision    recall  f1-score   support\n",
      "\n",
      "         0.0       0.54      0.56      0.55      1863\n",
      "         1.0       0.55      0.53      0.54      1887\n",
      "\n",
      "    accuracy                           0.55      3750\n",
      "   macro avg       0.55      0.55      0.55      3750\n",
      "weighted avg       0.55      0.55      0.55      3750\n",
      "\n",
      "Accuracy: 0.5466666666666666\n"
     ]
    },
    {
     "data": {
      "image/png": "[encoded data removed]",
      "text/plain": [
       "<Figure size 432x288 with 2 Axes>"
      ]
     },
     "metadata": {
      "needs_background": "light"
     },
     "output_type": "display_data"
    }
   ],
   "source": [
    "confMatrix = confusion_matrix(y_valid, clf_pred)\n",
    "sns.heatmap(confMatrix, annot=True, fmt=\"d\",linecolor='black',linewidths=.2,cmap=\"YlGnBu\")\n",
    "result1 = classification_report(y_valid, clf_pred,zero_division=1)\n",
    "print(\"Classification Report:\",)\n",
    "print (result1)\n",
    "result2 = accuracy_score(y_valid,clf_pred)\n",
    "print(\"Accuracy:\",result2)"
   ]
  },
  {
   "cell_type": "markdown",
   "id": "5b628519",
   "metadata": {},
   "source": [
    "### Random Forest Classifier"
   ]
  },
  {
   "cell_type": "code",
   "execution_count": 27,
   "id": "39367397",
   "metadata": {},
   "outputs": [],
   "source": [
    "from sklearn.ensemble import RandomForestClassifier\n",
    "rf = RandomForestClassifier(random_state=10)\n",
    "rf.fit(X_train, y_train)\n",
    "rf_pred=rf.predict(X_valid)"
   ]
  },
  {
   "cell_type": "code",
   "execution_count": 28,
   "id": "b99f97f9",
   "metadata": {},
   "outputs": [
    {
     "name": "stdout",
     "output_type": "stream",
     "text": [
      "Classification Report:\n",
      "              precision    recall  f1-score   support\n",
      "\n",
      "         0.0       0.63      0.69      0.66      1863\n",
      "         1.0       0.66      0.60      0.63      1887\n",
      "\n",
      "    accuracy                           0.64      3750\n",
      "   macro avg       0.65      0.65      0.64      3750\n",
      "weighted avg       0.65      0.64      0.64      3750\n",
      "\n",
      "Accuracy: 0.6448\n"
     ]
    },
    {
     "data": {
      "image/png": "[encoded data removed]",
      "text/plain": [
       "<Figure size 432x288 with 2 Axes>"
      ]
     },
     "metadata": {
      "needs_background": "light"
     },
     "output_type": "display_data"
    }
   ],
   "source": [
    "confMatrix = confusion_matrix(y_valid, rf_pred)\n",
    "sns.heatmap(confMatrix, annot=True, fmt=\"d\",linecolor='black',linewidths=.2,cmap=\"YlGnBu\")\n",
    "result1 = classification_report(y_valid, rf_pred,zero_division=1)\n",
    "print(\"Classification Report:\",)\n",
    "print (result1)\n",
    "result2 = accuracy_score(y_valid,rf_pred)\n",
    "print(\"Accuracy:\",result2)"
   ]
  },
  {
   "cell_type": "markdown",
   "id": "a0d637ac",
   "metadata": {},
   "source": [
    "### Xgboost"
   ]
  },
  {
   "cell_type": "code",
   "execution_count": 29,
   "id": "82fe5ec6",
   "metadata": {},
   "outputs": [],
   "source": [
    "import xgboost\n",
    "xgb=xgboost.XGBClassifier(n_estimators=150,eval_metric='mlogloss')\n",
    "xgb.fit(X_train,y_train)\n",
    "xgb_p=xgb.predict(X_valid)"
   ]
  },
  {
   "cell_type": "code",
   "execution_count": 30,
   "id": "e2bea35a",
   "metadata": {},
   "outputs": [
    {
     "name": "stdout",
     "output_type": "stream",
     "text": [
      "Classification Report:\n",
      "              precision    recall  f1-score   support\n",
      "\n",
      "         0.0       0.66      0.68      0.67      1863\n",
      "         1.0       0.67      0.65      0.66      1887\n",
      "\n",
      "    accuracy                           0.66      3750\n",
      "   macro avg       0.66      0.66      0.66      3750\n",
      "weighted avg       0.67      0.66      0.66      3750\n",
      "\n",
      "Accuracy: 0.6648\n"
     ]
    },
    {
     "data": {
      "image/png": "[encoded data removed]",
      "text/plain": [
       "<Figure size 432x288 with 2 Axes>"
      ]
     },
     "metadata": {
      "needs_background": "light"
     },
     "output_type": "display_data"
    }
   ],
   "source": [
    "confMatrix = confusion_matrix(y_valid, xgb_p)\n",
    "sns.heatmap(confMatrix, annot=True, fmt=\"d\",linecolor='black',linewidths=.2,cmap=\"YlGnBu\")\n",
    "result1 = classification_report(y_valid, xgb_p,zero_division=1)\n",
    "print(\"Classification Report:\",)\n",
    "print (result1)\n",
    "result2 = accuracy_score(y_valid,xgb_p)\n",
    "print(\"Accuracy:\",result2)"
   ]
  },
  {
   "cell_type": "markdown",
   "id": "3eaca027",
   "metadata": {},
   "source": [
    "### PCA"
   ]
  },
  {
   "cell_type": "code",
   "execution_count": 31,
   "id": "27850412",
   "metadata": {},
   "outputs": [
    {
     "data": {
      "text/plain": [
       "[<matplotlib.lines.Line2D at 0x7fee0a169070>]"
      ]
     },
     "execution_count": 31,
     "metadata": {},
     "output_type": "execute_result"
    },
    {
     "data": {
      "image/png": "[encoded data removed]",
      "text/plain": [
       "<Figure size 432x288 with 1 Axes>"
      ]
     },
     "metadata": {
      "needs_background": "light"
     },
     "output_type": "display_data"
    }
   ],
   "source": [
    "from sklearn.decomposition import PCA\n",
    "pca=PCA()\n",
    "pca.fit(X_train)\n",
    "sum=np.cumsum(pca.explained_variance_ratio_)\n",
    "plt.plot(sum)"
   ]
  },
  {
   "cell_type": "markdown",
   "id": "e732eaf5",
   "metadata": {},
   "source": [
    "<B> It seems that near 1000 components we will get the best results."
   ]
  },
  {
   "cell_type": "code",
   "execution_count": 32,
   "id": "b24eed5e",
   "metadata": {},
   "outputs": [],
   "source": [
    "pca=PCA(n_components=0.9)\n",
    "X_trainreduce=pca.fit_transform(X_train)\n",
    "X_validreduce=pca.transform(X_valid)"
   ]
  },
  {
   "cell_type": "code",
   "execution_count": 33,
   "id": "adb8f322",
   "metadata": {},
   "outputs": [
    {
     "data": {
      "text/plain": [
       "309"
      ]
     },
     "execution_count": 33,
     "metadata": {},
     "output_type": "execute_result"
    }
   ],
   "source": [
    "pca.n_components_"
   ]
  },
  {
   "cell_type": "code",
   "execution_count": 34,
   "id": "094754ae",
   "metadata": {},
   "outputs": [
    {
     "data": {
      "text/plain": [
       "[<matplotlib.lines.Line2D at 0x7fee19c5d400>]"
      ]
     },
     "execution_count": 34,
     "metadata": {},
     "output_type": "execute_result"
    },
    {
     "data": {
      "image/png": "[encoded data removed]",
      "text/plain": [
       "<Figure size 432x288 with 1 Axes>"
      ]
     },
     "metadata": {
      "needs_background": "light"
     },
     "output_type": "display_data"
    }
   ],
   "source": [
    "sum=np.cumsum(pca.explained_variance_ratio_)\n",
    "plt.plot(sum)"
   ]
  },
  {
   "cell_type": "code",
   "execution_count": 35,
   "id": "c1a0d322",
   "metadata": {},
   "outputs": [],
   "source": [
    "X_train_pca=pd.DataFrame(X_trainreduce)\n",
    "X_valid_pca=pd.DataFrame(X_validreduce)"
   ]
  },
  {
   "cell_type": "markdown",
   "id": "e56323f6",
   "metadata": {},
   "source": [
    "<B> Let's try some models after the featuring reduction."
   ]
  },
  {
   "cell_type": "markdown",
   "id": "6d936f47",
   "metadata": {},
   "source": [
    "### Let's try KNN with PCA"
   ]
  },
  {
   "cell_type": "code",
   "execution_count": 36,
   "id": "a41ff3a0",
   "metadata": {},
   "outputs": [
    {
     "data": {
      "text/plain": [
       "[0.5666666666666667,\n",
       " 0.5586666666666666,\n",
       " 0.5746666666666667,\n",
       " 0.5746666666666667,\n",
       " 0.5802666666666667,\n",
       " 0.5778666666666666,\n",
       " 0.5890666666666666,\n",
       " 0.588,\n",
       " 0.592,\n",
       " 0.5850666666666666,\n",
       " 0.5906666666666667,\n",
       " 0.5914666666666667,\n",
       " 0.5968,\n",
       " 0.5962666666666666,\n",
       " 0.6024,\n",
       " 0.6037333333333333,\n",
       " 0.6128,\n",
       " 0.6098666666666667,\n",
       " 0.6133333333333333,\n",
       " 0.6125333333333334,\n",
       " 0.6112,\n",
       " 0.6154666666666667,\n",
       " 0.6128,\n",
       " 0.6133333333333333,\n",
       " 0.6085333333333334,\n",
       " 0.6149333333333333,\n",
       " 0.6104,\n",
       " 0.6165333333333334,\n",
       " 0.6152,\n",
       " 0.6186666666666667,\n",
       " 0.6181333333333333,\n",
       " 0.6141333333333333,\n",
       " 0.6154666666666667,\n",
       " 0.6162666666666666,\n",
       " 0.6165333333333334,\n",
       " 0.6197333333333334,\n",
       " 0.6229333333333333,\n",
       " 0.62,\n",
       " 0.6152,\n",
       " 0.6162666666666666,\n",
       " 0.6144,\n",
       " 0.6176,\n",
       " 0.6096,\n",
       " 0.6093333333333333,\n",
       " 0.6106666666666667,\n",
       " 0.6138666666666667,\n",
       " 0.616,\n",
       " 0.6165333333333334,\n",
       " 0.6136]"
      ]
     },
     "execution_count": 36,
     "metadata": {},
     "output_type": "execute_result"
    }
   ],
   "source": [
    "acc = []\n",
    "for k in k_range:\n",
    "    knn = KNeighborsClassifier(n_neighbors=k)\n",
    "    knn.fit(X_train_pca, y_train)\n",
    "    neigh_pca_pred = knn.predict(X_valid_pca)\n",
    "    acc.append(metrics.accuracy_score(y_valid, neigh_pca_pred))\n",
    "acc"
   ]
  },
  {
   "cell_type": "markdown",
   "id": "1d18ccff",
   "metadata": {},
   "source": [
    "<B> We can see that the cest score is with between 61 to 61.6"
   ]
  },
  {
   "cell_type": "markdown",
   "id": "822a82be",
   "metadata": {},
   "source": [
    "###  Logistic Regression with PCA"
   ]
  },
  {
   "cell_type": "code",
   "execution_count": 37,
   "id": "ac9269f3",
   "metadata": {},
   "outputs": [],
   "source": [
    "clf = LogisticRegression(random_state=0)\n",
    "clf.fit(X_train_pca,y_train)\n",
    "clf_pred_pca=clf.predict(X_valid_pca)"
   ]
  },
  {
   "cell_type": "code",
   "execution_count": 38,
   "id": "a2cbe167",
   "metadata": {},
   "outputs": [
    {
     "name": "stdout",
     "output_type": "stream",
     "text": [
      "Classification Report:\n",
      "              precision    recall  f1-score   support\n",
      "\n",
      "         0.0       0.57      0.58      0.57      1863\n",
      "         1.0       0.57      0.56      0.57      1887\n",
      "\n",
      "    accuracy                           0.57      3750\n",
      "   macro avg       0.57      0.57      0.57      3750\n",
      "weighted avg       0.57      0.57      0.57      3750\n",
      "\n",
      "Accuracy: 0.5693333333333334\n"
     ]
    },
    {
     "data": {
      "image/png": "[encoded data removed]",
      "text/plain": [
       "<Figure size 432x288 with 2 Axes>"
      ]
     },
     "metadata": {
      "needs_background": "light"
     },
     "output_type": "display_data"
    }
   ],
   "source": [
    "confMatrix = confusion_matrix(y_valid, clf_pred_pca)\n",
    "sns.heatmap(confMatrix, annot=True, fmt=\"d\",linecolor='black',linewidths=.2,cmap=\"YlGnBu\")\n",
    "result1 = classification_report(y_valid, clf_pred_pca,zero_division=1)\n",
    "print(\"Classification Report:\",)\n",
    "print (result1)\n",
    "result2 = accuracy_score(y_valid,clf_pred_pca)\n",
    "print(\"Accuracy:\",result2)"
   ]
  },
  {
   "cell_type": "markdown",
   "id": "c6ca6791",
   "metadata": {},
   "source": [
    "### Random Forest Classifier with PCA"
   ]
  },
  {
   "cell_type": "code",
   "execution_count": 39,
   "id": "5eff5ea9",
   "metadata": {},
   "outputs": [],
   "source": [
    "rf = RandomForestClassifier(random_state=0)\n",
    "rf.fit(X_train_pca, y_train)\n",
    "rf_pred_pca=rf.predict(X_valid_pca)"
   ]
  },
  {
   "cell_type": "code",
   "execution_count": 40,
   "id": "3309fe9b",
   "metadata": {},
   "outputs": [
    {
     "name": "stdout",
     "output_type": "stream",
     "text": [
      "Classification Report:\n",
      "              precision    recall  f1-score   support\n",
      "\n",
      "         0.0       0.60      0.65      0.62      1863\n",
      "         1.0       0.62      0.58      0.60      1887\n",
      "\n",
      "    accuracy                           0.61      3750\n",
      "   macro avg       0.61      0.61      0.61      3750\n",
      "weighted avg       0.61      0.61      0.61      3750\n",
      "\n",
      "Accuracy: 0.6117333333333334\n"
     ]
    },
    {
     "data": {
      "image/png": "[encoded data removed]",
      "text/plain": [
       "<Figure size 432x288 with 2 Axes>"
      ]
     },
     "metadata": {
      "needs_background": "light"
     },
     "output_type": "display_data"
    }
   ],
   "source": [
    "confMatrix = confusion_matrix(y_valid, rf_pred_pca)\n",
    "sns.heatmap(confMatrix, annot=True, fmt=\"d\",linecolor='black',linewidths=.2,cmap=\"YlGnBu\")\n",
    "result1 = classification_report(y_valid, rf_pred_pca,zero_division=1)\n",
    "print(\"Classification Report:\",)\n",
    "print (result1)\n",
    "result2 = accuracy_score(y_valid,rf_pred_pca)\n",
    "print(\"Accuracy:\",result2)"
   ]
  },
  {
   "cell_type": "markdown",
   "id": "1d7689a5",
   "metadata": {},
   "source": [
    "## Xgboost"
   ]
  },
  {
   "cell_type": "code",
   "execution_count": 41,
   "id": "722c93c8",
   "metadata": {},
   "outputs": [],
   "source": [
    "xgb=xgboost.XGBClassifier(n_estimators=200,eval_metric='mlogloss')\n",
    "xgb.fit(X_train_pca,y_train)\n",
    "xgb_pca=xgb.predict(X_valid_pca)"
   ]
  },
  {
   "cell_type": "code",
   "execution_count": 42,
   "id": "ff3a12c4",
   "metadata": {},
   "outputs": [
    {
     "data": {
      "text/plain": [
       "0.6261333333333333"
      ]
     },
     "execution_count": 42,
     "metadata": {},
     "output_type": "execute_result"
    }
   ],
   "source": [
    "metrics.accuracy_score(y_valid, xgb_pca)"
   ]
  },
  {
   "cell_type": "markdown",
   "id": "417d7077",
   "metadata": {},
   "source": [
    "## Ensemble Learning "
   ]
  },
  {
   "cell_type": "markdown",
   "id": "41f53b3d",
   "metadata": {},
   "source": [
    "<B>  Ensemble methods use multiple learning algorithms to obtain better predictive performance than could be obtained from any of the constituent learning algorithms alone."
   ]
  },
  {
   "cell_type": "markdown",
   "id": "1511ff50",
   "metadata": {},
   "source": [
    "### Voting classifier"
   ]
  },
  {
   "cell_type": "markdown",
   "id": "cccbc27e",
   "metadata": {},
   "source": [
    "<B> Let's try voting classifier with soft voting"
   ]
  },
  {
   "cell_type": "markdown",
   "id": "6547011c",
   "metadata": {},
   "source": [
    "<B> In soft voting, every individual classifier provides a probability value that a specific data point belongs to a particular target class. The predictions are weighted by the classifier's importance and summed up. Then the target label with the greatest sum of weighted probabilities wins the vote.\n"
   ]
  },
  {
   "cell_type": "code",
   "execution_count": 43,
   "id": "01e93d54",
   "metadata": {},
   "outputs": [
    {
     "name": "stdout",
     "output_type": "stream",
     "text": [
      "Logistic Regression accuracy: 56.93333333333334\n",
      "KNN accuracy: 61.36000000000001\n",
      "Xgboost accuracy: 62.61333333333333\n",
      "Random Forest accuracy: 61.17333333333333\n"
     ]
    }
   ],
   "source": [
    "from sklearn.ensemble import VotingClassifier\n",
    "classifiers = [('Logistic Regression', clf),\n",
    "               ('KNN', knn),\n",
    "               ('Xgboost', xgb),             \n",
    "               ('Random Forest', rf)]\n",
    "for c_name, c in classifiers:\n",
    "    c.fit(X_train_pca, y_train)\n",
    "    preds = c.predict(X_valid_pca)\n",
    "    print(f'{c_name} accuracy: {accuracy_score(y_valid, preds)*100}')"
   ]
  },
  {
   "cell_type": "code",
   "execution_count": 45,
   "id": "8eb73d0d",
   "metadata": {},
   "outputs": [],
   "source": [
    "VC_soft = VotingClassifier(estimators=classifiers, voting='soft')\n",
    "VC_soft.fit(X_train_pca, y_train)\n",
    "preds = VC_soft.predict(X_valid_pca)"
   ]
  },
  {
   "cell_type": "code",
   "execution_count": 46,
   "id": "9b50aa12",
   "metadata": {},
   "outputs": [
    {
     "name": "stdout",
     "output_type": "stream",
     "text": [
      "Soft Voting Classifier score: 65.03999999999999\n"
     ]
    }
   ],
   "source": [
    "soft_vc = accuracy_score(y_valid, preds)*100\n",
    "print(f'Soft Voting Classifier score: {soft_vc}')"
   ]
  },
  {
   "cell_type": "markdown",
   "id": "cfc2130f",
   "metadata": {},
   "source": [
    "<B> We got the best score until now with the soft voting classifier, with only 309 components .  \n",
    "    "
   ]
  },
  {
   "cell_type": "markdown",
   "id": "031f2dbf",
   "metadata": {},
   "source": [
    "<B> Let's try hard voting"
   ]
  },
  {
   "cell_type": "markdown",
   "id": "2a87e73d",
   "metadata": {},
   "source": [
    "<B> In hard voting (also known as majority voting), every individual classifier votes for a class, and the majority wins. In statistical terms, the predicted target label of the ensemble is the mode of the distribution of individually predicted labels."
   ]
  },
  {
   "cell_type": "code",
   "execution_count": 47,
   "id": "6557eb02",
   "metadata": {},
   "outputs": [],
   "source": [
    "VC_hard = VotingClassifier(estimators=classifiers, voting='hard')\n",
    "VC_hard.fit(X_train_pca, y_train)\n",
    "preds = VC_hard.predict(X_valid_pca)"
   ]
  },
  {
   "cell_type": "code",
   "execution_count": 48,
   "id": "789ce67e",
   "metadata": {},
   "outputs": [
    {
     "name": "stdout",
     "output_type": "stream",
     "text": [
      "Hard Voting Classifier score: 62.98666666666667\n"
     ]
    }
   ],
   "source": [
    "hard_vc = accuracy_score(y_valid, preds)*100\n",
    "print(f'Hard Voting Classifier score: {hard_vc}')"
   ]
  },
  {
   "cell_type": "markdown",
   "id": "2eb3e102",
   "metadata": {},
   "source": [
    "### Stacking"
   ]
  },
  {
   "cell_type": "markdown",
   "id": "a3d3bfc2",
   "metadata": {},
   "source": [
    "<B> Stacking is an ensemble machine learning algorithm.\n",
    "    It involves combining the predictions from multiple machine learning models on the same dataset, like bagging       and boosting.    \n",
    "    Stacking can be described as an ensemble learning technique where the predictions of multiple classifiers           are used as new features to train a meta-classifier.  \n",
    "\n"
   ]
  },
  {
   "cell_type": "code",
   "execution_count": 50,
   "id": "4a0235aa",
   "metadata": {},
   "outputs": [
    {
     "data": {
      "text/plain": [
       "StackingClassifier(estimators=[('softVC',\n",
       "                                VotingClassifier(estimators=[('Logistic '\n",
       "                                                              'Regression',\n",
       "                                                              LogisticRegression(random_state=0)),\n",
       "                                                             ('KNN',\n",
       "                                                              KNeighborsClassifier(n_neighbors=49)),\n",
       "                                                             ('Xgboost',\n",
       "                                                              XGBClassifier(base_score=0.5,\n",
       "                                                                            booster='gbtree',\n",
       "                                                                            colsample_bylevel=1,\n",
       "                                                                            colsample_bynode=1,\n",
       "                                                                            colsample_bytree=1,\n",
       "                                                                            eval_metric='mlogloss',\n",
       "                                                                            gamma=0,\n",
       "                                                                            gpu_id=-1,\n",
       "                                                                            importance_type='ga...\n",
       "                                                 gamma=0, gpu_id=-1,\n",
       "                                                 importance_type='gain',\n",
       "                                                 interaction_constraints='',\n",
       "                                                 learning_rate=0.300000012,\n",
       "                                                 max_delta_step=0, max_depth=6,\n",
       "                                                 min_child_weight=1,\n",
       "                                                 missing=nan,\n",
       "                                                 monotone_constraints='()',\n",
       "                                                 n_estimators=200, n_jobs=8,\n",
       "                                                 num_parallel_tree=1,\n",
       "                                                 random_state=0, reg_alpha=0,\n",
       "                                                 reg_lambda=1,\n",
       "                                                 scale_pos_weight=1,\n",
       "                                                 subsample=1,\n",
       "                                                 tree_method='exact',\n",
       "                                                 validate_parameters=1,\n",
       "                                                 verbosity=None))"
      ]
     },
     "execution_count": 50,
     "metadata": {},
     "output_type": "execute_result"
    }
   ],
   "source": [
    "from sklearn.ensemble import StackingClassifier  \n",
    "estimators = [('softVC', VC_soft), ('rfc', rf), ('xgb', xgb)]\n",
    "stack_clf = StackingClassifier(estimators = estimators, final_estimator = xgb)\n",
    "stack_clf.fit(X_train_pca, y_train)"
   ]
  },
  {
   "cell_type": "code",
   "execution_count": 52,
   "id": "a9f49014",
   "metadata": {},
   "outputs": [
    {
     "name": "stdout",
     "output_type": "stream",
     "text": [
      "Stacking Classifier Result :  61.626666666666665\n"
     ]
    }
   ],
   "source": [
    "stack_clf_score = stack_clf.score(X_valid_pca, y_valid)*100  \n",
    "print(\"Stacking Classifier Result : \",stack_clf_score)"
   ]
  },
  {
   "cell_type": "markdown",
   "id": "7049c2a9",
   "metadata": {},
   "source": [
    "<B> Until now i tested my model on the validation set, and it's time to test the model on the test set. "
   ]
  },
  {
   "cell_type": "markdown",
   "id": "c193e4b3",
   "metadata": {},
   "source": [
    "## Test set testing  \n"
   ]
  },
  {
   "cell_type": "markdown",
   "id": "215efc9e",
   "metadata": {},
   "source": [
    "<B> I'm only checking the best models on the test set."
   ]
  },
  {
   "cell_type": "code",
   "execution_count": 55,
   "id": "47db7e4a",
   "metadata": {},
   "outputs": [],
   "source": [
    "# Create test with the pca components.\n",
    "X_testreduce=pca.transform(X_test)\n",
    "X_testreduce_pca=pd.DataFrame(X_testreduce)"
   ]
  },
  {
   "cell_type": "markdown",
   "id": "12b5f12f",
   "metadata": {},
   "source": [
    "### Random Forest "
   ]
  },
  {
   "cell_type": "code",
   "execution_count": 56,
   "id": "0719ea71",
   "metadata": {},
   "outputs": [
    {
     "data": {
      "text/plain": [
       "0.6338666666666667"
      ]
     },
     "execution_count": 56,
     "metadata": {},
     "output_type": "execute_result"
    }
   ],
   "source": [
    "rf = RandomForestClassifier(random_state=0)\n",
    "rf.fit(X_train, y_train)\n",
    "rf_pred_test=rf.predict(X_test)\n",
    "metrics.accuracy_score(y_test, rf_pred_test)"
   ]
  },
  {
   "cell_type": "markdown",
   "id": "35d5b779",
   "metadata": {},
   "source": [
    "### Xgboost"
   ]
  },
  {
   "cell_type": "code",
   "execution_count": 53,
   "id": "418b44c4",
   "metadata": {},
   "outputs": [
    {
     "data": {
      "text/plain": [
       "0.6786666666666666"
      ]
     },
     "execution_count": 53,
     "metadata": {},
     "output_type": "execute_result"
    }
   ],
   "source": [
    "xgb=xgboost.XGBClassifier(n_estimators=200,eval_metric='mlogloss')\n",
    "xgb.fit(X_train,y_train)\n",
    "xgb_test=xgb.predict(X_test)\n",
    "metrics.accuracy_score(y_test, xgb_test)"
   ]
  },
  {
   "cell_type": "markdown",
   "id": "c73e8d81",
   "metadata": {},
   "source": [
    "### Soft voting "
   ]
  },
  {
   "cell_type": "code",
   "execution_count": 57,
   "id": "83ad9bfa",
   "metadata": {},
   "outputs": [
    {
     "name": "stdout",
     "output_type": "stream",
     "text": [
      "Logistic Regression accuracy: 54.37333333333333\n",
      "KNN accuracy: 60.61333333333333\n",
      "Xgboost accuracy: 67.86666666666666\n",
      "Random Forest accuracy: 63.38666666666667\n"
     ]
    }
   ],
   "source": [
    "classifiers = [('Logistic Regression', clf),\n",
    "               ('KNN', knn),\n",
    "               ('Xgboost', xgb),             \n",
    "               ('Random Forest', rf)]\n",
    "for c_name, c in classifiers:\n",
    "    c.fit(X_train, y_train)\n",
    "    preds = c.predict(X_test)\n",
    "    print(f'{c_name} accuracy: {accuracy_score(y_test, preds)*100}')"
   ]
  },
  {
   "cell_type": "code",
   "execution_count": 58,
   "id": "621084c4",
   "metadata": {
    "scrolled": true
   },
   "outputs": [
    {
     "name": "stdout",
     "output_type": "stream",
     "text": [
      "Soft Voting Classifier score: 0.6738666666666666\n"
     ]
    }
   ],
   "source": [
    "VC_soft = VotingClassifier(estimators=classifiers, voting='soft')\n",
    "VC_soft.fit(X_train, y_train)\n",
    "preds_testsoft = VC_soft.predict(X_test)\n",
    "soft_vctest = accuracy_score(y_test, preds_testsoft)\n",
    "print(f'Soft Voting Classifier score: {soft_vctest}')"
   ]
  },
  {
   "cell_type": "markdown",
   "id": "76e240ba",
   "metadata": {},
   "source": [
    "### Xgboost with pca test set "
   ]
  },
  {
   "cell_type": "code",
   "execution_count": 64,
   "id": "78945d07",
   "metadata": {},
   "outputs": [
    {
     "data": {
      "text/plain": [
       "0.6368"
      ]
     },
     "execution_count": 64,
     "metadata": {},
     "output_type": "execute_result"
    }
   ],
   "source": [
    "xgb=xgboost.XGBClassifier(n_estimators=200,eval_metric='mlogloss')\n",
    "xgb.fit(X_train_pca,y_train)\n",
    "xgb_test_pca=xgb.predict(X_testreduce_pca)\n",
    "metrics.accuracy_score(y_test, xgb_test_pca)"
   ]
  },
  {
   "cell_type": "markdown",
   "id": "b6799e09",
   "metadata": {},
   "source": [
    "### Voting Classifier with pca test set"
   ]
  },
  {
   "cell_type": "code",
   "execution_count": 62,
   "id": "5f36df6c",
   "metadata": {},
   "outputs": [],
   "source": [
    "VC_soft_pca = VotingClassifier(estimators=classifiers, voting='soft')\n",
    "VC_soft_pca.fit(X_train_pca, y_train)\n",
    "preds_test = VC_soft_pca.predict(X_testreduce_pca)"
   ]
  },
  {
   "cell_type": "code",
   "execution_count": 63,
   "id": "21474c54",
   "metadata": {},
   "outputs": [
    {
     "name": "stdout",
     "output_type": "stream",
     "text": [
      "Soft Voting Classifier score: 65.52\n"
     ]
    }
   ],
   "source": [
    "soft_vc_pca = accuracy_score(y_test, preds_test)*100\n",
    "print(f'Soft Voting Classifier score: {soft_vc_pca}')"
   ]
  },
  {
   "cell_type": "markdown",
   "id": "04d3f0ea",
   "metadata": {},
   "source": [
    "### List of the best scores "
   ]
  },
  {
   "cell_type": "code",
   "execution_count": 71,
   "id": "785c4566",
   "metadata": {},
   "outputs": [
    {
     "data": {
      "text/html": [
       "<div>\n",
       "<style scoped>\n",
       "    .dataframe tbody tr th:only-of-type {\n",
       "        vertical-align: middle;\n",
       "    }\n",
       "\n",
       "    .dataframe tbody tr th {\n",
       "        vertical-align: top;\n",
       "    }\n",
       "\n",
       "    .dataframe thead th {\n",
       "        text-align: right;\n",
       "    }\n",
       "</style>\n",
       "<table border=\"1\" class=\"dataframe\">\n",
       "  <thead>\n",
       "    <tr style=\"text-align: right;\">\n",
       "      <th></th>\n",
       "      <th>score</th>\n",
       "    </tr>\n",
       "  </thead>\n",
       "  <tbody>\n",
       "    <tr>\n",
       "      <th>Xgboost_test</th>\n",
       "      <td>0.678667</td>\n",
       "    </tr>\n",
       "    <tr>\n",
       "      <th>SVC</th>\n",
       "      <td>0.673867</td>\n",
       "    </tr>\n",
       "    <tr>\n",
       "      <th>SVC_PCA</th>\n",
       "      <td>0.655200</td>\n",
       "    </tr>\n",
       "    <tr>\n",
       "      <th>Random forest</th>\n",
       "      <td>0.644800</td>\n",
       "    </tr>\n",
       "    <tr>\n",
       "      <th>Xgboost_pca_test</th>\n",
       "      <td>0.636800</td>\n",
       "    </tr>\n",
       "    <tr>\n",
       "      <th>Random forest</th>\n",
       "      <td>0.633867</td>\n",
       "    </tr>\n",
       "  </tbody>\n",
       "</table>\n",
       "</div>"
      ],
      "text/plain": [
       "                     score\n",
       "Xgboost_test      0.678667\n",
       "SVC               0.673867\n",
       "SVC_PCA           0.655200\n",
       "Random forest     0.644800\n",
       "Xgboost_pca_test  0.636800\n",
       "Random forest     0.633867"
      ]
     },
     "execution_count": 71,
     "metadata": {},
     "output_type": "execute_result"
    }
   ],
   "source": [
    "scores = [metrics.accuracy_score(y_test, xgb_test),soft_vctest,soft_vc_pca/100,accuracy_score(y_valid,rf_pred),metrics.accuracy_score(y_test, xgb_test_pca),metrics.accuracy_score(y_test, rf_pred_test)]\n",
    "scores_df = pd.DataFrame(scores, index = ['Xgboost_test','SVC','SVC_PCA','Random forest','Xgboost_pca_test','Random forest'], columns = ['score'])\n",
    "scores_df"
   ]
  },
  {
   "cell_type": "markdown",
   "id": "528312ea",
   "metadata": {},
   "source": [
    "* The scores of the test set without pca is not that better if we look at the scores of the test_pca that has only 309 components."
   ]
  },
  {
   "cell_type": "markdown",
   "id": "06086078",
   "metadata": {},
   "source": [
    "<B> We got the best score with the Xgboost on the test set (higher score than all of the models on the training set)."
   ]
  }
 ],
 "metadata": {
  "kernelspec": {
   "display_name": "Python 3",
   "language": "python",
   "name": "python3"
  },
  "language_info": {
   "codemirror_mode": {
    "name": "ipython",
    "version": 3
   },
   "file_extension": ".py",
   "mimetype": "text/x-python",
   "name": "python",
   "nbconvert_exporter": "python",
   "pygments_lexer": "ipython3",
   "version": "3.8.8"
  }
 },
 "nbformat": 4,
 "nbformat_minor": 5
}
