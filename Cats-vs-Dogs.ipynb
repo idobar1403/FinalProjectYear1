{
 "cells": [
  {
   "cell_type": "code",
   "execution_count": 44,
   "id": "cf15fe8a",
   "metadata": {},
   "outputs": [],
   "source": [
    "import os  # dealing with directories\n",
    "import cv2  # working with, mainly resizing, images\n",
    "import matplotlib.pyplot as plt\n",
    "import numpy as np\n",
    "import pandas as pd\n",
    "import seaborn as sns\n",
    "from PIL import Image as im\n",
    "import random\n",
    "from sklearn.decomposition import PCA\n",
    "from sklearn import metrics\n",
    "from sklearn.metrics import accuracy_score\n",
    "from sklearn.metrics import confusion_matrix\n",
    "from sklearn.metrics import classification_report\n",
    "import warnings\n",
    "warnings.filterwarnings('ignore')"
   ]
  },
  {
   "cell_type": "markdown",
   "id": "69084a6a",
   "metadata": {},
   "source": [
    "### Uploading the images"
   ]
  },
  {
   "cell_type": "markdown",
   "id": "845ebc9d",
   "metadata": {},
   "source": [
    "<B> I got the uploading images idea from kaggle notebook"
   ]
  },
  {
   "cell_type": "code",
   "execution_count": 2,
   "id": "82334d52",
   "metadata": {},
   "outputs": [],
   "source": [
    "train_directory = r'/Users/idobar/Documents/GitHub/FirstFinal/train/'\n",
    "train_filepath = [train_directory + last_file_name for last_file_name in os.listdir(train_directory)]\n",
    "train_dogs_filepath = [train_directory + dog_file_name for dog_file_name in os.listdir(train_directory) if 'dog' in dog_file_name]\n",
    "train_cats_filepath = [train_directory + cat_file_name for cat_file_name in os.listdir(train_directory) if 'cat' in cat_file_name]"
   ]
  },
  {
   "cell_type": "code",
   "execution_count": 3,
   "id": "112f6256",
   "metadata": {},
   "outputs": [],
   "source": [
    "def read_image(file_path):\n",
    "    #grayscaling\n",
    "    img = cv2.imread(file_path,0)\n",
    "    #resizing the images to 64,64 in order to get all the images in the same size\n",
    "    return cv2.resize(img, (64, 64))"
   ]
  },
  {
   "cell_type": "code",
   "execution_count": 4,
   "id": "b3bce701",
   "metadata": {},
   "outputs": [],
   "source": [
    "def prep_data(images):\n",
    "    image_len = len(images)\n",
    "    size = 4096 #64*64\n",
    "    X = np.ndarray((image_len, size), dtype=np.uint8)\n",
    "    y = np.zeros((image_len, 1))\n",
    "    for i, image_file in enumerate(images):\n",
    "        # Sending the image to the read_image function \n",
    "        image = read_image(image_file)\n",
    "        X[i, :] = np.squeeze(image.reshape((size, 1)))\n",
    "        # The value will be 1 for dog and 0 for cat\n",
    "        if '/dog' in image_file:\n",
    "            y[i, 0] = 1\n",
    "        elif '/cat' in image_file:\n",
    "             y[i, 0] = 0\n",
    "    return X, y"
   ]
  },
  {
   "cell_type": "code",
   "execution_count": 5,
   "id": "fc3df221",
   "metadata": {},
   "outputs": [],
   "source": [
    "data,target = prep_data(train_filepath)"
   ]
  },
  {
   "cell_type": "code",
   "execution_count": 6,
   "id": "1446611f",
   "metadata": {},
   "outputs": [],
   "source": [
    "df = pd.DataFrame(data)\n",
    "target=pd.DataFrame(target,columns = ['labels'])"
   ]
  },
  {
   "cell_type": "markdown",
   "id": "f1605eb9",
   "metadata": {},
   "source": [
    "<B> After successfully uploading the images lets do some visualization"
   ]
  },
  {
   "cell_type": "markdown",
   "id": "d349b514",
   "metadata": {},
   "source": [
    "### Visualization"
   ]
  },
  {
   "cell_type": "code",
   "execution_count": 7,
   "id": "5ff1f7dc",
   "metadata": {},
   "outputs": [
    {
     "data": {
      "text/html": [
       "<div>\n",
       "<style scoped>\n",
       "    .dataframe tbody tr th:only-of-type {\n",
       "        vertical-align: middle;\n",
       "    }\n",
       "\n",
       "    .dataframe tbody tr th {\n",
       "        vertical-align: top;\n",
       "    }\n",
       "\n",
       "    .dataframe thead th {\n",
       "        text-align: right;\n",
       "    }\n",
       "</style>\n",
       "<table border=\"1\" class=\"dataframe\">\n",
       "  <thead>\n",
       "    <tr style=\"text-align: right;\">\n",
       "      <th></th>\n",
       "      <th>0</th>\n",
       "      <th>1</th>\n",
       "      <th>2</th>\n",
       "      <th>3</th>\n",
       "      <th>4</th>\n",
       "      <th>5</th>\n",
       "      <th>6</th>\n",
       "      <th>7</th>\n",
       "      <th>8</th>\n",
       "      <th>9</th>\n",
       "      <th>...</th>\n",
       "      <th>4086</th>\n",
       "      <th>4087</th>\n",
       "      <th>4088</th>\n",
       "      <th>4089</th>\n",
       "      <th>4090</th>\n",
       "      <th>4091</th>\n",
       "      <th>4092</th>\n",
       "      <th>4093</th>\n",
       "      <th>4094</th>\n",
       "      <th>4095</th>\n",
       "    </tr>\n",
       "  </thead>\n",
       "  <tbody>\n",
       "    <tr>\n",
       "      <th>0</th>\n",
       "      <td>19</td>\n",
       "      <td>47</td>\n",
       "      <td>26</td>\n",
       "      <td>58</td>\n",
       "      <td>49</td>\n",
       "      <td>73</td>\n",
       "      <td>70</td>\n",
       "      <td>68</td>\n",
       "      <td>71</td>\n",
       "      <td>73</td>\n",
       "      <td>...</td>\n",
       "      <td>49</td>\n",
       "      <td>53</td>\n",
       "      <td>36</td>\n",
       "      <td>30</td>\n",
       "      <td>34</td>\n",
       "      <td>41</td>\n",
       "      <td>51</td>\n",
       "      <td>54</td>\n",
       "      <td>58</td>\n",
       "      <td>52</td>\n",
       "    </tr>\n",
       "    <tr>\n",
       "      <th>1</th>\n",
       "      <td>96</td>\n",
       "      <td>104</td>\n",
       "      <td>114</td>\n",
       "      <td>112</td>\n",
       "      <td>110</td>\n",
       "      <td>111</td>\n",
       "      <td>111</td>\n",
       "      <td>113</td>\n",
       "      <td>116</td>\n",
       "      <td>115</td>\n",
       "      <td>...</td>\n",
       "      <td>117</td>\n",
       "      <td>98</td>\n",
       "      <td>141</td>\n",
       "      <td>117</td>\n",
       "      <td>121</td>\n",
       "      <td>120</td>\n",
       "      <td>113</td>\n",
       "      <td>107</td>\n",
       "      <td>26</td>\n",
       "      <td>49</td>\n",
       "    </tr>\n",
       "    <tr>\n",
       "      <th>2</th>\n",
       "      <td>70</td>\n",
       "      <td>157</td>\n",
       "      <td>180</td>\n",
       "      <td>181</td>\n",
       "      <td>189</td>\n",
       "      <td>164</td>\n",
       "      <td>141</td>\n",
       "      <td>146</td>\n",
       "      <td>149</td>\n",
       "      <td>198</td>\n",
       "      <td>...</td>\n",
       "      <td>114</td>\n",
       "      <td>110</td>\n",
       "      <td>112</td>\n",
       "      <td>95</td>\n",
       "      <td>93</td>\n",
       "      <td>87</td>\n",
       "      <td>85</td>\n",
       "      <td>81</td>\n",
       "      <td>68</td>\n",
       "      <td>68</td>\n",
       "    </tr>\n",
       "    <tr>\n",
       "      <th>3</th>\n",
       "      <td>26</td>\n",
       "      <td>25</td>\n",
       "      <td>26</td>\n",
       "      <td>28</td>\n",
       "      <td>27</td>\n",
       "      <td>27</td>\n",
       "      <td>35</td>\n",
       "      <td>28</td>\n",
       "      <td>28</td>\n",
       "      <td>27</td>\n",
       "      <td>...</td>\n",
       "      <td>61</td>\n",
       "      <td>22</td>\n",
       "      <td>35</td>\n",
       "      <td>30</td>\n",
       "      <td>39</td>\n",
       "      <td>36</td>\n",
       "      <td>26</td>\n",
       "      <td>52</td>\n",
       "      <td>46</td>\n",
       "      <td>42</td>\n",
       "    </tr>\n",
       "    <tr>\n",
       "      <th>4</th>\n",
       "      <td>255</td>\n",
       "      <td>255</td>\n",
       "      <td>255</td>\n",
       "      <td>255</td>\n",
       "      <td>255</td>\n",
       "      <td>255</td>\n",
       "      <td>255</td>\n",
       "      <td>255</td>\n",
       "      <td>255</td>\n",
       "      <td>255</td>\n",
       "      <td>...</td>\n",
       "      <td>255</td>\n",
       "      <td>255</td>\n",
       "      <td>255</td>\n",
       "      <td>255</td>\n",
       "      <td>255</td>\n",
       "      <td>255</td>\n",
       "      <td>255</td>\n",
       "      <td>255</td>\n",
       "      <td>255</td>\n",
       "      <td>255</td>\n",
       "    </tr>\n",
       "  </tbody>\n",
       "</table>\n",
       "<p>5 rows × 4096 columns</p>\n",
       "</div>"
      ],
      "text/plain": [
       "   0     1     2     3     4     5     6     7     8     9     ...  4086  \\\n",
       "0    19    47    26    58    49    73    70    68    71    73  ...    49   \n",
       "1    96   104   114   112   110   111   111   113   116   115  ...   117   \n",
       "2    70   157   180   181   189   164   141   146   149   198  ...   114   \n",
       "3    26    25    26    28    27    27    35    28    28    27  ...    61   \n",
       "4   255   255   255   255   255   255   255   255   255   255  ...   255   \n",
       "\n",
       "   4087  4088  4089  4090  4091  4092  4093  4094  4095  \n",
       "0    53    36    30    34    41    51    54    58    52  \n",
       "1    98   141   117   121   120   113   107    26    49  \n",
       "2   110   112    95    93    87    85    81    68    68  \n",
       "3    22    35    30    39    36    26    52    46    42  \n",
       "4   255   255   255   255   255   255   255   255   255  \n",
       "\n",
       "[5 rows x 4096 columns]"
      ]
     },
     "execution_count": 7,
     "metadata": {},
     "output_type": "execute_result"
    }
   ],
   "source": [
    "df.head()"
   ]
  },
  {
   "cell_type": "code",
   "execution_count": 8,
   "id": "310fcef3",
   "metadata": {},
   "outputs": [
    {
     "data": {
      "text/html": [
       "<div>\n",
       "<style scoped>\n",
       "    .dataframe tbody tr th:only-of-type {\n",
       "        vertical-align: middle;\n",
       "    }\n",
       "\n",
       "    .dataframe tbody tr th {\n",
       "        vertical-align: top;\n",
       "    }\n",
       "\n",
       "    .dataframe thead th {\n",
       "        text-align: right;\n",
       "    }\n",
       "</style>\n",
       "<table border=\"1\" class=\"dataframe\">\n",
       "  <thead>\n",
       "    <tr style=\"text-align: right;\">\n",
       "      <th></th>\n",
       "      <th>0</th>\n",
       "      <th>1</th>\n",
       "      <th>2</th>\n",
       "      <th>3</th>\n",
       "      <th>4</th>\n",
       "      <th>5</th>\n",
       "      <th>6</th>\n",
       "      <th>7</th>\n",
       "      <th>8</th>\n",
       "      <th>9</th>\n",
       "      <th>...</th>\n",
       "      <th>4086</th>\n",
       "      <th>4087</th>\n",
       "      <th>4088</th>\n",
       "      <th>4089</th>\n",
       "      <th>4090</th>\n",
       "      <th>4091</th>\n",
       "      <th>4092</th>\n",
       "      <th>4093</th>\n",
       "      <th>4094</th>\n",
       "      <th>4095</th>\n",
       "    </tr>\n",
       "  </thead>\n",
       "  <tbody>\n",
       "    <tr>\n",
       "      <th>24995</th>\n",
       "      <td>24</td>\n",
       "      <td>25</td>\n",
       "      <td>28</td>\n",
       "      <td>31</td>\n",
       "      <td>25</td>\n",
       "      <td>28</td>\n",
       "      <td>24</td>\n",
       "      <td>26</td>\n",
       "      <td>40</td>\n",
       "      <td>44</td>\n",
       "      <td>...</td>\n",
       "      <td>76</td>\n",
       "      <td>72</td>\n",
       "      <td>71</td>\n",
       "      <td>75</td>\n",
       "      <td>72</td>\n",
       "      <td>71</td>\n",
       "      <td>80</td>\n",
       "      <td>76</td>\n",
       "      <td>68</td>\n",
       "      <td>78</td>\n",
       "    </tr>\n",
       "    <tr>\n",
       "      <th>24996</th>\n",
       "      <td>23</td>\n",
       "      <td>94</td>\n",
       "      <td>94</td>\n",
       "      <td>25</td>\n",
       "      <td>21</td>\n",
       "      <td>62</td>\n",
       "      <td>44</td>\n",
       "      <td>53</td>\n",
       "      <td>42</td>\n",
       "      <td>33</td>\n",
       "      <td>...</td>\n",
       "      <td>165</td>\n",
       "      <td>160</td>\n",
       "      <td>208</td>\n",
       "      <td>184</td>\n",
       "      <td>211</td>\n",
       "      <td>215</td>\n",
       "      <td>93</td>\n",
       "      <td>83</td>\n",
       "      <td>80</td>\n",
       "      <td>110</td>\n",
       "    </tr>\n",
       "    <tr>\n",
       "      <th>24997</th>\n",
       "      <td>4</td>\n",
       "      <td>3</td>\n",
       "      <td>3</td>\n",
       "      <td>2</td>\n",
       "      <td>10</td>\n",
       "      <td>6</td>\n",
       "      <td>10</td>\n",
       "      <td>16</td>\n",
       "      <td>23</td>\n",
       "      <td>22</td>\n",
       "      <td>...</td>\n",
       "      <td>170</td>\n",
       "      <td>101</td>\n",
       "      <td>128</td>\n",
       "      <td>133</td>\n",
       "      <td>98</td>\n",
       "      <td>120</td>\n",
       "      <td>118</td>\n",
       "      <td>167</td>\n",
       "      <td>82</td>\n",
       "      <td>101</td>\n",
       "    </tr>\n",
       "    <tr>\n",
       "      <th>24998</th>\n",
       "      <td>132</td>\n",
       "      <td>141</td>\n",
       "      <td>137</td>\n",
       "      <td>145</td>\n",
       "      <td>149</td>\n",
       "      <td>154</td>\n",
       "      <td>156</td>\n",
       "      <td>161</td>\n",
       "      <td>168</td>\n",
       "      <td>167</td>\n",
       "      <td>...</td>\n",
       "      <td>1</td>\n",
       "      <td>1</td>\n",
       "      <td>1</td>\n",
       "      <td>1</td>\n",
       "      <td>1</td>\n",
       "      <td>1</td>\n",
       "      <td>1</td>\n",
       "      <td>1</td>\n",
       "      <td>1</td>\n",
       "      <td>1</td>\n",
       "    </tr>\n",
       "    <tr>\n",
       "      <th>24999</th>\n",
       "      <td>87</td>\n",
       "      <td>77</td>\n",
       "      <td>76</td>\n",
       "      <td>69</td>\n",
       "      <td>64</td>\n",
       "      <td>58</td>\n",
       "      <td>55</td>\n",
       "      <td>53</td>\n",
       "      <td>60</td>\n",
       "      <td>44</td>\n",
       "      <td>...</td>\n",
       "      <td>170</td>\n",
       "      <td>134</td>\n",
       "      <td>128</td>\n",
       "      <td>189</td>\n",
       "      <td>203</td>\n",
       "      <td>154</td>\n",
       "      <td>100</td>\n",
       "      <td>100</td>\n",
       "      <td>88</td>\n",
       "      <td>52</td>\n",
       "    </tr>\n",
       "  </tbody>\n",
       "</table>\n",
       "<p>5 rows × 4096 columns</p>\n",
       "</div>"
      ],
      "text/plain": [
       "       0     1     2     3     4     5     6     7     8     9     ...  4086  \\\n",
       "24995    24    25    28    31    25    28    24    26    40    44  ...    76   \n",
       "24996    23    94    94    25    21    62    44    53    42    33  ...   165   \n",
       "24997     4     3     3     2    10     6    10    16    23    22  ...   170   \n",
       "24998   132   141   137   145   149   154   156   161   168   167  ...     1   \n",
       "24999    87    77    76    69    64    58    55    53    60    44  ...   170   \n",
       "\n",
       "       4087  4088  4089  4090  4091  4092  4093  4094  4095  \n",
       "24995    72    71    75    72    71    80    76    68    78  \n",
       "24996   160   208   184   211   215    93    83    80   110  \n",
       "24997   101   128   133    98   120   118   167    82   101  \n",
       "24998     1     1     1     1     1     1     1     1     1  \n",
       "24999   134   128   189   203   154   100   100    88    52  \n",
       "\n",
       "[5 rows x 4096 columns]"
      ]
     },
     "execution_count": 8,
     "metadata": {},
     "output_type": "execute_result"
    }
   ],
   "source": [
    "df.tail()"
   ]
  },
  {
   "cell_type": "code",
   "execution_count": 9,
   "id": "378ba84f",
   "metadata": {},
   "outputs": [
    {
     "data": {
      "text/plain": [
       "(25000, 4096)"
      ]
     },
     "execution_count": 9,
     "metadata": {},
     "output_type": "execute_result"
    }
   ],
   "source": [
    "df.shape"
   ]
  },
  {
   "cell_type": "code",
   "execution_count": 10,
   "id": "ecd3ade4",
   "metadata": {},
   "outputs": [
    {
     "data": {
      "text/html": [
       "<div>\n",
       "<style scoped>\n",
       "    .dataframe tbody tr th:only-of-type {\n",
       "        vertical-align: middle;\n",
       "    }\n",
       "\n",
       "    .dataframe tbody tr th {\n",
       "        vertical-align: top;\n",
       "    }\n",
       "\n",
       "    .dataframe thead th {\n",
       "        text-align: right;\n",
       "    }\n",
       "</style>\n",
       "<table border=\"1\" class=\"dataframe\">\n",
       "  <thead>\n",
       "    <tr style=\"text-align: right;\">\n",
       "      <th></th>\n",
       "      <th>labels</th>\n",
       "    </tr>\n",
       "  </thead>\n",
       "  <tbody>\n",
       "    <tr>\n",
       "      <th>0</th>\n",
       "      <td>1.0</td>\n",
       "    </tr>\n",
       "    <tr>\n",
       "      <th>1</th>\n",
       "      <td>0.0</td>\n",
       "    </tr>\n",
       "    <tr>\n",
       "      <th>2</th>\n",
       "      <td>1.0</td>\n",
       "    </tr>\n",
       "    <tr>\n",
       "      <th>3</th>\n",
       "      <td>0.0</td>\n",
       "    </tr>\n",
       "    <tr>\n",
       "      <th>4</th>\n",
       "      <td>0.0</td>\n",
       "    </tr>\n",
       "  </tbody>\n",
       "</table>\n",
       "</div>"
      ],
      "text/plain": [
       "   labels\n",
       "0     1.0\n",
       "1     0.0\n",
       "2     1.0\n",
       "3     0.0\n",
       "4     0.0"
      ]
     },
     "execution_count": 10,
     "metadata": {},
     "output_type": "execute_result"
    }
   ],
   "source": [
    "target.head()"
   ]
  },
  {
   "cell_type": "code",
   "execution_count": 11,
   "id": "fc46ea8f",
   "metadata": {},
   "outputs": [
    {
     "data": {
      "text/plain": [
       "<AxesSubplot:ylabel='count'>"
      ]
     },
     "execution_count": 11,
     "metadata": {},
     "output_type": "execute_result"
    },
    {
     "data": {
      "image/png": "[encoded data removed]",
      "text/plain": [
       "<Figure size 432x288 with 1 Axes>"
      ]
     },
     "metadata": {
      "needs_background": "light"
     },
     "output_type": "display_data"
    }
   ],
   "source": [
    "labels = pd.DataFrame(data=target, columns=['label'])\n",
    "counts = labels.value_counts()\n",
    "sns.countplot(data=counts,x=['cats','dogs'])"
   ]
  },
  {
   "cell_type": "code",
   "execution_count": 12,
   "id": "8bc3d251",
   "metadata": {},
   "outputs": [
    {
     "data": {
      "text/plain": [
       "<matplotlib.image.AxesImage at 0x7f9f7c1057f0>"
      ]
     },
     "execution_count": 12,
     "metadata": {},
     "output_type": "execute_result"
    },
    {
     "data": {
      "image/png": "[encoded data removed]",
      "text/plain": [
       "<Figure size 432x288 with 1 Axes>"
      ]
     },
     "metadata": {
      "needs_background": "light"
     },
     "output_type": "display_data"
    }
   ],
   "source": [
    "index= random.randint(0,24999)\n",
    "im = cv2.imread(train_filepath[index])\n",
    "im = cv2.cvtColor(im, cv2.COLOR_BGR2RGB)\n",
    "img = im\n",
    "plt.imshow(img)"
   ]
  },
  {
   "cell_type": "code",
   "execution_count": 13,
   "id": "c49b5361",
   "metadata": {},
   "outputs": [
    {
     "data": {
      "image/png": "[encoded data removed]",
      "text/plain": [
       "<Figure size 432x288 with 1 Axes>"
      ]
     },
     "metadata": {
      "needs_background": "light"
     },
     "output_type": "display_data"
    }
   ],
   "source": [
    "plt.figure()\n",
    "plt.imshow(data[index].reshape(64,64))\n",
    "plt.grid(False)\n",
    "plt.show()"
   ]
  },
  {
   "cell_type": "code",
   "execution_count": 14,
   "id": "bc44bfe1",
   "metadata": {},
   "outputs": [
    {
     "name": "stdout",
     "output_type": "stream",
     "text": [
      "Number of missing values in the df: 0\n"
     ]
    }
   ],
   "source": [
    "print(\"Number of missing values in the df:\",df.isnull().any().sum())"
   ]
  },
  {
   "cell_type": "code",
   "execution_count": 15,
   "id": "aa7c06fb",
   "metadata": {},
   "outputs": [
    {
     "name": "stdout",
     "output_type": "stream",
     "text": [
      "Number of missing values in the target set: 0\n"
     ]
    }
   ],
   "source": [
    "print(\"Number of missing values in the target set:\",target.isnull().any().sum())"
   ]
  },
  {
   "cell_type": "markdown",
   "id": "15a94b2a",
   "metadata": {},
   "source": [
    "## Preprocessing "
   ]
  },
  {
   "cell_type": "code",
   "execution_count": 16,
   "id": "e6e183a8",
   "metadata": {},
   "outputs": [
    {
     "data": {
      "text/html": [
       "<div>\n",
       "<style scoped>\n",
       "    .dataframe tbody tr th:only-of-type {\n",
       "        vertical-align: middle;\n",
       "    }\n",
       "\n",
       "    .dataframe tbody tr th {\n",
       "        vertical-align: top;\n",
       "    }\n",
       "\n",
       "    .dataframe thead th {\n",
       "        text-align: right;\n",
       "    }\n",
       "</style>\n",
       "<table border=\"1\" class=\"dataframe\">\n",
       "  <thead>\n",
       "    <tr style=\"text-align: right;\">\n",
       "      <th></th>\n",
       "      <th>0</th>\n",
       "      <th>1</th>\n",
       "      <th>2</th>\n",
       "      <th>3</th>\n",
       "      <th>4</th>\n",
       "      <th>5</th>\n",
       "      <th>6</th>\n",
       "      <th>7</th>\n",
       "      <th>8</th>\n",
       "      <th>9</th>\n",
       "      <th>...</th>\n",
       "      <th>4087</th>\n",
       "      <th>4088</th>\n",
       "      <th>4089</th>\n",
       "      <th>4090</th>\n",
       "      <th>4091</th>\n",
       "      <th>4092</th>\n",
       "      <th>4093</th>\n",
       "      <th>4094</th>\n",
       "      <th>4095</th>\n",
       "      <th>labels</th>\n",
       "    </tr>\n",
       "  </thead>\n",
       "  <tbody>\n",
       "    <tr>\n",
       "      <th>0</th>\n",
       "      <td>19</td>\n",
       "      <td>47</td>\n",
       "      <td>26</td>\n",
       "      <td>58</td>\n",
       "      <td>49</td>\n",
       "      <td>73</td>\n",
       "      <td>70</td>\n",
       "      <td>68</td>\n",
       "      <td>71</td>\n",
       "      <td>73</td>\n",
       "      <td>...</td>\n",
       "      <td>53</td>\n",
       "      <td>36</td>\n",
       "      <td>30</td>\n",
       "      <td>34</td>\n",
       "      <td>41</td>\n",
       "      <td>51</td>\n",
       "      <td>54</td>\n",
       "      <td>58</td>\n",
       "      <td>52</td>\n",
       "      <td>1.0</td>\n",
       "    </tr>\n",
       "    <tr>\n",
       "      <th>1</th>\n",
       "      <td>96</td>\n",
       "      <td>104</td>\n",
       "      <td>114</td>\n",
       "      <td>112</td>\n",
       "      <td>110</td>\n",
       "      <td>111</td>\n",
       "      <td>111</td>\n",
       "      <td>113</td>\n",
       "      <td>116</td>\n",
       "      <td>115</td>\n",
       "      <td>...</td>\n",
       "      <td>98</td>\n",
       "      <td>141</td>\n",
       "      <td>117</td>\n",
       "      <td>121</td>\n",
       "      <td>120</td>\n",
       "      <td>113</td>\n",
       "      <td>107</td>\n",
       "      <td>26</td>\n",
       "      <td>49</td>\n",
       "      <td>0.0</td>\n",
       "    </tr>\n",
       "    <tr>\n",
       "      <th>2</th>\n",
       "      <td>70</td>\n",
       "      <td>157</td>\n",
       "      <td>180</td>\n",
       "      <td>181</td>\n",
       "      <td>189</td>\n",
       "      <td>164</td>\n",
       "      <td>141</td>\n",
       "      <td>146</td>\n",
       "      <td>149</td>\n",
       "      <td>198</td>\n",
       "      <td>...</td>\n",
       "      <td>110</td>\n",
       "      <td>112</td>\n",
       "      <td>95</td>\n",
       "      <td>93</td>\n",
       "      <td>87</td>\n",
       "      <td>85</td>\n",
       "      <td>81</td>\n",
       "      <td>68</td>\n",
       "      <td>68</td>\n",
       "      <td>1.0</td>\n",
       "    </tr>\n",
       "    <tr>\n",
       "      <th>3</th>\n",
       "      <td>26</td>\n",
       "      <td>25</td>\n",
       "      <td>26</td>\n",
       "      <td>28</td>\n",
       "      <td>27</td>\n",
       "      <td>27</td>\n",
       "      <td>35</td>\n",
       "      <td>28</td>\n",
       "      <td>28</td>\n",
       "      <td>27</td>\n",
       "      <td>...</td>\n",
       "      <td>22</td>\n",
       "      <td>35</td>\n",
       "      <td>30</td>\n",
       "      <td>39</td>\n",
       "      <td>36</td>\n",
       "      <td>26</td>\n",
       "      <td>52</td>\n",
       "      <td>46</td>\n",
       "      <td>42</td>\n",
       "      <td>0.0</td>\n",
       "    </tr>\n",
       "    <tr>\n",
       "      <th>4</th>\n",
       "      <td>255</td>\n",
       "      <td>255</td>\n",
       "      <td>255</td>\n",
       "      <td>255</td>\n",
       "      <td>255</td>\n",
       "      <td>255</td>\n",
       "      <td>255</td>\n",
       "      <td>255</td>\n",
       "      <td>255</td>\n",
       "      <td>255</td>\n",
       "      <td>...</td>\n",
       "      <td>255</td>\n",
       "      <td>255</td>\n",
       "      <td>255</td>\n",
       "      <td>255</td>\n",
       "      <td>255</td>\n",
       "      <td>255</td>\n",
       "      <td>255</td>\n",
       "      <td>255</td>\n",
       "      <td>255</td>\n",
       "      <td>0.0</td>\n",
       "    </tr>\n",
       "  </tbody>\n",
       "</table>\n",
       "<p>5 rows × 4097 columns</p>\n",
       "</div>"
      ],
      "text/plain": [
       "     0    1    2    3    4    5    6    7    8    9  ...  4087  4088  4089  \\\n",
       "0   19   47   26   58   49   73   70   68   71   73  ...    53    36    30   \n",
       "1   96  104  114  112  110  111  111  113  116  115  ...    98   141   117   \n",
       "2   70  157  180  181  189  164  141  146  149  198  ...   110   112    95   \n",
       "3   26   25   26   28   27   27   35   28   28   27  ...    22    35    30   \n",
       "4  255  255  255  255  255  255  255  255  255  255  ...   255   255   255   \n",
       "\n",
       "   4090  4091  4092  4093  4094  4095  labels  \n",
       "0    34    41    51    54    58    52     1.0  \n",
       "1   121   120   113   107    26    49     0.0  \n",
       "2    93    87    85    81    68    68     1.0  \n",
       "3    39    36    26    52    46    42     0.0  \n",
       "4   255   255   255   255   255   255     0.0  \n",
       "\n",
       "[5 rows x 4097 columns]"
      ]
     },
     "execution_count": 16,
     "metadata": {},
     "output_type": "execute_result"
    }
   ],
   "source": [
    "# Adding the target dataframe to the images dataframe, just to see that the target values actually matches.\n",
    "df = pd.concat([df, target], axis=1)\n",
    "df.head()"
   ]
  },
  {
   "cell_type": "code",
   "execution_count": 17,
   "id": "7e537849",
   "metadata": {},
   "outputs": [
    {
     "data": {
      "text/plain": [
       "0.0    12500\n",
       "1.0    12500\n",
       "Name: labels, dtype: int64"
      ]
     },
     "execution_count": 17,
     "metadata": {},
     "output_type": "execute_result"
    }
   ],
   "source": [
    "df['labels'].value_counts()"
   ]
  },
  {
   "cell_type": "markdown",
   "id": "cb305945",
   "metadata": {},
   "source": [
    "<B> We can see that the data is balanced, so now we can start training the model.\n",
    "    "
   ]
  },
  {
   "cell_type": "code",
   "execution_count": 18,
   "id": "b509f91c",
   "metadata": {},
   "outputs": [],
   "source": [
    "# Droping the labels in order to get the target of the data.\n",
    "train = df.drop([\"labels\"], axis = 1)\n",
    "# Split the data to train and test\n",
    "from sklearn.model_selection import train_test_split\n",
    "X_train, X_test, y_train, y_test = train_test_split(train, target, test_size=0.3, random_state=0)"
   ]
  },
  {
   "cell_type": "code",
   "execution_count": 19,
   "id": "eeea35d9",
   "metadata": {},
   "outputs": [
    {
     "name": "stdout",
     "output_type": "stream",
     "text": [
      "The train set as: 17500 Samples\n"
     ]
    }
   ],
   "source": [
    "print(\"The train set as:\",len(X_train),\"Samples\")"
   ]
  },
  {
   "cell_type": "code",
   "execution_count": 20,
   "id": "9c6c987f",
   "metadata": {},
   "outputs": [
    {
     "name": "stdout",
     "output_type": "stream",
     "text": [
      "The test set as: 7500 Samples\n"
     ]
    }
   ],
   "source": [
    "print(\"The test set as:\",len(X_test),\"Samples\")"
   ]
  },
  {
   "cell_type": "code",
   "execution_count": 21,
   "id": "4cd251af",
   "metadata": {},
   "outputs": [],
   "source": [
    "X_train = X_train.astype(np.float32)\n",
    "X_test = X_test.astype(np.float32)\n",
    "# All the features have values between 0 to 255 so we normalize the data by dividing by 255.\n",
    "X_train/=255.\n",
    "X_test/=255."
   ]
  },
  {
   "cell_type": "markdown",
   "id": "3f9b56d5",
   "metadata": {},
   "source": [
    "<B> Lets try some models"
   ]
  },
  {
   "cell_type": "markdown",
   "id": "af571aa9",
   "metadata": {},
   "source": [
    "### KNN"
   ]
  },
  {
   "cell_type": "code",
   "execution_count": 41,
   "id": "479dfb19",
   "metadata": {},
   "outputs": [
    {
     "data": {
      "text/plain": [
       "[0.5505333333333333,\n",
       " 0.5374666666666666,\n",
       " 0.5624,\n",
       " 0.5437333333333333,\n",
       " 0.5653333333333334,\n",
       " 0.5565333333333333,\n",
       " 0.5742666666666667,\n",
       " 0.5624,\n",
       " 0.5762666666666667,\n",
       " 0.5669333333333333,\n",
       " 0.5792,\n",
       " 0.5730666666666666,\n",
       " 0.5848,\n",
       " 0.5766666666666667,\n",
       " 0.586,\n",
       " 0.5777333333333333,\n",
       " 0.5904,\n",
       " 0.5821333333333333,\n",
       " 0.5937333333333333,\n",
       " 0.5852,\n",
       " 0.5969333333333333,\n",
       " 0.5901333333333333,\n",
       " 0.5965333333333334,\n",
       " 0.5908,\n",
       " 0.5986666666666667,\n",
       " 0.5912,\n",
       " 0.5964,\n",
       " 0.5932,\n",
       " 0.594,\n",
       " 0.5909333333333333,\n",
       " 0.5945333333333334,\n",
       " 0.5913333333333334,\n",
       " 0.5969333333333333,\n",
       " 0.592,\n",
       " 0.5981333333333333,\n",
       " 0.5938666666666667,\n",
       " 0.6001333333333333,\n",
       " 0.5956,\n",
       " 0.6021333333333333,\n",
       " 0.6012,\n",
       " 0.6033333333333334,\n",
       " 0.5992,\n",
       " 0.6030666666666666,\n",
       " 0.5958666666666667,\n",
       " 0.6034666666666667,\n",
       " 0.5990666666666666,\n",
       " 0.6004,\n",
       " 0.6002666666666666,\n",
       " 0.6048]"
      ]
     },
     "execution_count": 41,
     "metadata": {},
     "output_type": "execute_result"
    }
   ],
   "source": [
    "from sklearn.neighbors import KNeighborsClassifier\n",
    "k_range = list(range(1, 50))\n",
    "acc = []\n",
    "for k in k_range:\n",
    "    knn = KNeighborsClassifier(n_neighbors=k)\n",
    "    knn.fit(X_train, y_train)\n",
    "    neigh_pred = knn.predict(X_test)\n",
    "    acc.append(metrics.accuracy_score(y_test, neigh_pred))\n",
    "acc"
   ]
  },
  {
   "cell_type": "code",
   "execution_count": 54,
   "id": "dffbdf9c",
   "metadata": {},
   "outputs": [
    {
     "name": "stdout",
     "output_type": "stream",
     "text": [
      "Classification Report:\n",
      "              precision    recall  f1-score   support\n",
      "\n",
      "         0.0       0.58      0.71      0.64      3728\n",
      "         1.0       0.64      0.50      0.56      3772\n",
      "\n",
      "    accuracy                           0.60      7500\n",
      "   macro avg       0.61      0.61      0.60      7500\n",
      "weighted avg       0.61      0.60      0.60      7500\n",
      "\n",
      "Accuracy: 0.6048\n"
     ]
    },
    {
     "data": {
      "image/png": "[encoded data removed]",
      "text/plain": [
       "<Figure size 432x288 with 2 Axes>"
      ]
     },
     "metadata": {
      "needs_background": "light"
     },
     "output_type": "display_data"
    }
   ],
   "source": [
    "# We got the highest score with 49 neighbors.\n",
    "confMatrix = confusion_matrix(y_test, neigh_pred)\n",
    "sns.heatmap(confMatrix, annot=True, fmt=\"d\",linecolor='black',linewidths=.2,cmap=\"YlGnBu\")\n",
    "result1 = classification_report(y_test, neigh_pred,zero_division=1)\n",
    "print(\"Classification Report:\",)\n",
    "print (result1)\n",
    "result2 = accuracy_score(y_test,neigh_pred)\n",
    "print(\"Accuracy:\",result2)"
   ]
  },
  {
   "cell_type": "markdown",
   "id": "bd0e638d",
   "metadata": {},
   "source": [
    "### Logistic Regression"
   ]
  },
  {
   "cell_type": "code",
   "execution_count": 55,
   "id": "da98d785",
   "metadata": {},
   "outputs": [],
   "source": [
    "from sklearn.linear_model import LogisticRegression\n",
    "clf = LogisticRegression(random_state=0)\n",
    "clf.fit(X_train,y_train)\n",
    "clf_pred=clf.predict(X_test)"
   ]
  },
  {
   "cell_type": "code",
   "execution_count": 56,
   "id": "f21ba538",
   "metadata": {},
   "outputs": [
    {
     "data": {
      "text/plain": [
       "0.5452"
      ]
     },
     "execution_count": 56,
     "metadata": {},
     "output_type": "execute_result"
    }
   ],
   "source": [
    "metrics.accuracy_score(y_test,clf_pred)"
   ]
  },
  {
   "cell_type": "code",
   "execution_count": 60,
   "id": "7e332b65",
   "metadata": {},
   "outputs": [
    {
     "name": "stdout",
     "output_type": "stream",
     "text": [
      "Classification Report:\n",
      "              precision    recall  f1-score   support\n",
      "\n",
      "         0.0       0.54      0.56      0.55      3728\n",
      "         1.0       0.55      0.53      0.54      3772\n",
      "\n",
      "    accuracy                           0.55      7500\n",
      "   macro avg       0.55      0.55      0.55      7500\n",
      "weighted avg       0.55      0.55      0.55      7500\n",
      "\n",
      "Accuracy: 0.5452\n"
     ]
    },
    {
     "data": {
      "image/png": "[encoded data removed]",
      "text/plain": [
       "<Figure size 432x288 with 2 Axes>"
      ]
     },
     "metadata": {
      "needs_background": "light"
     },
     "output_type": "display_data"
    }
   ],
   "source": [
    "confMatrix = confusion_matrix(y_test, clf_pred)\n",
    "sns.heatmap(confMatrix, annot=True, fmt=\"d\",linecolor='black',linewidths=.2,cmap=\"YlGnBu\")\n",
    "result1 = classification_report(y_test, clf_pred,zero_division=1)\n",
    "print(\"Classification Report:\",)\n",
    "print (result1)\n",
    "result2 = accuracy_score(y_test,clf_pred)\n",
    "print(\"Accuracy:\",result2)"
   ]
  },
  {
   "cell_type": "markdown",
   "id": "56265a2a",
   "metadata": {},
   "source": [
    "### Random Forest Classifier"
   ]
  },
  {
   "cell_type": "code",
   "execution_count": 57,
   "id": "fae099d5",
   "metadata": {},
   "outputs": [],
   "source": [
    "from sklearn.ensemble import RandomForestClassifier\n",
    "rf = RandomForestClassifier(random_state=10)\n",
    "rf.fit(X_train, y_train)\n",
    "rf_pred=rf.predict(X_test)"
   ]
  },
  {
   "cell_type": "code",
   "execution_count": 58,
   "id": "b53f3658",
   "metadata": {},
   "outputs": [
    {
     "data": {
      "text/plain": [
       "0.6474666666666666"
      ]
     },
     "execution_count": 58,
     "metadata": {},
     "output_type": "execute_result"
    }
   ],
   "source": [
    "metrics.accuracy_score(y_test,rf_pred)"
   ]
  },
  {
   "cell_type": "code",
   "execution_count": 59,
   "id": "d7fb4def",
   "metadata": {},
   "outputs": [
    {
     "name": "stdout",
     "output_type": "stream",
     "text": [
      "Classification Report:\n",
      "              precision    recall  f1-score   support\n",
      "\n",
      "         0.0       0.63      0.70      0.66      3728\n",
      "         1.0       0.67      0.60      0.63      3772\n",
      "\n",
      "    accuracy                           0.65      7500\n",
      "   macro avg       0.65      0.65      0.65      7500\n",
      "weighted avg       0.65      0.65      0.65      7500\n",
      "\n",
      "Accuracy: 0.6474666666666666\n"
     ]
    },
    {
     "data": {
      "image/png": "[encoded data removed]",
      "text/plain": [
       "<Figure size 432x288 with 2 Axes>"
      ]
     },
     "metadata": {
      "needs_background": "light"
     },
     "output_type": "display_data"
    }
   ],
   "source": [
    "confMatrix = confusion_matrix(y_test, rf_pred)\n",
    "sns.heatmap(confMatrix, annot=True, fmt=\"d\",linecolor='black',linewidths=.2,cmap=\"YlGnBu\")\n",
    "result1 = classification_report(y_test, rf_pred,zero_division=1)\n",
    "print(\"Classification Report:\",)\n",
    "print (result1)\n",
    "result2 = accuracy_score(y_test,rf_pred)\n",
    "print(\"Accuracy:\",result2)"
   ]
  },
  {
   "cell_type": "markdown",
   "id": "2ea0db77",
   "metadata": {},
   "source": [
    "### xgboost"
   ]
  },
  {
   "cell_type": "code",
   "execution_count": 62,
   "id": "60fbd82e",
   "metadata": {},
   "outputs": [],
   "source": [
    "import xgboost\n",
    "xgb=xgboost.XGBClassifier(n_estimators=150,eval_metric='mlogloss')\n",
    "xgb.fit(X_train,y_train)\n",
    "xgb_p=xgb.predict(X_test)"
   ]
  },
  {
   "cell_type": "code",
   "execution_count": 63,
   "id": "a0f7fd3b",
   "metadata": {},
   "outputs": [
    {
     "data": {
      "text/plain": [
       "0.6702666666666667"
      ]
     },
     "execution_count": 63,
     "metadata": {},
     "output_type": "execute_result"
    }
   ],
   "source": [
    "metrics.accuracy_score(y_test,xgb_p)"
   ]
  },
  {
   "cell_type": "code",
   "execution_count": 64,
   "id": "34e3bc8c",
   "metadata": {},
   "outputs": [
    {
     "name": "stdout",
     "output_type": "stream",
     "text": [
      "Classification Report:\n",
      "              precision    recall  f1-score   support\n",
      "\n",
      "         0.0       0.67      0.68      0.67      3728\n",
      "         1.0       0.68      0.66      0.67      3772\n",
      "\n",
      "    accuracy                           0.67      7500\n",
      "   macro avg       0.67      0.67      0.67      7500\n",
      "weighted avg       0.67      0.67      0.67      7500\n",
      "\n",
      "Accuracy: 0.6702666666666667\n"
     ]
    },
    {
     "data": {
      "image/png": "[encoded data removed]",
      "text/plain": [
       "<Figure size 432x288 with 2 Axes>"
      ]
     },
     "metadata": {
      "needs_background": "light"
     },
     "output_type": "display_data"
    }
   ],
   "source": [
    "confMatrix = confusion_matrix(y_test, xgb_p)\n",
    "sns.heatmap(confMatrix, annot=True, fmt=\"d\",linecolor='black',linewidths=.2,cmap=\"YlGnBu\")\n",
    "result1 = classification_report(y_test, xgb_p,zero_division=1)\n",
    "print(\"Classification Report:\",)\n",
    "print (result1)\n",
    "result2 = accuracy_score(y_test,xgb_p)\n",
    "print(\"Accuracy:\",result2)"
   ]
  },
  {
   "cell_type": "code",
   "execution_count": null,
   "id": "23f2511f",
   "metadata": {},
   "outputs": [],
   "source": []
  }
 ],
 "metadata": {
  "kernelspec": {
   "display_name": "Python 3",
   "language": "python",
   "name": "python3"
  },
  "language_info": {
   "codemirror_mode": {
    "name": "ipython",
    "version": 3
   },
   "file_extension": ".py",
   "mimetype": "text/x-python",
   "name": "python",
   "nbconvert_exporter": "python",
   "pygments_lexer": "ipython3",
   "version": "3.8.8"
  }
 },
 "nbformat": 4,
 "nbformat_minor": 5
}
